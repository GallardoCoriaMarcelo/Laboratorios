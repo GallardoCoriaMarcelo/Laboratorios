{
  "cells": [
    {
      "cell_type": "markdown",
      "metadata": {
        "id": "view-in-github",
        "colab_type": "text"
      },
      "source": [
        "<a href=\"https://colab.research.google.com/github/GallardoCoriaMarcelo/Laboratorios/blob/main/Laboratorio2_Reg-Log.ipynb\" target=\"_parent\"><img src=\"https://colab.research.google.com/assets/colab-badge.svg\" alt=\"Open In Colab\"/></a>"
      ]
    },
    {
      "cell_type": "markdown",
      "metadata": {
        "id": "9L0KhPHmJVNa"
      },
      "source": [
        "# Ejercicion de programación - Regresión Logistica\n",
        "\n",
        "En este ejercicio se implementa regresion logistica y se aplica a dos diferentes datasets."
      ]
    },
    {
      "cell_type": "code",
      "source": [
        "from google.colab import drive\n",
        "drive.mount('/content/drive')"
      ],
      "metadata": {
        "colab": {
          "base_uri": "https://localhost:8080/"
        },
        "id": "z5PQZyiqJhUu",
        "outputId": "56510026-98da-4d07-88b9-8c7615c237b1"
      },
      "execution_count": null,
      "outputs": [
        {
          "output_type": "stream",
          "name": "stdout",
          "text": [
            "Drive already mounted at /content/drive; to attempt to forcibly remount, call drive.mount(\"/content/drive\", force_remount=True).\n"
          ]
        }
      ]
    },
    {
      "cell_type": "code",
      "execution_count": 1,
      "metadata": {
        "id": "Eg6cIE74JVNd"
      },
      "outputs": [],
      "source": [
        "# se utiliza para el manejo de rutas y directorios.\n",
        "import os\n",
        "\n",
        "# Calculo cientifico y vectorial para python\n",
        "import numpy as np\n",
        "\n",
        "# Librerias para graficar\n",
        "from matplotlib import pyplot\n",
        "\n",
        "# Modulo de optimización de scipy\n",
        "from scipy import optimize\n",
        "\n",
        "# le dice a matplotlib que incruste gráficos en el cuaderno\n",
        "%matplotlib inline\n",
        "\n",
        "import pandas as pd"
      ]
    },
    {
      "cell_type": "markdown",
      "metadata": {
        "id": "t52vBnb_JVNe"
      },
      "source": [
        "## 1 Regresion Logistica\n",
        "\n",
        "En esta parte del ejercicio, creará un modelo de regresión logística para predecir si un estudiante será admitido en una universidad. Suponga que es el administrador de un departamento universitario y desea determinar las posibilidades de admisión de cada solicitante en función de sus resultados en dos exámenes. Tiene datos históricos de solicitantes anteriores que puede usar como un conjunto de capacitación para la regresión logística. Para cada ejemplo de capacitación, se tiene las calificaciones del solicitante en dos exámenes y la decisión de admisión. Su tarea es crear un modelo de clasificación que calcule la probabilidad de admisión de un solicitante en función de los puntajes de esos dos exámenes.\n",
        "\n",
        "La siguiente celda cargará los datos y las etiquetas correspondientes:"
      ]
    },
    {
      "cell_type": "code",
      "execution_count": 29,
      "metadata": {
        "colab": {
          "base_uri": "https://localhost:8080/"
        },
        "id": "WVzUelTXJVNe",
        "outputId": "a7d3d7cf-3072-4a0b-a970-30038744450b"
      },
      "outputs": [
        {
          "output_type": "stream",
          "name": "stdout",
          "text": [
            "       00  0000  0000000  000000000046  00021401  00c04fc295ee  01  0156250  \\\n",
            "13491   0     6        0             3         0             0   0        0   \n",
            "283     0     0        0             0         0             0   0        0   \n",
            "3265    0     0        0             0         0             0   0        0   \n",
            "16583   0     0        0             0         0             0   0        0   \n",
            "15081   0     0        0             0         0             0   0        0   \n",
            "...    ..   ...      ...           ...       ...           ...  ..      ...   \n",
            "15198   0     0        0             0         0             0   0        0   \n",
            "16061   0     0        0             0         0             0   0        0   \n",
            "3303    0     0        0             0         0             0   0        0   \n",
            "15549   0     0        0             0         0             0   0        0   \n",
            "18074   0     0        0             0         0             0   0        0   \n",
            "\n",
            "       02  03  ...  windowsruntime  winevt  wmiprvse  working  wow6432node  \\\n",
            "13491   0   0  ...               0       0         0        0            0   \n",
            "283     0   0  ...               0       0         0        0            0   \n",
            "3265    0   0  ...               0       0         0        0            0   \n",
            "16583   0   0  ...               0       0         0        0            0   \n",
            "15081   0   1  ...               0       0         0        0            0   \n",
            "...    ..  ..  ...             ...     ...       ...      ...          ...   \n",
            "15198   0   0  ...               0       0         0        0            0   \n",
            "16061   0   0  ...               0       0         0        0            0   \n",
            "3303    0   0  ...               0       0         0        0            0   \n",
            "15549   0   0  ...               0       0         0        0            0   \n",
            "18074   0   0  ...              39       0         0        0            0   \n",
            "\n",
            "       write  writefile  xaml  xls  zip  \n",
            "13491      0          0     0    0    0  \n",
            "283        0          0     0    0    2  \n",
            "3265       0          0     0    0    0  \n",
            "16583      0          0     0   28    0  \n",
            "15081      3          0     0    0    0  \n",
            "...      ...        ...   ...  ...  ...  \n",
            "15198      3          0     0    0    0  \n",
            "16061      5          0     0    0    0  \n",
            "3303       8          0     0    0    0  \n",
            "15549      6          0     0    0    0  \n",
            "18074      1          0     0    0    0  \n",
            "\n",
            "[19314 rows x 500 columns]\n",
            "13491    1\n",
            "283     -1\n",
            "3265     1\n",
            "16583   -1\n",
            "15081    1\n",
            "        ..\n",
            "15198    1\n",
            "16061   -1\n",
            "3303     1\n",
            "15549    1\n",
            "18074    1\n",
            "Name: labels, Length: 19314, dtype: int64\n"
          ]
        }
      ],
      "source": [
        "# Cargar datos\n",
        "# La primera columna contiene los resultados (labels) que se quieren predecir, 1=Goodware -1=Malware\n",
        "# Las X son caracteres de los programas, en total son 500 y se analiza la cantidad de veces que se reproducen\n",
        "url = 'https://raw.githubusercontent.com/GallardoCoriaMarcelo/Laboratorios/main/DynamicMalwareMatrix2.csv'\n",
        "data = pd.read_csv(url)\n",
        "#Selecciona el 80% del dataset para entrenamiento\n",
        "porcentaje = 0.8\n",
        "data_muestra = data.sample(frac=porcentaje, random_state=42)\n",
        "\n",
        "data.head()\n",
        "y = data_muestra.iloc[:, 0]      # Primera columna como Y\n",
        "X = data_muestra.iloc[:, 1:501]    # Demas columnas como X\n",
        "print(X)\n",
        "print(y)"
      ]
    },
    {
      "cell_type": "markdown",
      "metadata": {
        "id": "5wAs5p25JVNf"
      },
      "source": [
        "### 1.1 Visualizar los datos\n",
        "\n",
        "Antes de comenzar a implementar cualquier algoritmo de aprendizaje, siempre es bueno visualizar los datos si es posible. Mostramos los datos en una gráfica bidimensional llamando a la función `plotData`. Se completará el código en `plotData` para que muestre una figura donde los ejes son los dos puntajes de los dos examenes, los ejemplos positivos y negativos se muestran con diferentes marcadores."
      ]
    },
    {
      "cell_type": "code",
      "execution_count": 30,
      "metadata": {
        "id": "PU2IfSLdJVNf"
      },
      "outputs": [],
      "source": [
        "def plotData(X, y):\n",
        "    # Gragica los puntos de datos X y y en una nueva figura. Grafica los puntos de datos con * para los positivos y\n",
        "    # o para los negativos.\n",
        "\n",
        "    # Crea una nueva figura\n",
        "    fig = pyplot.figure()\n",
        "\n",
        "    # Find Indices of Positive and Negative Examples\n",
        "    pos = y == 1\n",
        "    neg = y == 0\n",
        "\n",
        "    # Plot Examples\n",
        "    pyplot.plot(X[pos, 0], X[pos, 1], 'k*', lw=2, ms=10)\n",
        "    pyplot.plot(X[neg, 0], X[neg, 1], 'ko', mfc='y', ms=8, mec='k', mew=1)\n"
      ]
    },
    {
      "cell_type": "markdown",
      "metadata": {
        "id": "llREAw-3JVNg"
      },
      "source": [
        "Se llama a la función implementada para mostrar los datos cargados:"
      ]
    },
    {
      "cell_type": "code",
      "execution_count": 12,
      "metadata": {
        "colab": {
          "base_uri": "https://localhost:8080/",
          "height": 807
        },
        "id": "8ynW5qI3JVNg",
        "outputId": "0e9348d0-5005-4ce0-d51a-f9a93e6a013a"
      },
      "outputs": [
        {
          "output_type": "error",
          "ename": "InvalidIndexError",
          "evalue": "(0        False\n1        False\n2        False\n3        False\n4         True\n         ...  \n24137    False\n24138    False\n24139     True\n24140     True\n24141    False\nName: labels, Length: 24142, dtype: bool, 0)",
          "traceback": [
            "\u001b[0;31m---------------------------------------------------------------------------\u001b[0m",
            "\u001b[0;31mTypeError\u001b[0m                                 Traceback (most recent call last)",
            "\u001b[0;32m/usr/local/lib/python3.10/dist-packages/pandas/core/indexes/base.py\u001b[0m in \u001b[0;36mget_loc\u001b[0;34m(self, key, method, tolerance)\u001b[0m\n\u001b[1;32m   3801\u001b[0m             \u001b[0;32mtry\u001b[0m\u001b[0;34m:\u001b[0m\u001b[0;34m\u001b[0m\u001b[0;34m\u001b[0m\u001b[0m\n\u001b[0;32m-> 3802\u001b[0;31m                 \u001b[0;32mreturn\u001b[0m \u001b[0mself\u001b[0m\u001b[0;34m.\u001b[0m\u001b[0m_engine\u001b[0m\u001b[0;34m.\u001b[0m\u001b[0mget_loc\u001b[0m\u001b[0;34m(\u001b[0m\u001b[0mcasted_key\u001b[0m\u001b[0;34m)\u001b[0m\u001b[0;34m\u001b[0m\u001b[0;34m\u001b[0m\u001b[0m\n\u001b[0m\u001b[1;32m   3803\u001b[0m             \u001b[0;32mexcept\u001b[0m \u001b[0mKeyError\u001b[0m \u001b[0;32mas\u001b[0m \u001b[0merr\u001b[0m\u001b[0;34m:\u001b[0m\u001b[0;34m\u001b[0m\u001b[0;34m\u001b[0m\u001b[0m\n",
            "\u001b[0;32m/usr/local/lib/python3.10/dist-packages/pandas/_libs/index.pyx\u001b[0m in \u001b[0;36mpandas._libs.index.IndexEngine.get_loc\u001b[0;34m()\u001b[0m\n",
            "\u001b[0;32m/usr/local/lib/python3.10/dist-packages/pandas/_libs/index.pyx\u001b[0m in \u001b[0;36mpandas._libs.index.IndexEngine.get_loc\u001b[0;34m()\u001b[0m\n",
            "\u001b[0;31mTypeError\u001b[0m: '(0        False\n1        False\n2        False\n3        False\n4         True\n         ...  \n24137    False\n24138    False\n24139     True\n24140     True\n24141    False\nName: labels, Length: 24142, dtype: bool, 0)' is an invalid key",
            "\nDuring handling of the above exception, another exception occurred:\n",
            "\u001b[0;31mInvalidIndexError\u001b[0m                         Traceback (most recent call last)",
            "\u001b[0;32m<ipython-input-12-86ee64286633>\u001b[0m in \u001b[0;36m<cell line: 1>\u001b[0;34m()\u001b[0m\n\u001b[0;32m----> 1\u001b[0;31m \u001b[0mplotData\u001b[0m\u001b[0;34m(\u001b[0m\u001b[0mX\u001b[0m\u001b[0;34m,\u001b[0m \u001b[0my\u001b[0m\u001b[0;34m)\u001b[0m\u001b[0;34m\u001b[0m\u001b[0;34m\u001b[0m\u001b[0m\n\u001b[0m\u001b[1;32m      2\u001b[0m \u001b[0;31m# adiciona etiquetas para los ejes\u001b[0m\u001b[0;34m\u001b[0m\u001b[0;34m\u001b[0m\u001b[0m\n\u001b[1;32m      3\u001b[0m \u001b[0mpyplot\u001b[0m\u001b[0;34m.\u001b[0m\u001b[0mxlabel\u001b[0m\u001b[0;34m(\u001b[0m\u001b[0;34m'Calificación Examen 1'\u001b[0m\u001b[0;34m)\u001b[0m\u001b[0;34m\u001b[0m\u001b[0;34m\u001b[0m\u001b[0m\n\u001b[1;32m      4\u001b[0m \u001b[0mpyplot\u001b[0m\u001b[0;34m.\u001b[0m\u001b[0mylabel\u001b[0m\u001b[0;34m(\u001b[0m\u001b[0;34m'Calificación Examen 2'\u001b[0m\u001b[0;34m)\u001b[0m\u001b[0;34m\u001b[0m\u001b[0;34m\u001b[0m\u001b[0m\n\u001b[1;32m      5\u001b[0m \u001b[0mpyplot\u001b[0m\u001b[0;34m.\u001b[0m\u001b[0mlegend\u001b[0m\u001b[0;34m(\u001b[0m\u001b[0;34m[\u001b[0m\u001b[0;34m'Admitido'\u001b[0m\u001b[0;34m,\u001b[0m \u001b[0;34m'No admitido'\u001b[0m\u001b[0;34m]\u001b[0m\u001b[0;34m)\u001b[0m\u001b[0;34m\u001b[0m\u001b[0;34m\u001b[0m\u001b[0m\n",
            "\u001b[0;32m<ipython-input-11-ebd57fb1963d>\u001b[0m in \u001b[0;36mplotData\u001b[0;34m(X, y)\u001b[0m\n\u001b[1;32m     11\u001b[0m \u001b[0;34m\u001b[0m\u001b[0m\n\u001b[1;32m     12\u001b[0m     \u001b[0;31m# Plot Examples\u001b[0m\u001b[0;34m\u001b[0m\u001b[0;34m\u001b[0m\u001b[0m\n\u001b[0;32m---> 13\u001b[0;31m     \u001b[0mpyplot\u001b[0m\u001b[0;34m.\u001b[0m\u001b[0mplot\u001b[0m\u001b[0;34m(\u001b[0m\u001b[0mX\u001b[0m\u001b[0;34m[\u001b[0m\u001b[0mpos\u001b[0m\u001b[0;34m,\u001b[0m \u001b[0;36m0\u001b[0m\u001b[0;34m]\u001b[0m\u001b[0;34m,\u001b[0m \u001b[0mX\u001b[0m\u001b[0;34m[\u001b[0m\u001b[0mpos\u001b[0m\u001b[0;34m,\u001b[0m \u001b[0;36m1\u001b[0m\u001b[0;34m]\u001b[0m\u001b[0;34m,\u001b[0m \u001b[0;34m'k*'\u001b[0m\u001b[0;34m,\u001b[0m \u001b[0mlw\u001b[0m\u001b[0;34m=\u001b[0m\u001b[0;36m2\u001b[0m\u001b[0;34m,\u001b[0m \u001b[0mms\u001b[0m\u001b[0;34m=\u001b[0m\u001b[0;36m10\u001b[0m\u001b[0;34m)\u001b[0m\u001b[0;34m\u001b[0m\u001b[0;34m\u001b[0m\u001b[0m\n\u001b[0m\u001b[1;32m     14\u001b[0m     \u001b[0mpyplot\u001b[0m\u001b[0;34m.\u001b[0m\u001b[0mplot\u001b[0m\u001b[0;34m(\u001b[0m\u001b[0mX\u001b[0m\u001b[0;34m[\u001b[0m\u001b[0mneg\u001b[0m\u001b[0;34m,\u001b[0m \u001b[0;36m0\u001b[0m\u001b[0;34m]\u001b[0m\u001b[0;34m,\u001b[0m \u001b[0mX\u001b[0m\u001b[0;34m[\u001b[0m\u001b[0mneg\u001b[0m\u001b[0;34m,\u001b[0m \u001b[0;36m1\u001b[0m\u001b[0;34m]\u001b[0m\u001b[0;34m,\u001b[0m \u001b[0;34m'ko'\u001b[0m\u001b[0;34m,\u001b[0m \u001b[0mmfc\u001b[0m\u001b[0;34m=\u001b[0m\u001b[0;34m'y'\u001b[0m\u001b[0;34m,\u001b[0m \u001b[0mms\u001b[0m\u001b[0;34m=\u001b[0m\u001b[0;36m8\u001b[0m\u001b[0;34m,\u001b[0m \u001b[0mmec\u001b[0m\u001b[0;34m=\u001b[0m\u001b[0;34m'k'\u001b[0m\u001b[0;34m,\u001b[0m \u001b[0mmew\u001b[0m\u001b[0;34m=\u001b[0m\u001b[0;36m1\u001b[0m\u001b[0;34m)\u001b[0m\u001b[0;34m\u001b[0m\u001b[0;34m\u001b[0m\u001b[0m\n",
            "\u001b[0;32m/usr/local/lib/python3.10/dist-packages/pandas/core/frame.py\u001b[0m in \u001b[0;36m__getitem__\u001b[0;34m(self, key)\u001b[0m\n\u001b[1;32m   3805\u001b[0m             \u001b[0;32mif\u001b[0m \u001b[0mself\u001b[0m\u001b[0;34m.\u001b[0m\u001b[0mcolumns\u001b[0m\u001b[0;34m.\u001b[0m\u001b[0mnlevels\u001b[0m \u001b[0;34m>\u001b[0m \u001b[0;36m1\u001b[0m\u001b[0;34m:\u001b[0m\u001b[0;34m\u001b[0m\u001b[0;34m\u001b[0m\u001b[0m\n\u001b[1;32m   3806\u001b[0m                 \u001b[0;32mreturn\u001b[0m \u001b[0mself\u001b[0m\u001b[0;34m.\u001b[0m\u001b[0m_getitem_multilevel\u001b[0m\u001b[0;34m(\u001b[0m\u001b[0mkey\u001b[0m\u001b[0;34m)\u001b[0m\u001b[0;34m\u001b[0m\u001b[0;34m\u001b[0m\u001b[0m\n\u001b[0;32m-> 3807\u001b[0;31m             \u001b[0mindexer\u001b[0m \u001b[0;34m=\u001b[0m \u001b[0mself\u001b[0m\u001b[0;34m.\u001b[0m\u001b[0mcolumns\u001b[0m\u001b[0;34m.\u001b[0m\u001b[0mget_loc\u001b[0m\u001b[0;34m(\u001b[0m\u001b[0mkey\u001b[0m\u001b[0;34m)\u001b[0m\u001b[0;34m\u001b[0m\u001b[0;34m\u001b[0m\u001b[0m\n\u001b[0m\u001b[1;32m   3808\u001b[0m             \u001b[0;32mif\u001b[0m \u001b[0mis_integer\u001b[0m\u001b[0;34m(\u001b[0m\u001b[0mindexer\u001b[0m\u001b[0;34m)\u001b[0m\u001b[0;34m:\u001b[0m\u001b[0;34m\u001b[0m\u001b[0;34m\u001b[0m\u001b[0m\n\u001b[1;32m   3809\u001b[0m                 \u001b[0mindexer\u001b[0m \u001b[0;34m=\u001b[0m \u001b[0;34m[\u001b[0m\u001b[0mindexer\u001b[0m\u001b[0;34m]\u001b[0m\u001b[0;34m\u001b[0m\u001b[0;34m\u001b[0m\u001b[0m\n",
            "\u001b[0;32m/usr/local/lib/python3.10/dist-packages/pandas/core/indexes/base.py\u001b[0m in \u001b[0;36mget_loc\u001b[0;34m(self, key, method, tolerance)\u001b[0m\n\u001b[1;32m   3807\u001b[0m                 \u001b[0;31m#  InvalidIndexError. Otherwise we fall through and re-raise\u001b[0m\u001b[0;34m\u001b[0m\u001b[0;34m\u001b[0m\u001b[0m\n\u001b[1;32m   3808\u001b[0m                 \u001b[0;31m#  the TypeError.\u001b[0m\u001b[0;34m\u001b[0m\u001b[0;34m\u001b[0m\u001b[0m\n\u001b[0;32m-> 3809\u001b[0;31m                 \u001b[0mself\u001b[0m\u001b[0;34m.\u001b[0m\u001b[0m_check_indexing_error\u001b[0m\u001b[0;34m(\u001b[0m\u001b[0mkey\u001b[0m\u001b[0;34m)\u001b[0m\u001b[0;34m\u001b[0m\u001b[0;34m\u001b[0m\u001b[0m\n\u001b[0m\u001b[1;32m   3810\u001b[0m                 \u001b[0;32mraise\u001b[0m\u001b[0;34m\u001b[0m\u001b[0;34m\u001b[0m\u001b[0m\n\u001b[1;32m   3811\u001b[0m \u001b[0;34m\u001b[0m\u001b[0m\n",
            "\u001b[0;32m/usr/local/lib/python3.10/dist-packages/pandas/core/indexes/base.py\u001b[0m in \u001b[0;36m_check_indexing_error\u001b[0;34m(self, key)\u001b[0m\n\u001b[1;32m   5923\u001b[0m             \u001b[0;31m# if key is not a scalar, directly raise an error (the code below\u001b[0m\u001b[0;34m\u001b[0m\u001b[0;34m\u001b[0m\u001b[0m\n\u001b[1;32m   5924\u001b[0m             \u001b[0;31m# would convert to numpy arrays and raise later any way) - GH29926\u001b[0m\u001b[0;34m\u001b[0m\u001b[0;34m\u001b[0m\u001b[0m\n\u001b[0;32m-> 5925\u001b[0;31m             \u001b[0;32mraise\u001b[0m \u001b[0mInvalidIndexError\u001b[0m\u001b[0;34m(\u001b[0m\u001b[0mkey\u001b[0m\u001b[0;34m)\u001b[0m\u001b[0;34m\u001b[0m\u001b[0;34m\u001b[0m\u001b[0m\n\u001b[0m\u001b[1;32m   5926\u001b[0m \u001b[0;34m\u001b[0m\u001b[0m\n\u001b[1;32m   5927\u001b[0m     \u001b[0;34m@\u001b[0m\u001b[0mcache_readonly\u001b[0m\u001b[0;34m\u001b[0m\u001b[0;34m\u001b[0m\u001b[0m\n",
            "\u001b[0;31mInvalidIndexError\u001b[0m: (0        False\n1        False\n2        False\n3        False\n4         True\n         ...  \n24137    False\n24138    False\n24139     True\n24140     True\n24141    False\nName: labels, Length: 24142, dtype: bool, 0)"
          ]
        },
        {
          "output_type": "display_data",
          "data": {
            "text/plain": [
              "<Figure size 640x480 with 0 Axes>"
            ]
          },
          "metadata": {}
        }
      ],
      "source": [
        "plotData(X, y)\n",
        "# adiciona etiquetas para los ejes\n",
        "pyplot.xlabel('Calificación Examen 1')\n",
        "pyplot.ylabel('Calificación Examen 2')\n",
        "pyplot.legend(['Admitido', 'No admitido'])\n",
        "pass"
      ]
    },
    {
      "cell_type": "markdown",
      "metadata": {
        "id": "Pfpf9aEFJVNg"
      },
      "source": [
        "<a id=\"section1\"></a>\n",
        "### 1.2 Implementacion\n",
        "\n",
        "#### 1.2.1 Fución Sigmoidea\n",
        "\n",
        "La hipotesis para la regresión logistica se define como:\n",
        "\n",
        "$$ h_\\theta(x) = g(\\theta^T x)$$\n",
        "\n",
        "donde la función $g$ is la función sigmoidea. La función sigmoidea se define como:\n",
        "\n",
        "$$g(z) = \\frac{1}{1+e^{-z}}$$.\n",
        "\n",
        "Los resultados que debe generar la funcion sigmoidea para valores positivos amplios de `x`, deben ser cercanos a 1, mientras que para valores negativos grandes, la sigmoide debe generar valores cercanos 0. La evaluacion de `sigmoid(0)` debe dar un resultado exacto de 0.5. Esta funcion tambien debe poder trabajar con vectores y matrices."
      ]
    },
    {
      "cell_type": "code",
      "execution_count": 31,
      "metadata": {
        "id": "pk9dV23xJVNh"
      },
      "outputs": [],
      "source": [
        "def sigmoid(z):\n",
        "    # Calcula la sigmoide de una entrada z\n",
        "    # convierte la intrada a un arreglo numpy\n",
        "    z = np.array(z)\n",
        "\n",
        "    g = np.zeros(z.shape)\n",
        "\n",
        "    g = 1 / (1 + np.exp(-z))\n",
        "\n",
        "    return g"
      ]
    },
    {
      "cell_type": "markdown",
      "metadata": {
        "id": "uRsBEhsWJVNh"
      },
      "source": [
        "Se calcula el valor de la sigmoide aplicando la funcion sigmoid con `z=0`, se debe obtener un resultado de 0.5. RE recomienda experimentar con otros valores de `z`."
      ]
    },
    {
      "cell_type": "code",
      "execution_count": 32,
      "metadata": {
        "colab": {
          "base_uri": "https://localhost:8080/"
        },
        "id": "uIPk61NLJVNh",
        "outputId": "e0d271dc-bdde-4b1b-bda3-958d9c0613fe"
      },
      "outputs": [
        {
          "output_type": "stream",
          "name": "stdout",
          "text": [
            "g( 21 ) =  0.9999999992417439\n"
          ]
        }
      ],
      "source": [
        "# Prueba la implementacion de la funcion sigmoid\n",
        "z = 21\n",
        "g = sigmoid(z)\n",
        "\n",
        "print('g(', z, ') = ', g)"
      ]
    },
    {
      "cell_type": "markdown",
      "metadata": {
        "id": "tDl3_8hvJVNi"
      },
      "source": [
        "<a id=\"section2\"></a>\n",
        "#### 1.2.2 Función de Costo y Gradiente\n",
        "\n",
        "Se implementa la funcion cost y gradient, para la regresión logistica. Antes de continuar es importante agregar el termino de intercepcion a X."
      ]
    },
    {
      "cell_type": "code",
      "execution_count": 33,
      "metadata": {
        "id": "ELtMkiYDJVNi"
      },
      "outputs": [],
      "source": [
        "# Configurar la matriz adecuadamente, y agregar una columna de unos que corresponde al termino de intercepción.\n",
        "m, n = X.shape\n",
        "# Agraga el termino de intercepción a A\n",
        "X = np.concatenate([np.ones((m, 1)), X], axis=1)"
      ]
    },
    {
      "cell_type": "markdown",
      "metadata": {
        "id": "dREHB51mJVNi"
      },
      "source": [
        "La funcion de costo en una regresión logistica es:\n",
        "\n",
        "$$ J(\\theta) = \\frac{1}{m} \\sum_{i=1}^{m} \\left[ -y^{(i)} \\log\\left(h_\\theta\\left( x^{(i)} \\right) \\right) - \\left( 1 - y^{(i)}\\right) \\log \\left( 1 - h_\\theta\\left( x^{(i)} \\right) \\right) \\right]$$\n",
        "\n",
        "y el gradiente del costo es un vector de la misma longitud como $\\theta$ donde el elemento $j^{th}$ (para $j = 0, 1, \\cdots , n$) se define como:\n",
        "\n",
        "$$ \\frac{\\partial J(\\theta)}{\\partial \\theta_j} = \\frac{1}{m} \\sum_{i=1}^m \\left( h_\\theta \\left( x^{(i)} \\right) - y^{(i)} \\right) x_j^{(i)} $$\n",
        "\n",
        "Si bien este gradiente parece idéntico al gradiente de regresión lineal, la fórmula es diferente porque la regresión lineal y logística tienen diferentes definiciones de $h_\\theta(x)$.\n",
        "<a id=\"costFunction\"></a>"
      ]
    },
    {
      "cell_type": "code",
      "execution_count": 34,
      "metadata": {
        "id": "iqDZRIgjJVNi"
      },
      "outputs": [],
      "source": [
        "def calcularCosto(theta, X, y):\n",
        "    # Inicializar algunos valores utiles\n",
        "    m = y.size  # numero de ejemplos de entrenamiento\n",
        "\n",
        "    J = 0\n",
        "    h = sigmoid(X.dot(theta.T))\n",
        "    J = (1 / m) * np.sum(-y.dot(np.log(h)) - (1 - y).dot(np.log(1 - h)))\n",
        "\n",
        "    return J"
      ]
    },
    {
      "cell_type": "code",
      "execution_count": 35,
      "metadata": {
        "id": "7G4SjTrwJVNi"
      },
      "outputs": [],
      "source": [
        "def descensoGradiente(theta, X, y, alpha, num_iters):\n",
        "    # Inicializa algunos valores\n",
        "    m = y.shape[0] # numero de ejemplos de entrenamiento\n",
        "\n",
        "    # realiza una copia de theta, el cual será acutalizada por el descenso por el gradiente\n",
        "    theta = theta.copy()\n",
        "    J_history = []\n",
        "\n",
        "    for i in range(num_iters):\n",
        "        h = sigmoid(X.dot(theta.T))\n",
        "        theta = theta - (alpha / m) * (h - y).dot(X)\n",
        "\n",
        "        J_history.append(calcularCosto(theta, X, y))\n",
        "    return theta, J_history"
      ]
    },
    {
      "cell_type": "code",
      "execution_count": 36,
      "metadata": {
        "scrolled": true,
        "colab": {
          "base_uri": "https://localhost:8080/",
          "height": 1000
        },
        "id": "rBUlehg6JVNi",
        "outputId": "2c41ad48-d855-4354-cd73-546271e62494"
      },
      "outputs": [
        {
          "output_type": "stream",
          "name": "stderr",
          "text": [
            "<ipython-input-34-9bf1ce321844>:7: RuntimeWarning: divide by zero encountered in log\n",
            "  J = (1 / m) * np.sum(-y.dot(np.log(h)) - (1 - y).dot(np.log(1 - h)))\n"
          ]
        },
        {
          "output_type": "stream",
          "name": "stdout",
          "text": [
            "theta calculado por el descenso por el gradiente: [-7.27363279e-03  2.57858422e-02 -3.10540528e-03 -4.64176577e-03\n",
            " -2.85193915e-03 -1.05547248e-03  4.80780602e-03  2.50958762e-02\n",
            " -4.46293413e-03 -9.96467544e-03  4.21334473e-03 -1.34457694e-02\n",
            " -7.60008282e-03 -4.07933835e-02 -1.35793421e-02  3.28243819e-02\n",
            "  1.41737584e-03  1.81666028e-02  1.68912428e-02  1.21321674e-02\n",
            " -2.79426661e-03 -1.26230681e-01  2.20975889e-02 -2.37296945e-02\n",
            "  4.25292023e-03  2.05727612e-02  2.71439580e-02  1.21798164e-01\n",
            " -2.01232692e-02  1.41737584e-03  5.92347283e-02 -1.08220928e-02\n",
            " -7.99651890e-03 -9.36578111e-04  4.79167855e-03  2.35234045e-02\n",
            " -4.46546375e-03 -1.59429430e-02 -8.66358373e-01 -2.46830741e-03\n",
            " -1.08857559e-02  1.65871826e-02 -6.51285719e-01 -5.89779497e-01\n",
            " -4.75774665e-01 -7.53646571e-03  5.64475805e-02 -3.64868854e-02\n",
            "  2.06629970e-02 -2.44094942e-02 -4.77883578e-02 -5.10402608e-04\n",
            "  2.21116849e-01 -1.95700276e-02 -3.40536440e-03 -3.76536415e-03\n",
            " -1.72150766e-02  1.55769782e-02  5.65639571e-03 -4.64283980e-03\n",
            "  8.22348534e-03 -7.47414625e-03  5.76710994e-03 -2.93435249e-02\n",
            "  3.58754137e-01 -4.67276515e-02 -5.24734459e-02 -6.15094184e-02\n",
            "  3.33336230e-03 -1.85162333e-02 -2.66933402e-02 -1.39554925e-02\n",
            "  2.42302747e-03 -3.85983667e-02  2.32246898e-02  1.93366602e-02\n",
            " -1.73038731e-02 -1.25254836e+00  2.18255557e-02  6.74495301e-02\n",
            "  1.34649810e-02  6.92377969e-02 -5.87711616e-03 -2.57107170e-02\n",
            " -1.23350006e-02  8.45833515e-03 -8.76898831e-03 -1.60529476e-03\n",
            "  4.96040986e-02 -1.10933692e-03 -1.89271389e-02 -1.18999543e-02\n",
            " -6.18376825e-02  5.76710994e-03  3.26768282e-02  1.31780978e-02\n",
            " -6.76859698e-03  8.69591861e-03 -1.53771991e-02  2.91569147e-03\n",
            "  7.36473296e-02 -5.06533495e-01 -2.56500409e-02  6.36724846e-02\n",
            "  1.63234664e-03 -2.10436777e-02 -5.32033948e-02  5.76710994e-03\n",
            "  3.60516597e-02  3.83048919e-02 -2.05480347e-02 -1.48683425e-02\n",
            "  6.46379104e-04  2.16239558e-02 -2.77665974e-03 -5.32528771e-04\n",
            "  1.34679699e-01  7.02317723e-01  7.62188840e-03  7.25084484e-01\n",
            "  1.56205941e-01  5.07044186e-01 -1.76319059e-02  3.59250226e-01\n",
            "  2.90703872e-02  2.77912503e-02  1.34649810e-02 -2.79426661e-03\n",
            "  8.46322292e-03 -2.02671850e-02 -3.36838501e-02  6.13763163e-03\n",
            " -4.29499140e-02  1.41602652e-02  1.36131129e-02 -1.20195563e-02\n",
            "  2.32852874e-03 -1.45691437e-02  1.32231948e-02  2.65732608e-02\n",
            " -2.05493810e-02 -9.88483792e-03  6.66571955e-04  2.90146837e-03\n",
            "  7.31860698e-02  1.27351170e-01  7.39609985e-02  6.99687270e-03\n",
            " -2.05683892e-02 -2.16754070e-01  8.45833515e-03  8.45833515e-03\n",
            "  2.85762377e-02 -3.29799126e-03 -1.37841524e-02  8.04479610e-03\n",
            " -2.20164012e-03 -2.05480347e-02 -6.51881336e-02 -2.65011946e-02\n",
            " -6.24133944e-03  2.20216166e-02 -9.93136467e-03  7.62188840e-03\n",
            "  7.62188840e-03  4.86143197e-03  7.62188840e-03 -6.18550718e-02\n",
            "  1.33830762e-02  5.93917485e-03 -2.79426661e-03 -2.79187726e-03\n",
            " -8.27122902e-02  2.24529597e-02  5.01353906e-02  1.12395987e-03\n",
            "  2.22359617e-02 -4.87884937e-02 -2.01588103e-02 -5.56928734e-02\n",
            " -1.82259113e-03 -4.15182681e-03 -7.88770898e-04  1.17395164e-02\n",
            "  2.97690702e-03  2.88068679e-02 -7.90390487e-02  6.78847550e-03\n",
            "  8.04487629e-03 -2.75411263e-02 -1.73084921e-02 -6.11715328e-03\n",
            " -2.05480347e-02 -2.05480347e-02  2.21441591e-02  2.02609718e-02\n",
            " -6.61485439e-04 -9.99898400e-03 -2.36760966e-02  5.29719657e-03\n",
            " -2.46894268e-02 -2.74405360e-03  1.34649810e-02 -2.79426661e-03\n",
            "  4.37776495e-02  7.48162994e-02 -6.44176047e-03  5.56289393e-03\n",
            " -9.13238559e-04 -1.09877999e-02 -8.48014835e-03  1.69834581e-02\n",
            "  1.75244475e-01 -1.22331341e-01 -1.27164797e-02  4.22398668e-02\n",
            " -1.42755983e-02 -4.64224801e-02 -3.74571836e-04  1.84155677e-02\n",
            " -1.37789031e-02 -1.88704115e-02  2.09122773e-02  5.66162387e-03\n",
            "  8.26753117e-03  5.64475805e-02  1.81026893e-02  3.16463517e-02\n",
            "  1.11951783e-03 -1.11016532e-02 -1.65814317e-02 -8.48014835e-03\n",
            " -1.28699337e-02 -3.36075301e-02  2.32258652e-03  2.64156968e-02\n",
            "  1.50250371e-03  9.47699753e-03  9.08795075e-03  1.02819635e-02\n",
            "  5.39032901e-03  7.62188840e-03  6.67404496e-03  2.49837931e-02\n",
            " -3.72488876e-03 -2.05480347e-02  5.49563941e-03 -1.94753213e-02\n",
            " -1.50607109e-02 -8.11655942e-03 -8.72772718e-02 -2.12383436e-02\n",
            " -2.88397014e-02 -1.42809613e-02 -5.97031418e-03 -9.67628399e-03\n",
            " -6.86812081e-02 -3.76669000e-03 -5.11344071e-02 -4.71149202e-03\n",
            " -2.88397014e-02  1.34649810e-02 -5.89294742e-03 -3.68584182e-03\n",
            " -8.93500106e-03 -1.13869098e-02 -4.75210353e-01 -1.71436024e-03\n",
            " -5.62056062e-02 -9.30052413e-01  1.03222077e-02  2.35249398e-02\n",
            "  8.45833515e-03  1.32850233e-01 -1.65838295e-02 -6.34957733e-03\n",
            " -1.66466440e-02 -1.47725594e-02 -8.48014835e-03 -1.99527309e-02\n",
            "  1.67246585e-02  3.85966017e-02  1.26650749e-03  3.87192150e-02\n",
            "  4.75376555e-03 -6.40406352e-03  2.12605651e-03  4.09499354e-02\n",
            " -6.88164556e-03  3.28410598e-04 -1.96517875e-01 -1.59992904e-01\n",
            " -1.08748726e-01  1.14377871e-02  2.65879764e-03 -7.78881382e-03\n",
            "  5.47642889e-03 -5.43412495e-03 -6.65955633e-03  9.08566585e-03\n",
            " -2.04443229e-04 -8.21379118e-03  1.54918953e-02  2.12998228e-02\n",
            " -2.12734239e-02  2.47764087e-03  3.92555937e-03 -5.17999844e-03\n",
            " -2.08230166e-02 -1.64731053e-04 -2.59907742e-02 -1.53627698e-02\n",
            "  1.22359090e-02  1.22359090e-02 -2.38885568e-03 -8.48014835e-03\n",
            " -8.48014835e-03  2.12243677e-02 -1.06246681e-02 -2.00953523e-02\n",
            "  1.53201906e-03 -6.04005329e-05  7.08531851e-03  2.39987528e-02\n",
            "  9.45598958e-04  1.89581468e-02 -8.09500791e-03  1.08160317e-03\n",
            " -2.74754438e-02 -1.22712116e-02 -5.57275524e-02  3.28412767e-02\n",
            " -2.03728400e-03  7.96965735e-02  1.12718697e-03 -8.89770494e-04\n",
            "  1.52701468e-01 -6.41861860e-03 -2.40412831e-04  3.15555370e-03\n",
            " -1.87454709e-02 -1.65825499e-02 -1.78760982e-02  1.93602933e-02\n",
            "  3.48542778e-02  3.95226826e-02  4.20750328e-02 -8.21595237e-03\n",
            " -8.11655942e-03 -3.82960390e-03 -1.14700814e-02 -8.34974261e-03\n",
            " -3.74733296e-03 -2.14471518e-03 -1.03038764e-01 -1.26379688e-02\n",
            " -1.17443376e-02 -5.59630434e-02 -1.24051931e-02 -1.06812796e-02\n",
            "  3.98153275e-03 -2.38885568e-03  2.23771433e-02  2.06239000e-02\n",
            "  5.52383661e-03  1.93580553e-02 -5.27112478e-03 -5.80893013e-03\n",
            "  4.36747302e-03 -8.17467738e-03  7.33685799e-02  7.54404132e-03\n",
            "  4.29991227e-03 -7.28956107e-03  5.73696674e-03 -3.53774244e-03\n",
            " -8.83417941e-04  4.62771400e-03  4.06042857e-02 -2.40561966e-02\n",
            "  7.26581659e-03 -2.43754658e-02 -1.47548235e-01  4.70420168e-03\n",
            " -2.46509635e-02  1.19116813e-02  9.30473735e-03 -1.22698649e-03\n",
            " -3.23807824e-02 -1.54942744e-03 -5.48930928e-03 -1.82922401e-01\n",
            " -5.84508553e-03 -6.78604547e-03 -2.41928086e-04 -8.73767845e-03\n",
            " -2.87644728e-02 -2.63779310e-02 -2.68626314e-02 -8.15135347e-03\n",
            " -5.00777378e-03 -3.83556112e-03  8.06701761e-04  7.32230999e-03\n",
            "  5.29076430e-03  3.39986327e-03  3.65505585e-03  1.81401248e-03\n",
            "  1.55920772e-02 -6.73446379e-03  2.23732576e-02 -7.76448015e-02\n",
            " -1.65265291e-01 -1.50519441e-02  1.22359090e-02 -1.19192862e-02\n",
            " -5.33537464e-03 -2.25533980e-03  7.51037658e-03 -7.06340106e-03\n",
            " -2.77093145e-03 -3.94339309e-03 -5.49035331e-03  6.76869526e-02\n",
            "  1.14760405e-02 -1.02665209e-02 -2.42842374e-03 -4.60405393e-03\n",
            "  6.94016411e-02 -4.93403903e-02 -3.18226540e-03 -3.20698301e-02\n",
            " -1.13130314e-02  3.04784197e-03 -2.45438837e-02  2.93716910e-02\n",
            " -1.11016532e-02 -2.74010397e-01 -2.68504843e-02  1.17634544e-02\n",
            "  6.66192355e-02 -6.57079345e-04 -1.02634646e-01  3.82826139e-03\n",
            "  1.25296555e-03 -3.83556112e-03  2.86100464e-03 -1.24856781e-02\n",
            " -1.12854720e-02  4.11278250e-03 -2.74784373e-02 -2.33732195e-01\n",
            "  7.48730558e-02  4.41359456e-03  3.48447999e-02 -1.65814317e-02\n",
            " -8.17467738e-03 -8.40675429e-03 -3.54791868e-03 -4.30176845e-02\n",
            " -1.05350786e-03 -1.58494193e-02 -8.65317311e-04 -4.87981681e-02\n",
            " -5.03274040e-03  2.34845795e-03 -6.85250715e-03 -2.42150351e-02\n",
            "  1.35141819e-03 -2.22337421e-04 -4.33396647e-02  3.47839204e-03\n",
            " -1.40126287e-02 -3.00049271e-03  1.31272307e-02  1.98534600e-02\n",
            " -3.20841154e-03  1.90932075e-03 -2.10721677e-02 -1.04670027e-02\n",
            " -1.25729865e-03 -7.26432164e-03 -1.70058582e-02 -1.73644669e-02\n",
            "  4.11278250e-03 -5.18771908e-03  9.19356747e-04 -1.35883226e-03\n",
            " -4.22111076e-02  8.68198457e-03  8.22327373e-03  1.83963334e-02\n",
            " -2.50043254e-03  4.67430608e-03 -2.46894268e-02 -2.21999026e-02\n",
            " -3.26434414e-03 -2.55855061e-03  1.09177635e-02 -2.85448444e-02\n",
            " -4.98600582e-02]\n"
          ]
        },
        {
          "output_type": "display_data",
          "data": {
            "text/plain": [
              "<Figure size 640x480 with 1 Axes>"
            ],
            "image/png": "[encoded data removed]"
          },
          "metadata": {}
        }
      ],
      "source": [
        "# Elegir algun valor para alpha (probar varias alternativas)\n",
        "alpha = 0.001\n",
        "num_iters = 100\n",
        "\n",
        "# inicializa theta y ejecuta el descenso por el gradiente\n",
        "theta = np.zeros(501)\n",
        "theta, J_history = descensoGradiente(theta, X, y, alpha, num_iters)\n",
        "\n",
        "# Grafica la convergencia del costo\n",
        "pyplot.plot(np.arange(len(J_history)), J_history, lw=2)\n",
        "pyplot.xlabel('Numero de iteraciones')\n",
        "pyplot.ylabel('Costo J')\n",
        "\n",
        "# Muestra los resultados del descenso por el gradiente\n",
        "print('theta calculado por el descenso por el gradiente: {:s}'.format(str(theta)))\n",
        "\n"
      ]
    },
    {
      "cell_type": "code",
      "source": [
        "#Selecciona el 20%restante para pruebas\n",
        "data_prueba = data.drop(data_muestra.index)\n",
        "\n",
        "y_prueba = data_prueba.iloc[:, 0]\n",
        "X_prueba = data_prueba.iloc[:, 1:501]\n",
        "\n",
        "# verificar si ingresa o no a la universidad\n",
        "X_array_prueba = X_prueba.values\n",
        "malware = sigmoid(np.dot(X_array_prueba, theta))   # Se debe cambiar esto\n",
        "\n",
        "print('Malware = -1, Goodware = 1'.format(malware))"
      ],
      "metadata": {
        "colab": {
          "base_uri": "https://localhost:8080/",
          "height": 211
        },
        "id": "Sny0SeifUf02",
        "outputId": "96c15575-e402-4675-e172-dffd9a595567"
      },
      "execution_count": 39,
      "outputs": [
        {
          "output_type": "error",
          "ename": "ValueError",
          "evalue": "shapes (4828,500) and (501,) not aligned: 500 (dim 1) != 501 (dim 0)",
          "traceback": [
            "\u001b[0;31m---------------------------------------------------------------------------\u001b[0m",
            "\u001b[0;31mValueError\u001b[0m                                Traceback (most recent call last)",
            "\u001b[0;32m<ipython-input-39-260e82eaf180>\u001b[0m in \u001b[0;36m<cell line: 9>\u001b[0;34m()\u001b[0m\n\u001b[1;32m      7\u001b[0m \u001b[0;31m# verificar si ingresa o no a la universidad\u001b[0m\u001b[0;34m\u001b[0m\u001b[0;34m\u001b[0m\u001b[0m\n\u001b[1;32m      8\u001b[0m \u001b[0mX_array_prueba\u001b[0m \u001b[0;34m=\u001b[0m \u001b[0mX_prueba\u001b[0m\u001b[0;34m.\u001b[0m\u001b[0mvalues\u001b[0m\u001b[0;34m\u001b[0m\u001b[0;34m\u001b[0m\u001b[0m\n\u001b[0;32m----> 9\u001b[0;31m \u001b[0mmalware\u001b[0m \u001b[0;34m=\u001b[0m \u001b[0msigmoid\u001b[0m\u001b[0;34m(\u001b[0m\u001b[0mnp\u001b[0m\u001b[0;34m.\u001b[0m\u001b[0mdot\u001b[0m\u001b[0;34m(\u001b[0m\u001b[0mX_array_prueba\u001b[0m\u001b[0;34m,\u001b[0m \u001b[0mtheta\u001b[0m\u001b[0;34m)\u001b[0m\u001b[0;34m)\u001b[0m   \u001b[0;31m# Se debe cambiar esto\u001b[0m\u001b[0;34m\u001b[0m\u001b[0;34m\u001b[0m\u001b[0m\n\u001b[0m\u001b[1;32m     10\u001b[0m \u001b[0;34m\u001b[0m\u001b[0m\n\u001b[1;32m     11\u001b[0m \u001b[0mprint\u001b[0m\u001b[0;34m(\u001b[0m\u001b[0;34m'Malware = -1, Goodware = 1'\u001b[0m\u001b[0;34m.\u001b[0m\u001b[0mformat\u001b[0m\u001b[0;34m(\u001b[0m\u001b[0mmalware\u001b[0m\u001b[0;34m)\u001b[0m\u001b[0;34m)\u001b[0m\u001b[0;34m\u001b[0m\u001b[0;34m\u001b[0m\u001b[0m\n",
            "\u001b[0;31mValueError\u001b[0m: shapes (4828,500) and (501,) not aligned: 500 (dim 1) != 501 (dim 0)"
          ]
        }
      ]
    },
    {
      "cell_type": "code",
      "execution_count": 25,
      "metadata": {
        "id": "C2Qew-sRJVNj"
      },
      "outputs": [],
      "source": [
        "def costFunction(theta, X, y):\n",
        "    # Inicializar algunos valores utiles\n",
        "    m = y.size  # numero de ejemplos de entrenamiento\n",
        "\n",
        "    J = 0\n",
        "    grad = np.zeros(theta.shape)\n",
        "\n",
        "    h = sigmoid(X.dot(theta.T))\n",
        "\n",
        "    J = (1 / m) * np.sum(-y.dot(np.log(h)) - (1 - y).dot(np.log(1 - h)))\n",
        "    grad = (1 / m) * (h - y).dot(X)\n",
        "\n",
        "    return J, grad"
      ]
    },
    {
      "cell_type": "markdown",
      "metadata": {
        "id": "1ioLXhR5JVNj"
      },
      "source": [
        "Se prueba la funcion `costFunction` utilizando dos casos de prueba para $\\theta$."
      ]
    },
    {
      "cell_type": "code",
      "execution_count": 26,
      "metadata": {
        "colab": {
          "base_uri": "https://localhost:8080/"
        },
        "id": "j7Fe_xEZJVNj",
        "outputId": "783a8f90-2f05-4330-968a-c71f998062f9"
      },
      "outputs": [
        {
          "output_type": "stream",
          "name": "stdout",
          "text": [
            "[0. 0. 0. 0. 0. 0. 0. 0. 0. 0. 0. 0. 0. 0. 0. 0. 0. 0. 0. 0. 0. 0. 0. 0.\n",
            " 0. 0. 0. 0. 0. 0. 0. 0. 0. 0. 0. 0. 0. 0. 0. 0. 0. 0. 0. 0. 0. 0. 0. 0.\n",
            " 0. 0. 0. 0. 0. 0. 0. 0. 0. 0. 0. 0. 0. 0. 0. 0. 0. 0. 0. 0. 0. 0. 0. 0.\n",
            " 0. 0. 0. 0. 0. 0. 0. 0. 0. 0. 0. 0. 0. 0. 0. 0. 0. 0. 0. 0. 0. 0. 0. 0.\n",
            " 0. 0. 0. 0. 0. 0. 0. 0. 0. 0. 0. 0. 0. 0. 0. 0. 0. 0. 0. 0. 0. 0. 0. 0.\n",
            " 0. 0. 0. 0. 0. 0. 0. 0. 0. 0. 0. 0. 0. 0. 0. 0. 0. 0. 0. 0. 0. 0. 0. 0.\n",
            " 0. 0. 0. 0. 0. 0. 0. 0. 0. 0. 0. 0. 0. 0. 0. 0. 0. 0. 0. 0. 0. 0. 0. 0.\n",
            " 0. 0. 0. 0. 0. 0. 0. 0. 0. 0. 0. 0. 0. 0. 0. 0. 0. 0. 0. 0. 0. 0. 0. 0.\n",
            " 0. 0. 0. 0. 0. 0. 0. 0. 0. 0. 0. 0. 0. 0. 0. 0. 0. 0. 0. 0. 0. 0. 0. 0.\n",
            " 0. 0. 0. 0. 0. 0. 0. 0. 0. 0. 0. 0. 0. 0. 0. 0. 0. 0. 0. 0. 0. 0. 0. 0.\n",
            " 0. 0. 0. 0. 0. 0. 0. 0. 0. 0. 0. 0. 0. 0. 0. 0. 0. 0. 0. 0. 0. 0. 0. 0.\n",
            " 0. 0. 0. 0. 0. 0. 0. 0. 0. 0. 0. 0. 0. 0. 0. 0. 0. 0. 0. 0. 0. 0. 0. 0.\n",
            " 0. 0. 0. 0. 0. 0. 0. 0. 0. 0. 0. 0. 0. 0. 0. 0. 0. 0. 0. 0. 0. 0. 0. 0.\n",
            " 0. 0. 0. 0. 0. 0. 0. 0. 0. 0. 0. 0. 0. 0. 0. 0. 0. 0. 0. 0. 0. 0. 0. 0.\n",
            " 0. 0. 0. 0. 0. 0. 0. 0. 0. 0. 0. 0. 0. 0. 0. 0. 0. 0. 0. 0. 0. 0. 0. 0.\n",
            " 0. 0. 0. 0. 0. 0. 0. 0. 0. 0. 0. 0. 0. 0. 0. 0. 0. 0. 0. 0. 0. 0. 0. 0.\n",
            " 0. 0. 0. 0. 0. 0. 0. 0. 0. 0. 0. 0. 0. 0. 0. 0. 0. 0. 0. 0. 0. 0. 0. 0.\n",
            " 0. 0. 0. 0. 0. 0. 0. 0. 0. 0. 0. 0. 0. 0. 0. 0. 0. 0. 0. 0. 0. 0. 0. 0.\n",
            " 0. 0. 0. 0. 0. 0. 0. 0. 0. 0. 0. 0. 0. 0. 0. 0. 0. 0. 0. 0. 0. 0. 0. 0.\n",
            " 0. 0. 0. 0. 0. 0. 0. 0. 0. 0. 0. 0. 0. 0. 0. 0. 0. 0. 0. 0. 0. 0. 0. 0.\n",
            " 0. 0. 0. 0. 0. 0. 0. 0. 0. 0. 0. 0. 0. 0. 0. 0. 0. 0. 0. 0. 0.]\n",
            "Costo en theta inicial (zeros): 0.693\n",
            "Costo esperado (aproximado): 0.693\n",
            "\n",
            "[ 4.83597051e-01  7.82868031e-01  2.86140336e-01  1.09166598e-01\n",
            "  1.07012675e-01  5.85287052e-02 -2.34239085e-02 -1.18010107e-01\n",
            "  9.26600944e-02  4.62161379e-01  1.42448844e-01  4.89168254e-01\n",
            "  8.68776406e-01  9.88650485e-01  6.46052523e-01  1.81965040e-01\n",
            "  9.30950211e-02  2.99043161e-01 -7.58636401e-02 -3.38621490e-02\n",
            "  1.05894292e-01  4.88101649e+00 -1.12293928e-01  8.46595145e-01\n",
            "  4.68892387e-02 -1.33957419e-01 -3.22446359e-01 -6.78257808e-01\n",
            "  2.92146467e-01  9.30950211e-02 -4.05310248e-02  1.69310745e-01\n",
            "  1.86190042e-01  1.15897606e-01  3.02377599e-03  1.22769447e+00\n",
            "  7.81211167e-02  6.59700936e-01  1.34016030e+01  4.31074476e-01\n",
            "  1.73722144e-01 -1.07240494e-01  1.04792271e+01  9.94335598e+00\n",
            "  7.46363184e+00  1.72334521e-01 -4.79599867e-01  8.95866125e-01\n",
            " -1.12604590e-01  3.70681799e-01  1.52054511e+00  8.65296993e-02\n",
            " -1.03243310e+00  5.57700273e-01  4.43066026e-01  5.83526634e-01\n",
            "  6.78485627e-01 -7.49109436e-02  5.09485544e-03  6.10968437e-01\n",
            " -3.98889901e-02  4.07215641e-01  1.93438820e-02  7.15516527e-01\n",
            " -1.80784525e+00  8.79670284e-01  1.03135614e+00  1.22272388e+00\n",
            " -4.87946318e-02  6.09663657e-01  1.00132549e+00  2.16241405e-01\n",
            "  1.84740287e-02  8.90439897e-01  5.27317538e-01 -1.00281667e-01\n",
            "  2.40990804e-01  1.86566150e+01 -1.27371386e-01 -5.24832243e-01\n",
            " -8.50799437e-02 -3.82486952e-01  3.86525557e-01  3.84785850e-01\n",
            "  1.76207439e-01 -4.96023527e-02  6.76828763e-01  5.85494160e-02\n",
            " -2.63420595e-01  6.84491757e-02  5.54780051e-01  1.81364427e-01\n",
            "  1.25977549e+00  1.93438820e-02  2.03545688e-01  3.16750891e-01\n",
            "  2.58781377e-01 -4.29748985e-02  5.80751388e-01  2.10835888e-02\n",
            " -3.82466241e-01  7.51745920e+00  7.21419104e-01 -6.13805816e-01\n",
            "  8.90771270e-02  6.72520918e-01  8.03993041e-01  1.93438820e-02\n",
            "  1.86438572e-01 -7.78518764e-02  3.51752133e-01  2.29309916e-01\n",
            "  3.96694557e-01  4.15251429e-02  6.50940270e-02  5.65611797e-02\n",
            " -5.01221937e-01 -3.95288294e+00 -2.10628780e-02 -4.69292105e+00\n",
            " -8.64530693e-01 -2.58553558e+00  2.63462016e-01 -2.34466904e+00\n",
            "  7.39396073e-01 -3.38787176e-01 -8.50799437e-02  1.05894292e-01\n",
            " -4.96230635e-02  5.16920719e-01  5.56188385e-01 -7.00024853e-02\n",
            "  1.08408583e+00 -7.60707481e-02 -4.14008781e-02  4.16991136e-01\n",
            "  7.24877806e-03  3.04676497e-01 -6.90912103e-02 -1.86459283e-01\n",
            "  3.95472620e-01  2.53769365e-01  7.13486869e-02  2.83737884e-03\n",
            " -1.97788087e-01 -7.00149118e-01 -2.69654544e-01 -1.52431447e-02\n",
            "  3.20375280e-01  3.31318863e+00 -4.96023527e-02 -4.96023527e-02\n",
            " -1.61005716e-01  7.61121697e-02  2.23075967e-01 -4.95816420e-02\n",
            "  8.84765140e-02  3.51752133e-01  1.12302212e+00  3.84413056e-01\n",
            "  1.03698948e-01 -1.01793555e-01  2.31028912e-01 -2.10628780e-02\n",
            " -2.10628780e-02 -7.84939110e-03 -2.10628780e-02  8.97875072e-01\n",
            " -8.28017563e-02  2.92022202e-03  1.05894292e-01  1.05873581e-01\n",
            "  6.21104300e+00 -1.51416618e-01 -3.95762571e-01  2.64186894e-01\n",
            " -1.05272968e-01  8.65897606e-01  1.18037031e+00  1.47311739e+00\n",
            "  8.46243062e-02  1.02746251e-01  5.39101980e-02  1.31368569e-01\n",
            "  2.01308922e-02 -3.19381161e-01  1.30747245e+00  1.04838042e-01\n",
            " -3.50426642e-02  3.93173722e-01  1.39828929e+00  1.04693066e-01\n",
            "  3.51752133e-01  3.51752133e-01 -1.29401044e-01 -2.15226576e-01\n",
            "  3.56225665e-02  1.49573358e-01  3.37565239e-01  2.43641786e-01\n",
            "  6.79645431e-01  1.05604341e-01 -8.50799437e-02  1.05894292e-01\n",
            " -1.99569215e-01 -3.89404358e-01  1.72251678e-01 -5.02858090e-02\n",
            "  5.16941430e-02  1.78071411e-01  4.59158313e-01 -8.94913429e-02\n",
            " -1.80316461e+00  4.47804656e+00  7.96330047e-01  1.44441223e+00\n",
            "  2.59858338e-01  7.94569630e-01  4.87117886e-02 -7.65678071e-02\n",
            "  3.94561345e-01  3.78696877e-01 -2.28170823e-01  4.94428796e-01\n",
            " -6.20495402e-02 -4.79599867e-01 -9.36127910e-02 -2.89329799e-01\n",
            "  4.06760003e-02  8.77226410e-01  6.61026427e-01  4.59158313e-01\n",
            "  1.89814431e-01  5.82718913e-01  5.22947560e-02  1.95603098e+00\n",
            "  2.93471958e-02  6.08421009e-01  2.34760997e+00 -4.98508823e-02\n",
            " -6.34785850e-02 -2.10628780e-02 -3.64924198e-02  7.18892387e-01\n",
            "  1.37540386e-01  3.51752133e-01  2.58097921e-01  2.84069257e-01\n",
            "  8.38372960e-01  2.83758595e-01  6.04927098e+00  4.89955265e-01\n",
            "  4.47643112e-01  7.32105874e-01  4.76907464e-01  9.00919559e-01\n",
            "  3.99084583e+00  1.35490017e-01  1.26928175e+00  1.48786347e-01\n",
            "  4.47643112e-01 -8.50799437e-02  5.93467815e-01  1.29504598e-01\n",
            "  3.03061055e-01  1.97166763e-01  2.64139674e+01  4.11316378e-02\n",
            "  1.09344710e+00  1.90344421e+01 -5.04514953e-02 -2.15620081e-01\n",
            " -4.96023527e-02 -7.44843012e-01  5.74289620e-01  4.67939690e-01\n",
            "  6.62393339e-01  6.53280590e-01  4.59158313e-01  4.08209759e-01\n",
            "  6.39963549e-03 -2.10214564e-01  8.68403612e-02 -4.70135034e-02\n",
            "  4.03239168e-02  3.29550162e-01  3.27023445e-02 -5.10521084e-01\n",
            "  9.94118134e-02  1.11921133e-01  9.50704167e+00  6.08240825e+00\n",
            "  6.32250849e+00  4.85821390e+00  2.51221937e-02  5.38335681e-01\n",
            "  3.01010687e-01  1.81944329e-01  1.18279347e-01  2.50414216e-01\n",
            "  3.42349433e-02  2.65553807e-01  3.31579819e-01  1.53044487e+00\n",
            "  5.64576257e-01  2.99478088e-02  5.71410819e-02  7.31650236e-01\n",
            "  8.86711954e-01  1.25610968e-01  7.35336758e-01  3.86546268e-01\n",
            "  1.38762323e-03  1.38762323e-03  9.20801922e-02  4.59158313e-01\n",
            "  4.59158313e-01 -8.49763897e-02  1.73639301e-01  4.06438986e+00\n",
            "  4.97059067e-02  5.62298070e-02  4.96458454e-01  1.76228150e-01\n",
            "  6.43898600e-02 -1.01068677e-01  3.28493911e-01  2.30718250e-02\n",
            "  3.89072985e-01  2.15164444e-01  1.47340734e+00 -3.02356888e-01\n",
            "  5.17769862e-02  5.16626626e+00  4.52116643e-02  5.78659597e-02\n",
            " -7.90178941e-01  5.16133709e-01  6.23602021e-02  1.19542706e-01\n",
            "  2.65346699e-01  2.34073399e-01  2.53603678e-01 -8.07720984e-02\n",
            "  3.07741695e-01 -2.56648165e-01  5.96822964e-01  4.02203629e-01\n",
            "  2.83758595e-01  1.03036202e-01  1.82047883e-01  1.04121448e+00\n",
            "  1.34578742e-01  6.40377765e-02  2.88022948e+00  7.92684947e-01\n",
            "  7.85021953e-01  8.48852622e-01  2.89309088e-01  8.83128987e-01\n",
            "  2.45340071e-01  9.20801922e-02 -1.48952034e-01 -2.26182586e-01\n",
            " -1.08524563e-02  3.10661917e-03  2.89785436e-01  2.79595725e-01\n",
            " -2.03172894e-02  3.29032392e-01 -4.33704747e-01 -6.88012592e-02\n",
            "  1.14447850e-01  1.72293099e-01 -9.00919559e-03  4.65185155e-01\n",
            "  1.68689421e-01  1.06991964e-01 -2.33576340e-01  6.76766631e-01\n",
            "  5.14849640e-01  6.79624720e-01  5.18345622e+00  1.24057659e-02\n",
            "  6.78278519e-01  6.21530942e-02 -5.57120371e-03  8.39822716e-02\n",
            "  4.75064203e-01  5.02236766e-02  7.49937868e-02  8.46762903e+00\n",
            "  4.14008781e-01  4.70280010e-01  3.45870268e-02  2.89164112e-01\n",
            "  4.44640046e-01  4.24612708e-01  4.10516941e+00  3.25925773e-01\n",
            "  9.59241156e-01  1.89876564e-01  4.13180350e-02  2.92974899e-01\n",
            "  2.35481733e-02  3.47133626e-01  1.84108607e+00  2.50600613e-02\n",
            "  7.48902328e-02  1.78464916e-01 -1.22255820e-01  5.14497556e+00\n",
            "  7.08532847e+00  2.77232624e+00  1.38762323e-03  1.96690415e-01\n",
            "  6.83062712e-01  1.77491509e-01 -5.19012509e-02  1.48082180e-01\n",
            "  6.29401044e-02  1.54419684e-01  1.25445282e-01 -3.19671113e-01\n",
            " -3.32408251e-02  2.47452572e-01  8.24496728e-02  1.53342722e-01\n",
            " -3.73891972e-01  1.35792395e+00  1.81778643e-01  1.25729020e+00\n",
            "  2.05388949e-01  2.51843261e-02  6.82752050e-01  1.65421258e+00\n",
            "  8.77226410e-01  5.11009858e+00  5.91521001e-01 -5.17148538e-02\n",
            " -5.10769613e-01  3.65131306e-02  9.44845083e+00  5.09485544e-03\n",
            "  3.70101897e-02  1.89876564e-01  2.97614116e-02  1.83621904e-01\n",
            "  1.96814680e-01  3.36343302e-02  4.49113578e-01  1.76868735e+01\n",
            "  2.28440063e-01  3.50219534e-02  6.44519924e-02  6.61026427e-01\n",
            "  3.29032392e-01  3.31994035e-01  1.38451661e-01  4.13252837e+00\n",
            "  9.26600944e-02  3.65048463e-01  8.31331290e-02  8.99179853e-01\n",
            "  1.10492088e-01  7.11830006e-02  1.96048380e-01  4.37411979e-01\n",
            "  5.18391185e-02  3.78179107e-02  1.34696794e+00 -1.57609146e-02\n",
            "  1.97829509e-01  9.39027421e-02  8.63350178e-01 -1.11589761e-01\n",
            "  1.80163201e-01  8.18697705e-02  3.34334355e-01  5.85597714e-01\n",
            "  5.32267418e-02  5.52004805e-01  2.38464087e-01  1.38700191e+00\n",
            "  3.36343302e-02  1.11299809e-01  4.82561511e-02  8.84350924e-02\n",
            "  8.57281915e+00 -3.77971999e-02 -3.98682793e-02 -9.31571535e-02\n",
            "  6.57360616e-02  3.95783282e-02  6.79645431e-01  3.43177864e-01\n",
            "  6.02870516e-01  6.78692735e-02 -5.73067683e-02  4.32068594e-01\n",
            "  8.95161958e-01]\n",
            "Gradiente en theta inicial (zeros):\n",
            "\t[0.4836, 0.7829, 0.2861]\n",
            "Gradiente esperado (aproximado):\n",
            "\t[-0.1000, -12.0092, -11.2628]\n",
            "\n"
          ]
        }
      ],
      "source": [
        "# Inicializacion de parametros de ajuste\n",
        "initial_theta = np.zeros(n+1)\n",
        "print(initial_theta)\n",
        "cost, grad = costFunction(initial_theta, X, y)\n",
        "\n",
        "print('Costo en theta inicial (zeros): {:.3f}'.format(cost))\n",
        "print('Costo esperado (aproximado): 0.693\\n')\n",
        "print(grad)\n",
        "print('Gradiente en theta inicial (zeros):')\n",
        "print('\\t[{:.4f}, {:.4f}, {:.4f}]'.format(*grad))\n",
        "print('Gradiente esperado (aproximado):\\n\\t[-0.1000, -12.0092, -11.2628]\\n')\n",
        "\n"
      ]
    },
    {
      "cell_type": "code",
      "execution_count": 27,
      "metadata": {
        "colab": {
          "base_uri": "https://localhost:8080/",
          "height": 349
        },
        "id": "4Um8ITq2JVNj",
        "outputId": "79c633d3-1ade-4e5c-ab72-6275142e2b17"
      },
      "outputs": [
        {
          "output_type": "stream",
          "name": "stdout",
          "text": [
            "[-24.    0.2   0.2]\n"
          ]
        },
        {
          "output_type": "error",
          "ename": "ValueError",
          "evalue": "shapes (24142,501) and (3,) not aligned: 501 (dim 1) != 3 (dim 0)",
          "traceback": [
            "\u001b[0;31m---------------------------------------------------------------------------\u001b[0m",
            "\u001b[0;31mValueError\u001b[0m                                Traceback (most recent call last)",
            "\u001b[0;32m<ipython-input-27-8dc3d123e49b>\u001b[0m in \u001b[0;36m<cell line: 6>\u001b[0;34m()\u001b[0m\n\u001b[1;32m      4\u001b[0m \u001b[0;31m#test_theta = np.array([-11.74749157, 0.09927308, 0.09316497])\u001b[0m\u001b[0;34m\u001b[0m\u001b[0;34m\u001b[0m\u001b[0m\n\u001b[1;32m      5\u001b[0m \u001b[0mprint\u001b[0m\u001b[0;34m(\u001b[0m\u001b[0mtest_theta\u001b[0m\u001b[0;34m)\u001b[0m\u001b[0;34m\u001b[0m\u001b[0;34m\u001b[0m\u001b[0m\n\u001b[0;32m----> 6\u001b[0;31m \u001b[0mcost\u001b[0m\u001b[0;34m,\u001b[0m \u001b[0mgrad\u001b[0m \u001b[0;34m=\u001b[0m \u001b[0mcostFunction\u001b[0m\u001b[0;34m(\u001b[0m\u001b[0mtest_theta\u001b[0m\u001b[0;34m,\u001b[0m \u001b[0mX\u001b[0m\u001b[0;34m,\u001b[0m \u001b[0my\u001b[0m\u001b[0;34m)\u001b[0m\u001b[0;34m\u001b[0m\u001b[0;34m\u001b[0m\u001b[0m\n\u001b[0m\u001b[1;32m      7\u001b[0m \u001b[0;34m\u001b[0m\u001b[0m\n\u001b[1;32m      8\u001b[0m \u001b[0mprint\u001b[0m\u001b[0;34m(\u001b[0m\u001b[0;34m'Costo en theta prueba: {:.3f}'\u001b[0m\u001b[0;34m.\u001b[0m\u001b[0mformat\u001b[0m\u001b[0;34m(\u001b[0m\u001b[0mcost\u001b[0m\u001b[0;34m)\u001b[0m\u001b[0;34m)\u001b[0m\u001b[0;34m\u001b[0m\u001b[0;34m\u001b[0m\u001b[0m\n",
            "\u001b[0;32m<ipython-input-25-e3041c0335d8>\u001b[0m in \u001b[0;36mcostFunction\u001b[0;34m(theta, X, y)\u001b[0m\n\u001b[1;32m      6\u001b[0m     \u001b[0mgrad\u001b[0m \u001b[0;34m=\u001b[0m \u001b[0mnp\u001b[0m\u001b[0;34m.\u001b[0m\u001b[0mzeros\u001b[0m\u001b[0;34m(\u001b[0m\u001b[0mtheta\u001b[0m\u001b[0;34m.\u001b[0m\u001b[0mshape\u001b[0m\u001b[0;34m)\u001b[0m\u001b[0;34m\u001b[0m\u001b[0;34m\u001b[0m\u001b[0m\n\u001b[1;32m      7\u001b[0m \u001b[0;34m\u001b[0m\u001b[0m\n\u001b[0;32m----> 8\u001b[0;31m     \u001b[0mh\u001b[0m \u001b[0;34m=\u001b[0m \u001b[0msigmoid\u001b[0m\u001b[0;34m(\u001b[0m\u001b[0mX\u001b[0m\u001b[0;34m.\u001b[0m\u001b[0mdot\u001b[0m\u001b[0;34m(\u001b[0m\u001b[0mtheta\u001b[0m\u001b[0;34m.\u001b[0m\u001b[0mT\u001b[0m\u001b[0;34m)\u001b[0m\u001b[0;34m)\u001b[0m\u001b[0;34m\u001b[0m\u001b[0;34m\u001b[0m\u001b[0m\n\u001b[0m\u001b[1;32m      9\u001b[0m \u001b[0;34m\u001b[0m\u001b[0m\n\u001b[1;32m     10\u001b[0m     \u001b[0mJ\u001b[0m \u001b[0;34m=\u001b[0m \u001b[0;34m(\u001b[0m\u001b[0;36m1\u001b[0m \u001b[0;34m/\u001b[0m \u001b[0mm\u001b[0m\u001b[0;34m)\u001b[0m \u001b[0;34m*\u001b[0m \u001b[0mnp\u001b[0m\u001b[0;34m.\u001b[0m\u001b[0msum\u001b[0m\u001b[0;34m(\u001b[0m\u001b[0;34m-\u001b[0m\u001b[0my\u001b[0m\u001b[0;34m.\u001b[0m\u001b[0mdot\u001b[0m\u001b[0;34m(\u001b[0m\u001b[0mnp\u001b[0m\u001b[0;34m.\u001b[0m\u001b[0mlog\u001b[0m\u001b[0;34m(\u001b[0m\u001b[0mh\u001b[0m\u001b[0;34m)\u001b[0m\u001b[0;34m)\u001b[0m \u001b[0;34m-\u001b[0m \u001b[0;34m(\u001b[0m\u001b[0;36m1\u001b[0m \u001b[0;34m-\u001b[0m \u001b[0my\u001b[0m\u001b[0;34m)\u001b[0m\u001b[0;34m.\u001b[0m\u001b[0mdot\u001b[0m\u001b[0;34m(\u001b[0m\u001b[0mnp\u001b[0m\u001b[0;34m.\u001b[0m\u001b[0mlog\u001b[0m\u001b[0;34m(\u001b[0m\u001b[0;36m1\u001b[0m \u001b[0;34m-\u001b[0m \u001b[0mh\u001b[0m\u001b[0;34m)\u001b[0m\u001b[0;34m)\u001b[0m\u001b[0;34m)\u001b[0m\u001b[0;34m\u001b[0m\u001b[0;34m\u001b[0m\u001b[0m\n",
            "\u001b[0;31mValueError\u001b[0m: shapes (24142,501) and (3,) not aligned: 501 (dim 1) != 3 (dim 0)"
          ]
        }
      ],
      "source": [
        "# Calcula y muestra el costo y el gradiente con valores de theta diferentes a cero\n",
        "\n",
        "test_theta = np.array([-24, 0.2, 0.2])\n",
        "#test_theta = np.array([-11.74749157, 0.09927308, 0.09316497])\n",
        "print(test_theta)\n",
        "cost, grad = costFunction(test_theta, X, y)\n",
        "\n",
        "print('Costo en theta prueba: {:.3f}'.format(cost))\n",
        "print('Costo esperado (aproximado): 0.218\\n')\n",
        "\n",
        "print('Gradiente en theta prueba:')\n",
        "print('\\t[{:.3f}, {:.3f}, {:.3f}]'.format(*grad))\n",
        "print('Gradiente esperado (aproximado):\\n\\t[0.043, 2.566, 2.647]')"
      ]
    },
    {
      "cell_type": "markdown",
      "metadata": {
        "id": "7AeXffwpJVNj"
      },
      "source": [
        "#### 1.2.3 Parámetros de aprendizaje usando `scipy.optimize`\n",
        "\n",
        "En el codigo anterior se encontró los parámetros óptimos de un modelo de regresión lineal al implementar el descenso de gradiente. Se implemento una función de costo y se calculó su gradiente, utilizando el algoritmo del descenso por el gradiente.\n",
        "\n",
        "En lugar de realizar los pasos del descenso por el gradiente, se utilizará el [módulo `scipy.optimize`] (https://docs.scipy.org/doc/scipy/reference/optimize.html). SciPy es una biblioteca de computación numérica para `python`. Proporciona un módulo de optimización para la búsqueda y minimización de raíces. A partir de `scipy 1.0`, la función` scipy.optimize.minimize` es el método a utilizar para problemas de optimización (tanto restringidos como no restringidos).\n",
        "\n",
        "For logistic regression, you want to optimize the cost function $J(\\theta)$ with parameters $\\theta$.\n",
        "Concretely, you are going to use `optimize.minimize` to find the best parameters $\\theta$ for the logistic regression cost function, given a fixed dataset (of X and y values). You will pass to `optimize.minimize` the following inputs:\n",
        "\n",
        "Para la regresión logística, se desea optimizar la función de costo $J(\\theta)$ con los parámetros $\\theta$.\n",
        "Concretamente, se va a utilizar `optimize.minimize` para encontrar los mejores parámetros $\\theta$ para la función de costo de regresión logística, dado un dataset fijo (de valores X e y). Se pasara a `optimize.minimize` las siguientes entradas:\n",
        "\n",
        "- `costFunction`: Una función de costo que, cuando se le da el dataset de entrenamiento y un $\\theta$ particular, calcula el costo de regresión logística y el gradiente con respecto a $\\theta$ para el dataset(X, y). Es importante tener en cuenta que solo se pasa el nombre de la función sin el paréntesis. Esto indica que solo proporcionamos una referencia a esta función y no evaluamos el resultado de esta función.\n",
        "- `initial_theta`: Los valores iniciales de los parametros que se tratan de optimizar.\n",
        "- `(X, y)`: Estos son argumentos adicionales a la funcion de costo.\n",
        "- `jac`: Indicación si la función de costo devuelve el jacobiano (gradiente) junto con el valor de costo. (True)\n",
        "- `method`: Método / algoritmo de optimización a utilizar\n",
        "- `options`: Opciones adicionales que pueden ser específicas del método de optimización específico. Solo se indica al algoritmo el número máximo de iteraciones antes de que termine.\n",
        "\n",
        "Si se ha completado la `costFunction` correctamente,`optimize.minimize` convergerá en los parámetros de optimización correctos y devolverá los valores finales del costo y $\\theta$ en un objeto de clase.\n",
        "\n",
        "Al usar `optimize.minimize`, no se tuvo que escribir ningún bucle ni establecer una tasa de aprendizaje como se hizo para el descenso de gradientes. Todo esto se hace mediante `optimize.minimize`: solo se necesita proporcionar una función que calcule el costo y el gradiente.\n",
        "\n",
        "A continuación, se tiene el código para llamar a `optimize.minimize` con los argumentos correctos."
      ]
    },
    {
      "cell_type": "code",
      "execution_count": null,
      "metadata": {
        "scrolled": true,
        "colab": {
          "base_uri": "https://localhost:8080/"
        },
        "id": "sB2xAu03JVNj",
        "outputId": "660e3a3b-95a2-4ba7-d1c8-650ce256c0f7"
      },
      "outputs": [
        {
          "output_type": "stream",
          "name": "stdout",
          "text": [
            "Costo con un valor de theta encontrado por optimize.minimize: 0.203\n",
            "Costo esperado (aproximado): 0.203\n",
            "\n",
            "theta:\n",
            "\t[-25.161, 0.206, 0.201]\n",
            "Theta esperado (aproximado):\n",
            "\t[-25.161, 0.206, 0.201]\n"
          ]
        }
      ],
      "source": [
        "# Establecer las opciones para optimize.minimize\n",
        "options= {'maxiter': 1000}\n",
        "\n",
        "# revisar la documentacion de scipy's optimize.minimize para mayor descripcion de los parametros\n",
        "# La funcion devuekve un objeto `OptimizeResult`\n",
        "# Se utiliza el algoritmo de Newton truncado para la optimización.\n",
        "res = optimize.minimize(costFunction,\n",
        "                        initial_theta,\n",
        "                        (X, y),\n",
        "                        jac=True,\n",
        "                        method='TNC',\n",
        "                        options=options)\n",
        "\n",
        "# la propiedad fun del objeto devuelto por `OptimizeResult`\n",
        "# contiene el valor del costFunction de un theta optimizado\n",
        "cost = res.fun\n",
        "\n",
        "# Theta optimizada esta en la propiedad x\n",
        "theta = res.x\n",
        "\n",
        "# Imprimir theta en la pantalla\n",
        "print('Costo con un valor de theta encontrado por optimize.minimize: {:.3f}'.format(cost))\n",
        "print('Costo esperado (aproximado): 0.203\\n');\n",
        "\n",
        "print('theta:')\n",
        "print('\\t[{:.3f}, {:.3f}, {:.3f}]'.format(*theta))\n",
        "print('Theta esperado (aproximado):\\n\\t[-25.161, 0.206, 0.201]')"
      ]
    },
    {
      "cell_type": "markdown",
      "metadata": {
        "id": "1DlPL874JVNk"
      },
      "source": [
        "Una vez que se completa `optimize.minimize`, se usa el valor final de $\\theta$ para visualizar el límite de decisión en los datos de entrenamiento.\n",
        "\n",
        "Para hacerlo, se implementa la función `plotDecisionBoundary` para trazar el límite de decisión sobre los datos de entrenamiento."
      ]
    },
    {
      "cell_type": "code",
      "execution_count": null,
      "metadata": {
        "id": "_mDWAzqxJVNk"
      },
      "outputs": [],
      "source": [
        "def plotDecisionBoundary(plotData, theta, X, y):\n",
        "    \"\"\"\n",
        "    Grafica los puntos X y Y en una nueva figura con un limite de desicion definido por theta.\n",
        "    the data points X and y into a new figure with the decision boundary defined by theta.\n",
        "    Grafica los puntos con * para los ejemplos positivos y con o para los ejemplos negativos.\n",
        "\n",
        "    Parametros:\n",
        "    ----------\n",
        "    plotData : func\n",
        "        A function reference for plotting the X, y data.\n",
        "\n",
        "    theta : array_like\n",
        "        Parametros para la regresion logistica. Un vecto de la forma (n+1, ).\n",
        "\n",
        "    X : array_like\n",
        "        Data set de entrada. Se supone que X es una de las siguientes:\n",
        "            1) Matriz Mx3, donde la primera columna es una columna de unos para intercepción.\n",
        "            2) Matriz MxN, N> 3, donde la primera columna son todos unos.\n",
        "\n",
        "    y : array_like\n",
        "        Vector de datos de etiquetas de la forma (m, ).\n",
        "    \"\"\"\n",
        "    # hacer que theta sera un arreglo numpy\n",
        "    theta = np.array(theta)\n",
        "\n",
        "    # Graficar los datos (recordar que la primera columna en X es la intercepción)\n",
        "    plotData(X[:, 1:3], y)\n",
        "\n",
        "    if X.shape[1] <= 3:\n",
        "        # Solo se requieren 2 puntos para definir una linea, para lo cual se eligen dos puntos finales\n",
        "        plot_x = np.array([np.min(X[:, 1]) - 2, np.max(X[:, 1]) + 2])\n",
        "\n",
        "        # Calcular la línea límite de decisión\n",
        "        plot_y = (-1. / theta[2]) * (theta[1] * plot_x + theta[0])\n",
        "\n",
        "        print(plot_x)\n",
        "        print(plot_y)\n",
        "        # Graficar y ajustar los ejes para una mejor visualización\n",
        "        pyplot.plot(plot_x, plot_y)\n",
        "\n",
        "        # Leyenda, especifica para el ejercicio\n",
        "        pyplot.legend(['Admitido', 'No admitido', 'Limite de decisión'])\n",
        "        pyplot.xlim([30, 100])\n",
        "        pyplot.ylim([30, 100])\n",
        "    else:\n",
        "        # Rango de la grilla\n",
        "        u = np.linspace(-1, 1.5, 50)\n",
        "        v = np.linspace(-1, 1.5, 50)\n",
        "\n",
        "        z = np.zeros((u.size, v.size))\n",
        "        # Evalua z = theta*x sobre la grilla\n",
        "        for i, ui in enumerate(u):\n",
        "            for j, vj in enumerate(v):\n",
        "                z[i, j] = np.dot(mapFeature(ui, vj), theta)\n",
        "\n",
        "        z = z.T  # importante transponer z antes de llamar al contorno\n",
        "        # print(z)\n",
        "\n",
        "        # Plot z = 0\n",
        "        pyplot.contour(u, v, z, levels=[0], linewidths=2, colors='g')\n",
        "        pyplot.contourf(u, v, z, levels=[np.min(z), 0, np.max(z)], cmap='Greens', alpha=0.4)\n"
      ]
    },
    {
      "cell_type": "code",
      "execution_count": null,
      "metadata": {
        "colab": {
          "base_uri": "https://localhost:8080/",
          "height": 305
        },
        "id": "Q6oQNi0CJVNk",
        "outputId": "8eb89e7f-450e-4f5a-d818-de72cdaf5cb5"
      },
      "outputs": [
        {
          "output_type": "stream",
          "name": "stdout",
          "text": [
            "[ 28.05882245 101.8278578 ]\n",
            "[96.16598102 20.65402806]\n"
          ]
        },
        {
          "output_type": "display_data",
          "data": {
            "text/plain": [
              "<Figure size 432x288 with 1 Axes>"
            ],
            "image/png": "[encoded data removed]"
          },
          "metadata": {
            "needs_background": "light"
          }
        }
      ],
      "source": [
        "# Graficar limites\n",
        "plotDecisionBoundary(plotData, theta, X, y)"
      ]
    },
    {
      "cell_type": "markdown",
      "metadata": {
        "id": "nj6vynAtJVNk"
      },
      "source": [
        "<a id=\"section4\"></a>\n",
        "#### 1.2.4 Evaluación de la regresión logistica\n",
        "\n",
        "Después de aprender los parámetros, se puede usar el modelo para predecir si un estudiante en particular será admitido. Para un estudiante con una puntuación en el Examen 1 de 45 y una puntuación en el Examen 2 de 85, debe esperar ver una probabilidad de admisión de 0,776. Otra forma de evaluar la calidad de los parámetros que hemos encontrado es ver qué tan bien predice el modelo aprendido en nuestro conjunto de entrenamiento."
      ]
    },
    {
      "cell_type": "code",
      "execution_count": null,
      "metadata": {
        "id": "0xz73RAdJVNk"
      },
      "outputs": [],
      "source": [
        "def predict(theta, X):\n",
        "    \"\"\"\n",
        "    Predecir si la etiqueta es 0 o 1 mediante regresión logística aprendida.\n",
        "    Calcula las predicciones para X usando un umbral en 0.5 (es decir, si sigmoide (theta.T * x)> = 0.5, predice 1)\n",
        "\n",
        "    Parametros\n",
        "    ----------\n",
        "    theta : array_like\n",
        "        Parametros para regresion logistica. Un vecto de la forma (n+1, ).\n",
        "\n",
        "    X : array_like\n",
        "        Datos utilizados para el calculo de las predicciones.\n",
        "        La fila es el numero de los puntos para calcular las predicciones,\n",
        "        y las columnas con el numero de caracteristicas.\n",
        "\n",
        "    Devuelve\n",
        "    -------\n",
        "    p : array_like\n",
        "        Predicciones y 0 o 1 para cada fila en X.\n",
        "    \"\"\"\n",
        "    m = X.shape[0] # Numero de ejemplo de entrenamiento\n",
        "\n",
        "    p = np.zeros(m)\n",
        "\n",
        "    p = np.round(sigmoid(X.dot(theta.T)))\n",
        "    return p"
      ]
    },
    {
      "cell_type": "markdown",
      "metadata": {
        "id": "w5PnbHiWJVNk"
      },
      "source": [
        "Una vez entrenado el modelo se procede a realizar la prediccion y evaluación de los resultados de predecir cual es el valor que vota el modelo para todos los datos utilizados en el entrenamiento."
      ]
    },
    {
      "cell_type": "code",
      "execution_count": null,
      "metadata": {
        "colab": {
          "base_uri": "https://localhost:8080/"
        },
        "id": "VcAxVqIWJVNk",
        "outputId": "2cabf34a-0feb-4fef-ee04-8ea24c84636a"
      },
      "outputs": [
        {
          "output_type": "stream",
          "name": "stdout",
          "text": [
            "Para un estudiante con notas de 45 y 85, se predice una probabilidad de admisión de: 0.776%\n",
            "Valor esperado: 0.775 +/- 0.002\n",
            "\n",
            "Precisión de entrenamiento: 89.00 %\n",
            "Precisión esperada (aproximadamente): 89.00 %\n"
          ]
        }
      ],
      "source": [
        "#  Predice la probabilidad de ingreso para un estudiante con nota de 45 en el examen 1 y nota de 85 en el examen 2\n",
        "prob = sigmoid(np.dot([1, 45, 85], theta))\n",
        "print('Para un estudiante con notas de 45 y 85, se predice una probabilidad de admisión de: {:.3f}%'.format(prob))\n",
        "print('Valor esperado: 0.775 +/- 0.002\\n')\n",
        "\n",
        "# Compute accuracy on our training set\n",
        "p = predict(theta, X)\n",
        "print('Precisión de entrenamiento: {:.2f} %'.format(np.mean(p == y) * 100))\n",
        "print('Precisión esperada (aproximadamente): 89.00 %')"
      ]
    }
  ],
  "metadata": {
    "kernelspec": {
      "display_name": "Python 3",
      "language": "python",
      "name": "python3"
    },
    "language_info": {
      "codemirror_mode": {
        "name": "ipython",
        "version": 3
      },
      "file_extension": ".py",
      "mimetype": "text/x-python",
      "name": "python",
      "nbconvert_exporter": "python",
      "pygments_lexer": "ipython3",
      "version": "3.8.5"
    },
    "colab": {
      "provenance": [],
      "include_colab_link": true
    }
  },
  "nbformat": 4,
  "nbformat_minor": 0
}