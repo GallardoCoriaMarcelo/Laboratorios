{
  "cells": [
    {
      "cell_type": "markdown",
      "metadata": {
        "id": "view-in-github",
        "colab_type": "text"
      },
      "source": [
        "<a href=\"https://colab.research.google.com/github/GallardoCoriaMarcelo/Laboratorios/blob/main/Laboratorio2_Reg-Log.ipynb\" target=\"_parent\"><img src=\"https://colab.research.google.com/assets/colab-badge.svg\" alt=\"Open In Colab\"/></a>"
      ]
    },
    {
      "cell_type": "markdown",
      "metadata": {
        "id": "9L0KhPHmJVNa"
      },
      "source": [
        "# Ejercicion de programación - Regresión Logistica\n",
        "\n",
        "En este ejercicio se implementa regresion logistica y se aplica a dos diferentes datasets."
      ]
    },
    {
      "cell_type": "code",
      "source": [
        "from google.colab import drive\n",
        "drive.mount('/content/drive')"
      ],
      "metadata": {
        "colab": {
          "base_uri": "https://localhost:8080/",
          "height": 304
        },
        "id": "z5PQZyiqJhUu",
        "outputId": "fc1014b0-e74f-48ae-b08d-5bbab9e34f8e"
      },
      "execution_count": 2,
      "outputs": [
        {
          "output_type": "error",
          "ename": "MessageError",
          "evalue": "Error: credential propagation was unsuccessful",
          "traceback": [
            "\u001b[0;31m---------------------------------------------------------------------------\u001b[0m",
            "\u001b[0;31mMessageError\u001b[0m                              Traceback (most recent call last)",
            "\u001b[0;32m<ipython-input-2-d5df0069828e>\u001b[0m in \u001b[0;36m<cell line: 2>\u001b[0;34m()\u001b[0m\n\u001b[1;32m      1\u001b[0m \u001b[0;32mfrom\u001b[0m \u001b[0mgoogle\u001b[0m\u001b[0;34m.\u001b[0m\u001b[0mcolab\u001b[0m \u001b[0;32mimport\u001b[0m \u001b[0mdrive\u001b[0m\u001b[0;34m\u001b[0m\u001b[0;34m\u001b[0m\u001b[0m\n\u001b[0;32m----> 2\u001b[0;31m \u001b[0mdrive\u001b[0m\u001b[0;34m.\u001b[0m\u001b[0mmount\u001b[0m\u001b[0;34m(\u001b[0m\u001b[0;34m'/content/drive'\u001b[0m\u001b[0;34m)\u001b[0m\u001b[0;34m\u001b[0m\u001b[0;34m\u001b[0m\u001b[0m\n\u001b[0m",
            "\u001b[0;32m/usr/local/lib/python3.10/dist-packages/google/colab/drive.py\u001b[0m in \u001b[0;36mmount\u001b[0;34m(mountpoint, force_remount, timeout_ms, readonly)\u001b[0m\n\u001b[1;32m     98\u001b[0m \u001b[0;32mdef\u001b[0m \u001b[0mmount\u001b[0m\u001b[0;34m(\u001b[0m\u001b[0mmountpoint\u001b[0m\u001b[0;34m,\u001b[0m \u001b[0mforce_remount\u001b[0m\u001b[0;34m=\u001b[0m\u001b[0;32mFalse\u001b[0m\u001b[0;34m,\u001b[0m \u001b[0mtimeout_ms\u001b[0m\u001b[0;34m=\u001b[0m\u001b[0;36m120000\u001b[0m\u001b[0;34m,\u001b[0m \u001b[0mreadonly\u001b[0m\u001b[0;34m=\u001b[0m\u001b[0;32mFalse\u001b[0m\u001b[0;34m)\u001b[0m\u001b[0;34m:\u001b[0m\u001b[0;34m\u001b[0m\u001b[0;34m\u001b[0m\u001b[0m\n\u001b[1;32m     99\u001b[0m   \u001b[0;34m\"\"\"Mount your Google Drive at the specified mountpoint path.\"\"\"\u001b[0m\u001b[0;34m\u001b[0m\u001b[0;34m\u001b[0m\u001b[0m\n\u001b[0;32m--> 100\u001b[0;31m   return _mount(\n\u001b[0m\u001b[1;32m    101\u001b[0m       \u001b[0mmountpoint\u001b[0m\u001b[0;34m,\u001b[0m\u001b[0;34m\u001b[0m\u001b[0;34m\u001b[0m\u001b[0m\n\u001b[1;32m    102\u001b[0m       \u001b[0mforce_remount\u001b[0m\u001b[0;34m=\u001b[0m\u001b[0mforce_remount\u001b[0m\u001b[0;34m,\u001b[0m\u001b[0;34m\u001b[0m\u001b[0;34m\u001b[0m\u001b[0m\n",
            "\u001b[0;32m/usr/local/lib/python3.10/dist-packages/google/colab/drive.py\u001b[0m in \u001b[0;36m_mount\u001b[0;34m(mountpoint, force_remount, timeout_ms, ephemeral, readonly)\u001b[0m\n\u001b[1;32m    131\u001b[0m   )\n\u001b[1;32m    132\u001b[0m   \u001b[0;32mif\u001b[0m \u001b[0mephemeral\u001b[0m\u001b[0;34m:\u001b[0m\u001b[0;34m\u001b[0m\u001b[0;34m\u001b[0m\u001b[0m\n\u001b[0;32m--> 133\u001b[0;31m     _message.blocking_request(\n\u001b[0m\u001b[1;32m    134\u001b[0m         \u001b[0;34m'request_auth'\u001b[0m\u001b[0;34m,\u001b[0m \u001b[0mrequest\u001b[0m\u001b[0;34m=\u001b[0m\u001b[0;34m{\u001b[0m\u001b[0;34m'authType'\u001b[0m\u001b[0;34m:\u001b[0m \u001b[0;34m'dfs_ephemeral'\u001b[0m\u001b[0;34m}\u001b[0m\u001b[0;34m,\u001b[0m \u001b[0mtimeout_sec\u001b[0m\u001b[0;34m=\u001b[0m\u001b[0;32mNone\u001b[0m\u001b[0;34m\u001b[0m\u001b[0;34m\u001b[0m\u001b[0m\n\u001b[1;32m    135\u001b[0m     )\n",
            "\u001b[0;32m/usr/local/lib/python3.10/dist-packages/google/colab/_message.py\u001b[0m in \u001b[0;36mblocking_request\u001b[0;34m(request_type, request, timeout_sec, parent)\u001b[0m\n\u001b[1;32m    174\u001b[0m       \u001b[0mrequest_type\u001b[0m\u001b[0;34m,\u001b[0m \u001b[0mrequest\u001b[0m\u001b[0;34m,\u001b[0m \u001b[0mparent\u001b[0m\u001b[0;34m=\u001b[0m\u001b[0mparent\u001b[0m\u001b[0;34m,\u001b[0m \u001b[0mexpect_reply\u001b[0m\u001b[0;34m=\u001b[0m\u001b[0;32mTrue\u001b[0m\u001b[0;34m\u001b[0m\u001b[0;34m\u001b[0m\u001b[0m\n\u001b[1;32m    175\u001b[0m   )\n\u001b[0;32m--> 176\u001b[0;31m   \u001b[0;32mreturn\u001b[0m \u001b[0mread_reply_from_input\u001b[0m\u001b[0;34m(\u001b[0m\u001b[0mrequest_id\u001b[0m\u001b[0;34m,\u001b[0m \u001b[0mtimeout_sec\u001b[0m\u001b[0;34m)\u001b[0m\u001b[0;34m\u001b[0m\u001b[0;34m\u001b[0m\u001b[0m\n\u001b[0m",
            "\u001b[0;32m/usr/local/lib/python3.10/dist-packages/google/colab/_message.py\u001b[0m in \u001b[0;36mread_reply_from_input\u001b[0;34m(message_id, timeout_sec)\u001b[0m\n\u001b[1;32m    101\u001b[0m     ):\n\u001b[1;32m    102\u001b[0m       \u001b[0;32mif\u001b[0m \u001b[0;34m'error'\u001b[0m \u001b[0;32min\u001b[0m \u001b[0mreply\u001b[0m\u001b[0;34m:\u001b[0m\u001b[0;34m\u001b[0m\u001b[0;34m\u001b[0m\u001b[0m\n\u001b[0;32m--> 103\u001b[0;31m         \u001b[0;32mraise\u001b[0m \u001b[0mMessageError\u001b[0m\u001b[0;34m(\u001b[0m\u001b[0mreply\u001b[0m\u001b[0;34m[\u001b[0m\u001b[0;34m'error'\u001b[0m\u001b[0;34m]\u001b[0m\u001b[0;34m)\u001b[0m\u001b[0;34m\u001b[0m\u001b[0;34m\u001b[0m\u001b[0m\n\u001b[0m\u001b[1;32m    104\u001b[0m       \u001b[0;32mreturn\u001b[0m \u001b[0mreply\u001b[0m\u001b[0;34m.\u001b[0m\u001b[0mget\u001b[0m\u001b[0;34m(\u001b[0m\u001b[0;34m'data'\u001b[0m\u001b[0;34m,\u001b[0m \u001b[0;32mNone\u001b[0m\u001b[0;34m)\u001b[0m\u001b[0;34m\u001b[0m\u001b[0;34m\u001b[0m\u001b[0m\n\u001b[1;32m    105\u001b[0m \u001b[0;34m\u001b[0m\u001b[0m\n",
            "\u001b[0;31mMessageError\u001b[0m: Error: credential propagation was unsuccessful"
          ]
        }
      ]
    },
    {
      "cell_type": "code",
      "execution_count": 41,
      "metadata": {
        "id": "Eg6cIE74JVNd"
      },
      "outputs": [],
      "source": [
        "# se utiliza para el manejo de rutas y directorios.\n",
        "import os\n",
        "\n",
        "# Calculo cientifico y vectorial para python\n",
        "import numpy as np\n",
        "\n",
        "# Librerias para graficar\n",
        "from matplotlib import pyplot\n",
        "\n",
        "# Modulo de optimización de scipy\n",
        "from scipy import optimize\n",
        "\n",
        "# le dice a matplotlib que incruste gráficos en el cuaderno\n",
        "%matplotlib inline\n",
        "\n",
        "import pandas as pd"
      ]
    },
    {
      "cell_type": "markdown",
      "metadata": {
        "id": "t52vBnb_JVNe"
      },
      "source": [
        "## 1 Regresion Logistica\n",
        "\n",
        "En esta parte del ejercicio, creará un modelo de regresión logística para predecir si un estudiante será admitido en una universidad. Suponga que es el administrador de un departamento universitario y desea determinar las posibilidades de admisión de cada solicitante en función de sus resultados en dos exámenes. Tiene datos históricos de solicitantes anteriores que puede usar como un conjunto de capacitación para la regresión logística. Para cada ejemplo de capacitación, se tiene las calificaciones del solicitante en dos exámenes y la decisión de admisión. Su tarea es crear un modelo de clasificación que calcule la probabilidad de admisión de un solicitante en función de los puntajes de esos dos exámenes.\n",
        "\n",
        "La siguiente celda cargará los datos y las etiquetas correspondientes:"
      ]
    },
    {
      "cell_type": "code",
      "execution_count": 42,
      "metadata": {
        "colab": {
          "base_uri": "https://localhost:8080/"
        },
        "id": "WVzUelTXJVNe",
        "outputId": "0bde1696-2662-4faf-8237-71e2041eba63"
      },
      "outputs": [
        {
          "output_type": "stream",
          "name": "stdout",
          "text": [
            "       00  0000  0000000  000000000046  00021401  00c04fc295ee  01  0156250  \\\n",
            "13491   0     6        0             3         0             0   0        0   \n",
            "283     0     0        0             0         0             0   0        0   \n",
            "3265    0     0        0             0         0             0   0        0   \n",
            "16583   0     0        0             0         0             0   0        0   \n",
            "15081   0     0        0             0         0             0   0        0   \n",
            "...    ..   ...      ...           ...       ...           ...  ..      ...   \n",
            "15198   0     0        0             0         0             0   0        0   \n",
            "16061   0     0        0             0         0             0   0        0   \n",
            "3303    0     0        0             0         0             0   0        0   \n",
            "15549   0     0        0             0         0             0   0        0   \n",
            "18074   0     0        0             0         0             0   0        0   \n",
            "\n",
            "       02  03  ...  windowsruntime  winevt  wmiprvse  working  wow6432node  \\\n",
            "13491   0   0  ...               0       0         0        0            0   \n",
            "283     0   0  ...               0       0         0        0            0   \n",
            "3265    0   0  ...               0       0         0        0            0   \n",
            "16583   0   0  ...               0       0         0        0            0   \n",
            "15081   0   1  ...               0       0         0        0            0   \n",
            "...    ..  ..  ...             ...     ...       ...      ...          ...   \n",
            "15198   0   0  ...               0       0         0        0            0   \n",
            "16061   0   0  ...               0       0         0        0            0   \n",
            "3303    0   0  ...               0       0         0        0            0   \n",
            "15549   0   0  ...               0       0         0        0            0   \n",
            "18074   0   0  ...              39       0         0        0            0   \n",
            "\n",
            "       write  writefile  xaml  xls  zip  \n",
            "13491      0          0     0    0    0  \n",
            "283        0          0     0    0    2  \n",
            "3265       0          0     0    0    0  \n",
            "16583      0          0     0   28    0  \n",
            "15081      3          0     0    0    0  \n",
            "...      ...        ...   ...  ...  ...  \n",
            "15198      3          0     0    0    0  \n",
            "16061      5          0     0    0    0  \n",
            "3303       8          0     0    0    0  \n",
            "15549      6          0     0    0    0  \n",
            "18074      1          0     0    0    0  \n",
            "\n",
            "[19314 rows x 500 columns]\n",
            "13491    1\n",
            "283      0\n",
            "3265     1\n",
            "16583    0\n",
            "15081    1\n",
            "        ..\n",
            "15198    1\n",
            "16061    0\n",
            "3303     1\n",
            "15549    1\n",
            "18074    1\n",
            "Name: labels, Length: 19314, dtype: int64\n"
          ]
        }
      ],
      "source": [
        "# Cargar datos\n",
        "# La primera columna contiene los resultados (labels) que se quieren predecir, 1=Goodware -1=Malware\n",
        "# Las X son caracteres de los programas, en total son 500 y se analiza la cantidad de veces que se reproducen\n",
        "url = 'https://raw.githubusercontent.com/GallardoCoriaMarcelo/Laboratorios/main/DynamicMalwareMatrix2.csv'\n",
        "data = pd.read_csv(url)\n",
        "#Selecciona el 80% del dataset para entrenamiento\n",
        "porcentaje = 0.8\n",
        "data_muestra = data.sample(frac=porcentaje, random_state=42)\n",
        "\n",
        "data.head()\n",
        "y = data_muestra.iloc[:, 0]      # Primera columna como Y\n",
        "X = data_muestra.iloc[:, 1:501]    # Demas columnas como X\n",
        "\n",
        "y = y.replace(-1, 0)\n",
        "print(X)\n",
        "print(y)"
      ]
    },
    {
      "cell_type": "markdown",
      "metadata": {
        "id": "5wAs5p25JVNf"
      },
      "source": [
        "### 1.1 Visualizar los datos\n",
        "\n",
        "Antes de comenzar a implementar cualquier algoritmo de aprendizaje, siempre es bueno visualizar los datos si es posible. Mostramos los datos en una gráfica bidimensional llamando a la función `plotData`. Se completará el código en `plotData` para que muestre una figura donde los ejes son los dos puntajes de los dos examenes, los ejemplos positivos y negativos se muestran con diferentes marcadores."
      ]
    },
    {
      "cell_type": "code",
      "execution_count": 43,
      "metadata": {
        "id": "PU2IfSLdJVNf"
      },
      "outputs": [],
      "source": [
        "def plotData(X, y):\n",
        "    # Gragica los puntos de datos X y y en una nueva figura. Grafica los puntos de datos con * para los positivos y\n",
        "    # o para los negativos.\n",
        "\n",
        "    # Crea una nueva figura\n",
        "    fig = pyplot.figure()\n",
        "\n",
        "    # Find Indices of Positive and Negative Examples\n",
        "    pos = y == 1\n",
        "    neg = y == 0\n",
        "\n",
        "    # Plot Examples\n",
        "    pyplot.plot(X[pos, 0], X[pos, 1], 'k*', lw=2, ms=10)\n",
        "    pyplot.plot(X[neg, 0], X[neg, 1], 'ko', mfc='y', ms=8, mec='k', mew=1)\n"
      ]
    },
    {
      "cell_type": "markdown",
      "metadata": {
        "id": "llREAw-3JVNg"
      },
      "source": [
        "Se llama a la función implementada para mostrar los datos cargados:"
      ]
    },
    {
      "cell_type": "code",
      "execution_count": 44,
      "metadata": {
        "colab": {
          "base_uri": "https://localhost:8080/",
          "height": 807
        },
        "id": "8ynW5qI3JVNg",
        "outputId": "052ec617-d276-409e-fbff-1275f4015165"
      },
      "outputs": [
        {
          "output_type": "error",
          "ename": "InvalidIndexError",
          "evalue": "(13491     True\n283      False\n3265      True\n16583    False\n15081     True\n         ...  \n15198     True\n16061    False\n3303      True\n15549     True\n18074     True\nName: labels, Length: 19314, dtype: bool, 0)",
          "traceback": [
            "\u001b[0;31m---------------------------------------------------------------------------\u001b[0m",
            "\u001b[0;31mTypeError\u001b[0m                                 Traceback (most recent call last)",
            "\u001b[0;32m/usr/local/lib/python3.10/dist-packages/pandas/core/indexes/base.py\u001b[0m in \u001b[0;36mget_loc\u001b[0;34m(self, key, method, tolerance)\u001b[0m\n\u001b[1;32m   3801\u001b[0m             \u001b[0;32mtry\u001b[0m\u001b[0;34m:\u001b[0m\u001b[0;34m\u001b[0m\u001b[0;34m\u001b[0m\u001b[0m\n\u001b[0;32m-> 3802\u001b[0;31m                 \u001b[0;32mreturn\u001b[0m \u001b[0mself\u001b[0m\u001b[0;34m.\u001b[0m\u001b[0m_engine\u001b[0m\u001b[0;34m.\u001b[0m\u001b[0mget_loc\u001b[0m\u001b[0;34m(\u001b[0m\u001b[0mcasted_key\u001b[0m\u001b[0;34m)\u001b[0m\u001b[0;34m\u001b[0m\u001b[0;34m\u001b[0m\u001b[0m\n\u001b[0m\u001b[1;32m   3803\u001b[0m             \u001b[0;32mexcept\u001b[0m \u001b[0mKeyError\u001b[0m \u001b[0;32mas\u001b[0m \u001b[0merr\u001b[0m\u001b[0;34m:\u001b[0m\u001b[0;34m\u001b[0m\u001b[0;34m\u001b[0m\u001b[0m\n",
            "\u001b[0;32m/usr/local/lib/python3.10/dist-packages/pandas/_libs/index.pyx\u001b[0m in \u001b[0;36mpandas._libs.index.IndexEngine.get_loc\u001b[0;34m()\u001b[0m\n",
            "\u001b[0;32m/usr/local/lib/python3.10/dist-packages/pandas/_libs/index.pyx\u001b[0m in \u001b[0;36mpandas._libs.index.IndexEngine.get_loc\u001b[0;34m()\u001b[0m\n",
            "\u001b[0;31mTypeError\u001b[0m: '(13491     True\n283      False\n3265      True\n16583    False\n15081     True\n         ...  \n15198     True\n16061    False\n3303      True\n15549     True\n18074     True\nName: labels, Length: 19314, dtype: bool, 0)' is an invalid key",
            "\nDuring handling of the above exception, another exception occurred:\n",
            "\u001b[0;31mInvalidIndexError\u001b[0m                         Traceback (most recent call last)",
            "\u001b[0;32m<ipython-input-44-86ee64286633>\u001b[0m in \u001b[0;36m<cell line: 1>\u001b[0;34m()\u001b[0m\n\u001b[0;32m----> 1\u001b[0;31m \u001b[0mplotData\u001b[0m\u001b[0;34m(\u001b[0m\u001b[0mX\u001b[0m\u001b[0;34m,\u001b[0m \u001b[0my\u001b[0m\u001b[0;34m)\u001b[0m\u001b[0;34m\u001b[0m\u001b[0;34m\u001b[0m\u001b[0m\n\u001b[0m\u001b[1;32m      2\u001b[0m \u001b[0;31m# adiciona etiquetas para los ejes\u001b[0m\u001b[0;34m\u001b[0m\u001b[0;34m\u001b[0m\u001b[0m\n\u001b[1;32m      3\u001b[0m \u001b[0mpyplot\u001b[0m\u001b[0;34m.\u001b[0m\u001b[0mxlabel\u001b[0m\u001b[0;34m(\u001b[0m\u001b[0;34m'Calificación Examen 1'\u001b[0m\u001b[0;34m)\u001b[0m\u001b[0;34m\u001b[0m\u001b[0;34m\u001b[0m\u001b[0m\n\u001b[1;32m      4\u001b[0m \u001b[0mpyplot\u001b[0m\u001b[0;34m.\u001b[0m\u001b[0mylabel\u001b[0m\u001b[0;34m(\u001b[0m\u001b[0;34m'Calificación Examen 2'\u001b[0m\u001b[0;34m)\u001b[0m\u001b[0;34m\u001b[0m\u001b[0;34m\u001b[0m\u001b[0m\n\u001b[1;32m      5\u001b[0m \u001b[0mpyplot\u001b[0m\u001b[0;34m.\u001b[0m\u001b[0mlegend\u001b[0m\u001b[0;34m(\u001b[0m\u001b[0;34m[\u001b[0m\u001b[0;34m'Admitido'\u001b[0m\u001b[0;34m,\u001b[0m \u001b[0;34m'No admitido'\u001b[0m\u001b[0;34m]\u001b[0m\u001b[0;34m)\u001b[0m\u001b[0;34m\u001b[0m\u001b[0;34m\u001b[0m\u001b[0m\n",
            "\u001b[0;32m<ipython-input-43-ebd57fb1963d>\u001b[0m in \u001b[0;36mplotData\u001b[0;34m(X, y)\u001b[0m\n\u001b[1;32m     11\u001b[0m \u001b[0;34m\u001b[0m\u001b[0m\n\u001b[1;32m     12\u001b[0m     \u001b[0;31m# Plot Examples\u001b[0m\u001b[0;34m\u001b[0m\u001b[0;34m\u001b[0m\u001b[0m\n\u001b[0;32m---> 13\u001b[0;31m     \u001b[0mpyplot\u001b[0m\u001b[0;34m.\u001b[0m\u001b[0mplot\u001b[0m\u001b[0;34m(\u001b[0m\u001b[0mX\u001b[0m\u001b[0;34m[\u001b[0m\u001b[0mpos\u001b[0m\u001b[0;34m,\u001b[0m \u001b[0;36m0\u001b[0m\u001b[0;34m]\u001b[0m\u001b[0;34m,\u001b[0m \u001b[0mX\u001b[0m\u001b[0;34m[\u001b[0m\u001b[0mpos\u001b[0m\u001b[0;34m,\u001b[0m \u001b[0;36m1\u001b[0m\u001b[0;34m]\u001b[0m\u001b[0;34m,\u001b[0m \u001b[0;34m'k*'\u001b[0m\u001b[0;34m,\u001b[0m \u001b[0mlw\u001b[0m\u001b[0;34m=\u001b[0m\u001b[0;36m2\u001b[0m\u001b[0;34m,\u001b[0m \u001b[0mms\u001b[0m\u001b[0;34m=\u001b[0m\u001b[0;36m10\u001b[0m\u001b[0;34m)\u001b[0m\u001b[0;34m\u001b[0m\u001b[0;34m\u001b[0m\u001b[0m\n\u001b[0m\u001b[1;32m     14\u001b[0m     \u001b[0mpyplot\u001b[0m\u001b[0;34m.\u001b[0m\u001b[0mplot\u001b[0m\u001b[0;34m(\u001b[0m\u001b[0mX\u001b[0m\u001b[0;34m[\u001b[0m\u001b[0mneg\u001b[0m\u001b[0;34m,\u001b[0m \u001b[0;36m0\u001b[0m\u001b[0;34m]\u001b[0m\u001b[0;34m,\u001b[0m \u001b[0mX\u001b[0m\u001b[0;34m[\u001b[0m\u001b[0mneg\u001b[0m\u001b[0;34m,\u001b[0m \u001b[0;36m1\u001b[0m\u001b[0;34m]\u001b[0m\u001b[0;34m,\u001b[0m \u001b[0;34m'ko'\u001b[0m\u001b[0;34m,\u001b[0m \u001b[0mmfc\u001b[0m\u001b[0;34m=\u001b[0m\u001b[0;34m'y'\u001b[0m\u001b[0;34m,\u001b[0m \u001b[0mms\u001b[0m\u001b[0;34m=\u001b[0m\u001b[0;36m8\u001b[0m\u001b[0;34m,\u001b[0m \u001b[0mmec\u001b[0m\u001b[0;34m=\u001b[0m\u001b[0;34m'k'\u001b[0m\u001b[0;34m,\u001b[0m \u001b[0mmew\u001b[0m\u001b[0;34m=\u001b[0m\u001b[0;36m1\u001b[0m\u001b[0;34m)\u001b[0m\u001b[0;34m\u001b[0m\u001b[0;34m\u001b[0m\u001b[0m\n",
            "\u001b[0;32m/usr/local/lib/python3.10/dist-packages/pandas/core/frame.py\u001b[0m in \u001b[0;36m__getitem__\u001b[0;34m(self, key)\u001b[0m\n\u001b[1;32m   3805\u001b[0m             \u001b[0;32mif\u001b[0m \u001b[0mself\u001b[0m\u001b[0;34m.\u001b[0m\u001b[0mcolumns\u001b[0m\u001b[0;34m.\u001b[0m\u001b[0mnlevels\u001b[0m \u001b[0;34m>\u001b[0m \u001b[0;36m1\u001b[0m\u001b[0;34m:\u001b[0m\u001b[0;34m\u001b[0m\u001b[0;34m\u001b[0m\u001b[0m\n\u001b[1;32m   3806\u001b[0m                 \u001b[0;32mreturn\u001b[0m \u001b[0mself\u001b[0m\u001b[0;34m.\u001b[0m\u001b[0m_getitem_multilevel\u001b[0m\u001b[0;34m(\u001b[0m\u001b[0mkey\u001b[0m\u001b[0;34m)\u001b[0m\u001b[0;34m\u001b[0m\u001b[0;34m\u001b[0m\u001b[0m\n\u001b[0;32m-> 3807\u001b[0;31m             \u001b[0mindexer\u001b[0m \u001b[0;34m=\u001b[0m \u001b[0mself\u001b[0m\u001b[0;34m.\u001b[0m\u001b[0mcolumns\u001b[0m\u001b[0;34m.\u001b[0m\u001b[0mget_loc\u001b[0m\u001b[0;34m(\u001b[0m\u001b[0mkey\u001b[0m\u001b[0;34m)\u001b[0m\u001b[0;34m\u001b[0m\u001b[0;34m\u001b[0m\u001b[0m\n\u001b[0m\u001b[1;32m   3808\u001b[0m             \u001b[0;32mif\u001b[0m \u001b[0mis_integer\u001b[0m\u001b[0;34m(\u001b[0m\u001b[0mindexer\u001b[0m\u001b[0;34m)\u001b[0m\u001b[0;34m:\u001b[0m\u001b[0;34m\u001b[0m\u001b[0;34m\u001b[0m\u001b[0m\n\u001b[1;32m   3809\u001b[0m                 \u001b[0mindexer\u001b[0m \u001b[0;34m=\u001b[0m \u001b[0;34m[\u001b[0m\u001b[0mindexer\u001b[0m\u001b[0;34m]\u001b[0m\u001b[0;34m\u001b[0m\u001b[0;34m\u001b[0m\u001b[0m\n",
            "\u001b[0;32m/usr/local/lib/python3.10/dist-packages/pandas/core/indexes/base.py\u001b[0m in \u001b[0;36mget_loc\u001b[0;34m(self, key, method, tolerance)\u001b[0m\n\u001b[1;32m   3807\u001b[0m                 \u001b[0;31m#  InvalidIndexError. Otherwise we fall through and re-raise\u001b[0m\u001b[0;34m\u001b[0m\u001b[0;34m\u001b[0m\u001b[0m\n\u001b[1;32m   3808\u001b[0m                 \u001b[0;31m#  the TypeError.\u001b[0m\u001b[0;34m\u001b[0m\u001b[0;34m\u001b[0m\u001b[0m\n\u001b[0;32m-> 3809\u001b[0;31m                 \u001b[0mself\u001b[0m\u001b[0;34m.\u001b[0m\u001b[0m_check_indexing_error\u001b[0m\u001b[0;34m(\u001b[0m\u001b[0mkey\u001b[0m\u001b[0;34m)\u001b[0m\u001b[0;34m\u001b[0m\u001b[0;34m\u001b[0m\u001b[0m\n\u001b[0m\u001b[1;32m   3810\u001b[0m                 \u001b[0;32mraise\u001b[0m\u001b[0;34m\u001b[0m\u001b[0;34m\u001b[0m\u001b[0m\n\u001b[1;32m   3811\u001b[0m \u001b[0;34m\u001b[0m\u001b[0m\n",
            "\u001b[0;32m/usr/local/lib/python3.10/dist-packages/pandas/core/indexes/base.py\u001b[0m in \u001b[0;36m_check_indexing_error\u001b[0;34m(self, key)\u001b[0m\n\u001b[1;32m   5923\u001b[0m             \u001b[0;31m# if key is not a scalar, directly raise an error (the code below\u001b[0m\u001b[0;34m\u001b[0m\u001b[0;34m\u001b[0m\u001b[0m\n\u001b[1;32m   5924\u001b[0m             \u001b[0;31m# would convert to numpy arrays and raise later any way) - GH29926\u001b[0m\u001b[0;34m\u001b[0m\u001b[0;34m\u001b[0m\u001b[0m\n\u001b[0;32m-> 5925\u001b[0;31m             \u001b[0;32mraise\u001b[0m \u001b[0mInvalidIndexError\u001b[0m\u001b[0;34m(\u001b[0m\u001b[0mkey\u001b[0m\u001b[0;34m)\u001b[0m\u001b[0;34m\u001b[0m\u001b[0;34m\u001b[0m\u001b[0m\n\u001b[0m\u001b[1;32m   5926\u001b[0m \u001b[0;34m\u001b[0m\u001b[0m\n\u001b[1;32m   5927\u001b[0m     \u001b[0;34m@\u001b[0m\u001b[0mcache_readonly\u001b[0m\u001b[0;34m\u001b[0m\u001b[0;34m\u001b[0m\u001b[0m\n",
            "\u001b[0;31mInvalidIndexError\u001b[0m: (13491     True\n283      False\n3265      True\n16583    False\n15081     True\n         ...  \n15198     True\n16061    False\n3303      True\n15549     True\n18074     True\nName: labels, Length: 19314, dtype: bool, 0)"
          ]
        },
        {
          "output_type": "display_data",
          "data": {
            "text/plain": [
              "<Figure size 640x480 with 0 Axes>"
            ]
          },
          "metadata": {}
        }
      ],
      "source": [
        "plotData(X, y)\n",
        "# adiciona etiquetas para los ejes\n",
        "pyplot.xlabel('Calificación Examen 1')\n",
        "pyplot.ylabel('Calificación Examen 2')\n",
        "pyplot.legend(['Admitido', 'No admitido'])\n",
        "pass"
      ]
    },
    {
      "cell_type": "markdown",
      "metadata": {
        "id": "Pfpf9aEFJVNg"
      },
      "source": [
        "<a id=\"section1\"></a>\n",
        "### 1.2 Implementacion\n",
        "\n",
        "#### 1.2.1 Fución Sigmoidea\n",
        "\n",
        "La hipotesis para la regresión logistica se define como:\n",
        "\n",
        "$$ h_\\theta(x) = g(\\theta^T x)$$\n",
        "\n",
        "donde la función $g$ is la función sigmoidea. La función sigmoidea se define como:\n",
        "\n",
        "$$g(z) = \\frac{1}{1+e^{-z}}$$.\n",
        "\n",
        "Los resultados que debe generar la funcion sigmoidea para valores positivos amplios de `x`, deben ser cercanos a 1, mientras que para valores negativos grandes, la sigmoide debe generar valores cercanos 0. La evaluacion de `sigmoid(0)` debe dar un resultado exacto de 0.5. Esta funcion tambien debe poder trabajar con vectores y matrices."
      ]
    },
    {
      "cell_type": "code",
      "execution_count": 45,
      "metadata": {
        "id": "pk9dV23xJVNh"
      },
      "outputs": [],
      "source": [
        "def sigmoid(z):\n",
        "    # Calcula la sigmoide de una entrada z\n",
        "    # convierte la intrada a un arreglo numpy\n",
        "    z = np.array(z)\n",
        "\n",
        "    g = np.zeros(z.shape)\n",
        "\n",
        "    g = 1 / (1 + np.exp(-z))\n",
        "\n",
        "    return g"
      ]
    },
    {
      "cell_type": "markdown",
      "metadata": {
        "id": "uRsBEhsWJVNh"
      },
      "source": [
        "Se calcula el valor de la sigmoide aplicando la funcion sigmoid con `z=0`, se debe obtener un resultado de 0.5. RE recomienda experimentar con otros valores de `z`."
      ]
    },
    {
      "cell_type": "code",
      "execution_count": 46,
      "metadata": {
        "colab": {
          "base_uri": "https://localhost:8080/"
        },
        "id": "uIPk61NLJVNh",
        "outputId": "bba44a9b-7f42-4e22-b1e7-3055fd39b4c9"
      },
      "outputs": [
        {
          "output_type": "stream",
          "name": "stdout",
          "text": [
            "g( 21 ) =  0.9999999992417439\n"
          ]
        }
      ],
      "source": [
        "# Prueba la implementacion de la funcion sigmoid\n",
        "z = 21\n",
        "g = sigmoid(z)\n",
        "\n",
        "print('g(', z, ') = ', g)"
      ]
    },
    {
      "cell_type": "markdown",
      "metadata": {
        "id": "tDl3_8hvJVNi"
      },
      "source": [
        "<a id=\"section2\"></a>\n",
        "#### 1.2.2 Función de Costo y Gradiente\n",
        "\n",
        "Se implementa la funcion cost y gradient, para la regresión logistica. Antes de continuar es importante agregar el termino de intercepcion a X."
      ]
    },
    {
      "cell_type": "code",
      "execution_count": 47,
      "metadata": {
        "id": "ELtMkiYDJVNi"
      },
      "outputs": [],
      "source": [
        "# Configurar la matriz adecuadamente, y agregar una columna de unos que corresponde al termino de intercepción.\n",
        "m, n = X.shape\n",
        "# Agraga el termino de intercepción a A\n",
        "X = np.concatenate([np.ones((m, 1)), X], axis=1)"
      ]
    },
    {
      "cell_type": "markdown",
      "metadata": {
        "id": "dREHB51mJVNi"
      },
      "source": [
        "La funcion de costo en una regresión logistica es:\n",
        "\n",
        "$$ J(\\theta) = \\frac{1}{m} \\sum_{i=1}^{m} \\left[ -y^{(i)} \\log\\left(h_\\theta\\left( x^{(i)} \\right) \\right) - \\left( 1 - y^{(i)}\\right) \\log \\left( 1 - h_\\theta\\left( x^{(i)} \\right) \\right) \\right]$$\n",
        "\n",
        "y el gradiente del costo es un vector de la misma longitud como $\\theta$ donde el elemento $j^{th}$ (para $j = 0, 1, \\cdots , n$) se define como:\n",
        "\n",
        "$$ \\frac{\\partial J(\\theta)}{\\partial \\theta_j} = \\frac{1}{m} \\sum_{i=1}^m \\left( h_\\theta \\left( x^{(i)} \\right) - y^{(i)} \\right) x_j^{(i)} $$\n",
        "\n",
        "Si bien este gradiente parece idéntico al gradiente de regresión lineal, la fórmula es diferente porque la regresión lineal y logística tienen diferentes definiciones de $h_\\theta(x)$.\n",
        "<a id=\"costFunction\"></a>"
      ]
    },
    {
      "cell_type": "code",
      "execution_count": 48,
      "metadata": {
        "id": "iqDZRIgjJVNi"
      },
      "outputs": [],
      "source": [
        "def calcularCosto(theta, X, y):\n",
        "    # Inicializar algunos valores utiles\n",
        "    m = y.size  # numero de ejemplos de entrenamiento\n",
        "\n",
        "    J = 0\n",
        "    h = sigmoid(X.dot(theta.T))\n",
        "    J = (1 / m) * np.sum(-y.dot(np.log(h)) - (1 - y).dot(np.log(1 - h)))\n",
        "\n",
        "    return J"
      ]
    },
    {
      "cell_type": "code",
      "execution_count": 49,
      "metadata": {
        "id": "7G4SjTrwJVNi"
      },
      "outputs": [],
      "source": [
        "def descensoGradiente(theta, X, y, alpha, num_iters):\n",
        "    # Inicializa algunos valores\n",
        "    m = y.shape[0] # numero de ejemplos de entrenamiento\n",
        "\n",
        "    # realiza una copia de theta, el cual será acutalizada por el descenso por el gradiente\n",
        "    theta = theta.copy()\n",
        "    J_history = []\n",
        "\n",
        "    for i in range(num_iters):\n",
        "        h = sigmoid(X.dot(theta.T))\n",
        "        theta = theta - (alpha / m) * (h - y).dot(X)\n",
        "\n",
        "        J_history.append(calcularCosto(theta, X, y))\n",
        "    return theta, J_history"
      ]
    },
    {
      "cell_type": "code",
      "execution_count": 51,
      "metadata": {
        "scrolled": true,
        "colab": {
          "base_uri": "https://localhost:8080/",
          "height": 1000
        },
        "id": "rBUlehg6JVNi",
        "outputId": "309681f9-ef14-478b-f932-15d3061579b8"
      },
      "outputs": [
        {
          "output_type": "stream",
          "name": "stdout",
          "text": [
            "theta calculado por el descenso por el gradiente: [ 8.81967056e-05 -7.27262293e-04 -5.72796807e-04 -3.94804957e-04\n",
            " -5.34765943e-04 -1.36930452e-04  3.32503818e-04  1.77382682e-03\n",
            " -4.84122533e-04 -2.07686406e-04 -1.31620979e-04  9.50217563e-04\n",
            "  9.49486621e-04  2.26125992e-03  7.53445591e-04  3.29141671e-03\n",
            "  4.16958259e-04  2.25433625e-03  1.09839068e-03  1.34274224e-03\n",
            " -9.56945399e-05 -1.65513383e-03  1.43703783e-03  2.09998494e-04\n",
            "  7.52752760e-04  1.99378064e-03  3.28953904e-03  8.94956300e-03\n",
            " -2.36487832e-03  4.16958259e-04  3.09791446e-03 -1.61039340e-03\n",
            " -2.16107690e-04 -7.39921404e-04  4.60153654e-04  5.76687408e-03\n",
            " -7.19435584e-04  6.65333964e-05 -5.08611479e-02  8.34057723e-04\n",
            " -2.13895570e-03  1.80473245e-03 -4.63061089e-02 -3.54729367e-02\n",
            " -3.95716511e-02 -8.69591160e-04  4.01825011e-03 -6.83363546e-03\n",
            "  1.76037889e-03 -4.10046629e-03 -5.50483592e-03 -4.07572043e-05\n",
            "  2.18406252e-02 -4.80468915e-03  6.58344995e-04  5.71906674e-04\n",
            " -6.98128786e-04  1.62415473e-03  5.63195013e-04 -3.30540143e-04\n",
            "  8.81612957e-04 -1.03471629e-03  8.30193239e-04 -1.34862647e-03\n",
            "  3.32413341e-02 -4.75866185e-03 -3.93940988e-03 -2.90228761e-03\n",
            "  4.80791410e-04 -1.81297467e-03 -2.09985773e-03 -2.54583504e-03\n",
            "  2.80325875e-04 -1.55773206e-03  3.54496757e-03  2.05098198e-03\n",
            " -2.31891360e-03 -5.18651771e-02  1.75518571e-03  5.06961996e-03\n",
            "  1.02261921e-03  7.13482214e-03  7.64607144e-04 -4.29485271e-03\n",
            " -1.81511210e-03  8.40949877e-04 -1.42222040e-03  2.46682660e-04\n",
            "  4.47456884e-03 -7.88686192e-04 -3.64812759e-04 -2.12979458e-03\n",
            " -2.18448757e-03  8.30193239e-04  1.06894514e-03  3.18104346e-04\n",
            " -1.33023684e-03  1.00491167e-03 -2.78463435e-03  2.45162857e-05\n",
            "  8.22986194e-03 -3.76221618e-02 -2.59784701e-03  5.92257481e-03\n",
            "  4.24107486e-04 -1.18535932e-03 -7.54634690e-03  8.30193239e-04\n",
            "  4.32621453e-03  3.93285187e-03 -6.94465202e-04 -2.00775682e-03\n",
            " -9.10814629e-04  1.31064282e-03 -3.56937396e-05  5.99159661e-05\n",
            "  1.86135918e-02  5.22587341e-02  5.23896993e-04  5.41887776e-02\n",
            "  1.00359464e-02  5.18463001e-02 -5.80876961e-03  3.47064933e-02\n",
            "  1.11547570e-02  3.31247842e-03  1.02261921e-03 -9.56945399e-05\n",
            "  8.41274155e-04  1.16584014e-04 -1.10612626e-03  6.23551482e-04\n",
            " -3.11268052e-03  3.02903124e-03  1.18933241e-03  2.10616437e-04\n",
            "  2.01749015e-04 -2.07289511e-03  1.30115485e-03  2.31952337e-03\n",
            " -2.01819762e-03 -1.10036991e-03  6.66421910e-04  3.93873908e-04\n",
            "  9.87584991e-03  9.06154667e-03  9.07632371e-03  9.17596565e-04\n",
            " -2.96046607e-03 -2.68536155e-02  8.40949877e-04  8.40949877e-04\n",
            "  2.83404280e-03 -2.74361464e-04 -2.71913380e-03  7.42160103e-04\n",
            " -3.38875417e-05 -6.94465202e-04 -3.16496138e-03 -3.95314275e-03\n",
            " -9.25257330e-04  2.31263530e-03  8.30395979e-05  5.23896993e-04\n",
            "  5.23896993e-04  3.38003212e-04  5.23896993e-04 -1.12554427e-02\n",
            "  1.01791954e-03  5.90812048e-04 -9.56945399e-05 -9.54414842e-05\n",
            "  2.75004706e-03  1.61044637e-03  3.77807844e-03  5.78719344e-04\n",
            "  1.92383783e-03 -8.48792342e-04 -3.21579794e-04 -3.78437853e-04\n",
            "  1.13304555e-04 -3.31274491e-04 -3.10906557e-05  2.48307872e-03\n",
            "  1.52708484e-04  3.35694870e-03 -5.21783288e-03  4.57023527e-04\n",
            "  6.32785517e-04 -3.78947189e-03  4.67230408e-04 -4.01482033e-04\n",
            " -6.94465202e-04 -6.94465202e-04  1.78886825e-03  1.36896093e-03\n",
            " -2.24522139e-04 -4.29937991e-04 -2.08174026e-03 -3.18208782e-04\n",
            " -8.56771644e-04 -5.26520279e-04  1.02261921e-03 -9.56945399e-05\n",
            "  3.43329453e-03  8.34129033e-03 -6.14378798e-04  4.67085292e-04\n",
            " -3.11260660e-04  1.43010368e-04 -1.17772794e-04  3.42680122e-03\n",
            "  1.85772938e-02  2.45514093e-03 -3.28318674e-05  4.88395350e-03\n",
            " -4.16021575e-04 -1.04222705e-03 -2.60220308e-04  1.95675606e-03\n",
            " -3.08743823e-03 -3.19150735e-04  1.44719980e-03  2.29581876e-03\n",
            "  6.56440373e-04  4.01825011e-03  2.09851226e-03  2.30998094e-03\n",
            "  2.12582729e-04  3.00289318e-04 -4.97114886e-04 -1.17772794e-04\n",
            " -2.52576522e-03 -6.78011011e-03 -1.38652750e-04 -2.05533686e-03\n",
            "  1.75803367e-04  2.39851310e-03  6.01423374e-03  1.65913585e-03\n",
            "  3.78965657e-04  5.23896993e-04  2.03205358e-04  9.98777221e-04\n",
            " -9.72435048e-05 -6.94465202e-04  1.10837017e-03 -3.81651940e-03\n",
            " -2.87026733e-04 -5.16531203e-04  2.67109924e-03 -1.33655268e-03\n",
            " -6.54870794e-04 -3.38320561e-04  5.33603255e-05  2.88317237e-04\n",
            " -1.53302503e-03 -7.37069563e-04 -3.28704813e-03 -6.94789346e-04\n",
            " -6.54870794e-04  1.02261921e-03  9.47080293e-04 -7.45593953e-04\n",
            " -6.09714594e-04 -6.50218558e-04  1.08669495e-03 -2.66836711e-04\n",
            "  1.83179173e-04 -1.28300651e-02  1.67242294e-03  1.68127087e-03\n",
            "  8.40949877e-04  9.75277746e-03 -1.06579189e-03  1.22713565e-04\n",
            " -5.21351438e-04 -4.24796514e-04 -1.17772794e-04 -5.97963399e-04\n",
            "  2.47058428e-03  3.23014657e-03  6.11032777e-04  4.24932462e-03\n",
            "  8.10150115e-04  5.29957925e-05  3.91979381e-05  5.04625565e-03\n",
            " -1.20234463e-03 -1.42358430e-04  2.21679317e-05  3.87135242e-03\n",
            "  4.08019518e-03 -1.73565643e-03 -8.67896578e-05  8.28079927e-04\n",
            " -3.15855088e-04 -1.54207547e-03 -1.05078283e-04 -4.94443896e-05\n",
            " -1.74549630e-04  2.45912114e-05  1.30580790e-03 -1.71411829e-03\n",
            " -2.90584224e-04 -5.43167775e-06 -2.73226977e-04  7.04714969e-04\n",
            " -1.33242101e-03 -3.23397078e-04 -9.48498076e-04 -6.65782087e-04\n",
            "  2.40859744e-04  2.40859744e-04 -2.51069169e-06 -1.17772794e-04\n",
            " -1.17772794e-04  1.86265207e-03 -1.65466891e-04  2.31091224e-03\n",
            "  1.37382967e-04  2.32615672e-04 -5.54736931e-04  3.49260253e-03\n",
            " -2.50369653e-07  2.32554606e-03 -2.12639103e-04 -4.48487290e-04\n",
            " -2.33733808e-03 -9.91829884e-04 -3.88426117e-04  2.41986465e-03\n",
            " -5.18082529e-04  8.57778045e-04  2.19704382e-04 -1.35712970e-04\n",
            "  9.70115033e-03  6.65792870e-04  2.56376278e-04  8.24934043e-04\n",
            " -2.37539336e-03 -2.18555616e-03 -2.21223423e-03  3.13886232e-03\n",
            "  3.68811822e-03  3.80700328e-03 -1.43304056e-03 -1.11918985e-03\n",
            " -5.16531203e-04 -1.98456707e-04 -2.12123430e-04 -5.63175837e-04\n",
            " -7.65722777e-04 -1.22265127e-04 -9.80266404e-04  4.31256145e-05\n",
            "  1.33009393e-04 -7.74975787e-03 -1.04911723e-04  2.93905690e-04\n",
            " -3.83152199e-04 -2.51069169e-06  1.69126406e-03  1.43120757e-03\n",
            "  5.59120957e-04  2.08279284e-03  8.27610081e-05  6.24985137e-05\n",
            "  5.59534142e-04 -2.18882477e-04  5.99924696e-03  8.31259051e-04\n",
            " -4.33221056e-04 -7.85316177e-04  5.59484839e-04  4.80215852e-04\n",
            " -1.62598316e-05  9.01727619e-04  3.35851599e-03 -8.05480531e-04\n",
            " -5.67829818e-04 -7.94456073e-04 -2.90086807e-03  5.97649698e-04\n",
            " -8.45282838e-04  2.18995805e-03  7.15215824e-04  2.16799950e-04\n",
            " -6.35018580e-03 -7.57624055e-04 -9.75201423e-04  3.17948965e-04\n",
            "  1.88292742e-04  7.76065185e-05 -1.83179169e-04 -5.74532452e-04\n",
            " -6.56000311e-04 -6.03499709e-04  3.21487388e-03 -2.17709473e-04\n",
            "  2.49695151e-04 -1.72703610e-05 -1.72021342e-04  7.14955427e-05\n",
            "  5.11417072e-04 -3.72158529e-04  1.28653275e-03 -6.21493228e-06\n",
            "  7.87908332e-04 -9.02766797e-04  1.64702703e-03  2.39985670e-03\n",
            "  5.49276056e-04  3.72926214e-03  2.40859744e-04 -2.68712564e-04\n",
            "  6.91768542e-04 -3.98396614e-04  8.20044164e-04 -7.15179675e-04\n",
            " -2.82580922e-04  4.29255207e-04  1.34118720e-04  6.39247457e-03\n",
            "  8.10493719e-04 -2.75320910e-03 -6.47307125e-04 -1.00393689e-03\n",
            "  7.11211207e-03 -1.70205448e-03  3.87052697e-04 -2.70230656e-03\n",
            " -8.89144340e-04  2.85048112e-04 -8.64441026e-04 -1.21234202e-03\n",
            "  3.00289318e-04 -3.39854779e-03 -2.95781890e-04  8.06665662e-04\n",
            "  4.95010327e-03 -2.14990993e-04  9.21808205e-04  4.74625075e-04\n",
            "  9.04695238e-05 -1.72703610e-05  3.91162443e-04 -2.45963841e-03\n",
            " -6.39189464e-04  1.27426658e-04 -6.10349261e-04 -3.90847003e-04\n",
            "  3.71398688e-03  4.81252851e-04  3.25553890e-03 -4.97114886e-04\n",
            " -2.18882477e-04 -2.78232408e-04  3.46564040e-04  1.49275129e-03\n",
            " -7.56532447e-04 -1.87805085e-04 -4.71337590e-04 -3.97594698e-03\n",
            " -7.24931433e-04 -3.21483868e-04  9.42339380e-05 -3.06532585e-04\n",
            "  2.07896926e-04 -5.04551739e-05 -1.26558275e-03  6.58592896e-04\n",
            " -2.44410376e-03 -9.19058807e-04 -1.66701758e-03  1.57041749e-03\n",
            " -1.41835441e-03  6.61421085e-04 -4.13287620e-04  1.22236525e-03\n",
            " -1.89504628e-05  8.58423968e-04 -2.26508622e-03 -2.05062677e-04\n",
            "  1.27426658e-04 -1.09401912e-03  2.15905230e-04  3.35966597e-05\n",
            "  6.79718175e-03  1.00651894e-03  8.81284773e-04  1.49875416e-03\n",
            " -1.06826958e-03  5.08230300e-04 -8.56771644e-04 -4.43045312e-03\n",
            "  4.21272995e-04 -7.80375271e-04  1.16754969e-03 -1.96094615e-03\n",
            " -2.11355289e-03]\n"
          ]
        },
        {
          "output_type": "display_data",
          "data": {
            "text/plain": [
              "<Figure size 640x480 with 1 Axes>"
            ],
            "image/png": "[encoded data removed]"
          },
          "metadata": {}
        }
      ],
      "source": [
        "# Elegir algun valor para alpha (probar varias alternativas)\n",
        "alpha = 0.001\n",
        "num_iters = 100\n",
        "\n",
        "# inicializa theta y ejecuta el descenso por el gradiente\n",
        "theta = np.zeros(501)\n",
        "theta, J_history = descensoGradiente(theta, X, y, alpha, num_iters)\n",
        "\n",
        "# Grafica la convergencia del costo\n",
        "pyplot.plot(np.arange(len(J_history)), J_history, lw=2)\n",
        "pyplot.xlabel('Numero de iteraciones')\n",
        "pyplot.ylabel('Costo J')\n",
        "\n",
        "# Muestra los resultados del descenso por el gradiente\n",
        "print('theta calculado por el descenso por el gradiente: {:s}'.format(str(theta)))\n",
        "\n"
      ]
    },
    {
      "cell_type": "code",
      "source": [
        "#Selecciona el 20%restante para pruebas\n",
        "data_prueba = data.drop(data_muestra.index)\n",
        "\n",
        "y_prueba = data_prueba.iloc[:, 0]\n",
        "X_prueba = data_prueba.iloc[:, 1:501]\n",
        "y_prueba = y_prueba.replace(-1, 0)\n",
        "\n",
        "X_array = np.concatenate((np.ones((X_prueba.shape[0], 1)), X_prueba), axis=1)\n",
        "\n",
        "# verificar si es o no malware\n",
        "malware = sigmoid(np.dot(X_array, theta))   # Se debe cambiar esto\n",
        "\n",
        "# Convertir las predicciones en una lista\n",
        "predicciones_lista = list((malware))\n",
        "\n",
        "# Convertir y_prueba en una lista\n",
        "y_prueba_lista = list(y_prueba)\n",
        "\n",
        "# Combinar predicciones y y_prueba en una lista de tuplas\n",
        "resultados = list(zip(predicciones_lista, y_prueba_lista))\n",
        "\n",
        "# Imprimir los resultados\n",
        "print('Malware = 0, Goodware = 1 - 50 primeros resultados:')\n",
        "print('Predicciones - Etiquetas reales')\n",
        "for prediccion, etiqueta_real in resultados[:50]:\n",
        "    print('    ', round(prediccion), '      -     ', etiqueta_real)"
      ],
      "metadata": {
        "colab": {
          "base_uri": "https://localhost:8080/"
        },
        "id": "Sny0SeifUf02",
        "outputId": "3a0f1cc0-fcc7-44aa-fe03-a28cbd0962ea"
      },
      "execution_count": 79,
      "outputs": [
        {
          "output_type": "stream",
          "name": "stdout",
          "text": [
            "Malware = 0, Goodware = 1 - 50 primeros resultados:\n",
            "Predicciones - Etiquetas reales\n",
            "     1       -      1\n",
            "     1       -      1\n",
            "     1       -      1\n",
            "     0       -      0\n",
            "     1       -      1\n",
            "     1       -      1\n",
            "     1       -      1\n",
            "     0       -      0\n",
            "     0       -      0\n",
            "     0       -      0\n",
            "     0       -      0\n",
            "     0       -      0\n",
            "     1       -      1\n",
            "     0       -      0\n",
            "     0       -      0\n",
            "     0       -      0\n",
            "     1       -      1\n",
            "     1       -      1\n",
            "     1       -      1\n",
            "     0       -      0\n",
            "     1       -      1\n",
            "     1       -      1\n",
            "     0       -      0\n",
            "     1       -      1\n",
            "     1       -      1\n",
            "     0       -      0\n",
            "     1       -      1\n",
            "     0       -      0\n",
            "     1       -      1\n",
            "     0       -      0\n",
            "     0       -      0\n",
            "     1       -      1\n",
            "     1       -      1\n",
            "     0       -      0\n",
            "     1       -      1\n",
            "     0       -      0\n",
            "     0       -      0\n",
            "     1       -      1\n",
            "     0       -      0\n",
            "     1       -      1\n",
            "     1       -      1\n",
            "     1       -      1\n",
            "     1       -      1\n",
            "     1       -      1\n",
            "     1       -      1\n",
            "     1       -      1\n",
            "     1       -      1\n",
            "     0       -      0\n",
            "     0       -      0\n",
            "     0       -      0\n"
          ]
        }
      ]
    },
    {
      "cell_type": "code",
      "execution_count": 67,
      "metadata": {
        "id": "C2Qew-sRJVNj"
      },
      "outputs": [],
      "source": [
        "def costFunction(theta, X, y):\n",
        "    # Inicializar algunos valores utiles\n",
        "    m = y.size  # numero de ejemplos de entrenamiento\n",
        "\n",
        "    J = 0\n",
        "    grad = np.zeros(theta.shape)\n",
        "\n",
        "    h = sigmoid(X.dot(theta.T))\n",
        "\n",
        "    J = (1 / m) * np.sum(-y.dot(np.log(h)) - (1 - y).dot(np.log(1 - h)))\n",
        "    grad = (1 / m) * (h - y).dot(X)\n",
        "\n",
        "    return J, grad"
      ]
    },
    {
      "cell_type": "markdown",
      "metadata": {
        "id": "1ioLXhR5JVNj"
      },
      "source": [
        "Se prueba la funcion `costFunction` utilizando dos casos de prueba para $\\theta$."
      ]
    },
    {
      "cell_type": "code",
      "execution_count": 70,
      "metadata": {
        "colab": {
          "base_uri": "https://localhost:8080/"
        },
        "id": "j7Fe_xEZJVNj",
        "outputId": "12e44716-f959-4bc4-904b-7511005d3123"
      },
      "outputs": [
        {
          "output_type": "stream",
          "name": "stdout",
          "text": [
            "Costo en theta inicial (zeros): 0.693\n",
            "Costo esperado (aproximado): 0.693\n",
            "\n",
            "[-8.02526665e-03 -2.23646060e-01  8.38769804e-03  1.72413793e-02\n",
            "  1.27627628e-02  4.53039246e-03 -4.11877395e-02 -1.74873149e-01\n",
            "  1.93641918e-02  1.77850264e-02 -5.39505022e-02  3.61136999e-02\n",
            " -1.36688413e-02  1.69203686e-01  1.95712954e-02 -2.06404681e-01\n",
            " -8.85368127e-03 -1.23252563e-01 -2.22998861e-01 -6.98457078e-02\n",
            "  1.30475303e-02  5.07662835e-01 -1.13492803e-01  4.37247592e-02\n",
            " -2.97970384e-02 -1.30294087e-01 -3.37190639e-01 -6.74174174e-01\n",
            "  1.00082841e-01 -8.85368127e-03 -5.83152118e-01  5.38210624e-02\n",
            "  3.87024956e-02 -9.31966449e-04 -4.47602775e-02 -3.16661489e-01\n",
            "  1.21673398e-02  3.48969659e-02  4.29786683e+00 -3.22305064e-02\n",
            "  5.41317179e-02 -9.76234856e-02  3.16866004e+00  2.86496842e+00\n",
            "  2.35717614e+00  1.61540851e-02 -4.72947085e-01  1.37490939e-01\n",
            " -1.06011184e-01  1.21388630e-01  1.20197784e-01 -3.38096717e-02\n",
            " -1.23216320e+00  5.25266646e-02 -4.48120534e-02 -6.31148390e-02\n",
            " -1.99337268e-03 -8.01232267e-02 -2.96934866e-02 -6.20016568e-02\n",
            " -4.37506472e-02 -6.39432536e-03 -3.69421145e-02  1.18256187e-01\n",
            " -1.82152842e+00  1.92917055e-01  2.32965724e-01  2.69053536e-01\n",
            " -4.92388941e-02  4.40871906e-02  5.43647095e-03  6.93797246e-02\n",
            " -2.74153464e-02  1.71637154e-01 -2.62892203e-01 -1.00419385e-01\n",
            "  8.60515688e-02  6.23141245e+00 -1.27135756e-01 -5.11131821e-01\n",
            " -8.57150254e-02 -3.97561354e-01  1.47561354e-03  1.27860619e-01\n",
            "  6.13544579e-02 -5.20347934e-02 -8.95723310e-02  4.24562494e-03\n",
            " -2.72211867e-01 -8.62068966e-03  1.95195195e-02  5.91798695e-02\n",
            "  2.11711712e-01 -3.69421145e-02 -1.98068758e-01 -1.28947913e-01\n",
            " -1.60764212e-02 -4.55369162e-02  1.77591384e-02 -5.52966760e-02\n",
            " -3.86015326e-01  2.51957130e+00  9.27565497e-02 -6.23951538e-01\n",
            " -9.91508750e-03  7.05964585e-02  2.64652584e-01 -3.69421145e-02\n",
            " -4.51848400e-01 -2.73894584e-01  1.01765559e-01  7.39101170e-02\n",
            " -8.95982189e-02 -1.44506576e-01  8.87956922e-03  2.40757999e-03\n",
            " -7.11996479e-01 -4.38000932e+00 -4.04887646e-02 -4.77715647e+00\n",
            " -8.86222429e-01 -2.88246868e+00  8.76566221e-02 -2.33294501e+00\n",
            " -1.78652791e-01 -3.39261675e-01 -8.57150254e-02  1.30475303e-02\n",
            " -5.20606814e-02  6.61178420e-02  1.09790825e-01 -7.11659936e-02\n",
            "  1.81241586e-01 -7.20202962e-02 -1.26177902e-01 -1.91312002e-02\n",
            " -2.85026406e-02  3.08325567e-02 -6.67909289e-02 -1.70808740e-01\n",
            "  7.16319768e-02  1.84063374e-02 -3.11691001e-02 -2.60691726e-02\n",
            " -4.24743709e-01 -7.03945325e-01 -4.48793621e-01 -4.61582272e-02\n",
            "  9.95391944e-02  1.07447965e+00 -5.20347934e-02 -5.20347934e-02\n",
            " -1.82277105e-01  1.24262193e-02  6.80335508e-02 -1.08884747e-01\n",
            "  9.00900901e-03  1.01765559e-01  3.22771047e-01  1.31795589e-01\n",
            "  2.80884333e-02 -1.33400642e-01  4.64947706e-02 -4.04887646e-02\n",
            " -4.04887646e-02 -2.87356322e-02 -4.04887646e-02  3.07600704e-01\n",
            " -8.54043699e-02 -3.11173242e-02  1.30475303e-02  1.30216423e-02\n",
            " -2.78554416e-02 -1.53541473e-01 -3.93315730e-01 -8.19094957e-02\n",
            " -1.12405509e-01  2.40525008e-01 -1.10800456e-01  2.52485244e-01\n",
            "  8.64657761e-03  1.92865279e-02 -2.14870042e-03 -2.02314383e-01\n",
            " -1.56622139e-02 -3.62250181e-01  3.91425909e-01 -5.65134100e-02\n",
            " -6.01894998e-02  1.36791964e-01 -1.71507715e-01  2.78813296e-02\n",
            "  1.01765559e-01  1.01765559e-01 -1.29439785e-01 -2.02003728e-01\n",
            " -6.36843740e-03  4.87211349e-02  1.17764316e-01 -9.41027234e-02\n",
            "  1.03292948e-01  1.20120120e-02 -8.57150254e-02  1.30475303e-02\n",
            " -5.21331677e-01 -3.92409651e-01  1.73190432e-02 -4.52003728e-02\n",
            " -5.66946257e-03  5.45200373e-02 -2.65610438e-02 -8.64140002e-02\n",
            " -1.86142177e+00  4.14362639e-01 -7.10624418e-02 -2.54608056e-01\n",
            "  7.02599151e-02  2.30092161e-01 -7.63694729e-03 -9.75199337e-02\n",
            "  6.50823237e-02  9.31966449e-02 -2.14145180e-01 -1.29828104e-01\n",
            " -6.76452314e-02 -4.72947085e-01 -1.03111732e-01 -2.84197991e-01\n",
            " -6.21310966e-03 -1.05752304e-01 -4.67018743e-02 -2.65610438e-02\n",
            "  6.35808222e-02  1.59314487e-01 -1.82768976e-02 -2.63720617e-01\n",
            " -1.66200683e-02 -1.72672673e-01 -1.32934659e-01 -5.73677125e-02\n",
            " -5.90504297e-02 -4.04887646e-02 -4.93942218e-02 -3.60386248e-01\n",
            "  1.36429533e-02  1.01765559e-01 -1.36067102e-01  9.61996479e-02\n",
            " -5.82220151e-02 -7.89582686e-03  2.98229264e-02  8.08480895e-02\n",
            "  1.42616755e-01 -8.13658486e-02 -4.09806358e-02 -1.16081599e-01\n",
            " -4.91146319e-01  1.57139899e-02  1.75701564e-01  1.70601636e-02\n",
            "  1.42616755e-01 -8.57150254e-02 -8.33851092e-02  1.58952056e-02\n",
            " -7.92171482e-03  5.34327431e-02  3.20648234e-01 -5.48824687e-03\n",
            "  2.78321425e-01  4.56958683e+00 -5.77042560e-02 -2.28305892e-01\n",
            " -5.20347934e-02 -7.84767526e-01 -1.64906286e-02 -3.70715543e-02\n",
            " -4.58993476e-02 -5.64616340e-02 -2.65610438e-02  9.79341410e-02\n",
            " -3.28802941e-01 -4.82111422e-01 -7.17096407e-03 -1.97136792e-01\n",
            " -2.60173967e-02 -2.77001139e-02 -2.43087916e-02 -5.26172724e-01\n",
            "  2.37651445e-02 -1.68271720e-02  7.44123434e-01  7.10831521e-01\n",
            "  2.60510511e-01 -4.66138552e-01 -1.64129647e-02 -1.42098996e-01\n",
            " -4.45272859e-02 -3.00300300e-03  3.29553692e-02 -9.61219841e-02\n",
            " -1.03810707e-02  3.78740810e-02 -8.90027959e-02 -2.07828518e-01\n",
            "  1.00005178e-01 -1.43419281e-02 -3.26706016e-02 -1.19214042e-01\n",
            " -5.77301439e-02 -4.91871182e-03  1.03888371e-01  4.62358911e-02\n",
            " -7.70684478e-02 -7.70684478e-02 -4.14207311e-04 -2.65610438e-02\n",
            " -2.65610438e-02 -1.07486797e-01  5.22418971e-02 -5.11882572e-01\n",
            " -3.23858341e-02 -1.39794967e-03 -7.00010355e-02 -2.73998136e-01\n",
            " -1.57139899e-02 -1.05933520e-01 -2.23930827e-02 -3.27741535e-02\n",
            "  1.36662525e-01  5.51931242e-02  2.52744123e-01 -2.90799420e-01\n",
            " -1.01221912e-02 -1.01196024e+00 -6.34254945e-03 -1.60764212e-02\n",
            " -8.70249560e-01 -5.81961272e-02  1.81215698e-04 -1.84063374e-02\n",
            "  9.32225329e-02  7.98125712e-02  8.88992441e-02 -1.17065341e-01\n",
            " -5.96639743e-01 -4.70435953e-01 -2.79926478e-01  1.95971834e-02\n",
            " -7.89582686e-03  9.63031998e-03  5.67722895e-02 -3.33436885e-01\n",
            "  1.59469815e-02  4.24562494e-03  2.81220876e-01 -7.19426323e-02\n",
            " -8.16765041e-02  2.78269649e-01  6.03707155e-02 -1.08548203e-01\n",
            " -8.01232267e-02 -4.14207311e-04 -1.53256705e-01 -2.12229471e-01\n",
            " -4.02816610e-02 -1.33193538e-01 -2.10469090e-02 -1.72154914e-02\n",
            " -4.23785855e-02 -2.18494356e-02 -9.07424666e-01 -6.61955059e-02\n",
            " -4.79703842e-02  1.57139899e-02 -3.71751061e-02 -5.67464016e-02\n",
            " -8.69835353e-03 -4.55628042e-02 -5.03210107e-01  9.93320907e-02\n",
            " -7.28228228e-02  9.78823651e-02  1.87791240e-01 -2.53960857e-02\n",
            "  1.03137620e-01 -2.93310552e-01 -7.12436575e-02  5.54002278e-03\n",
            "  1.59651030e-01  5.90245418e-03  2.27296262e-02  6.89888164e-01\n",
            " -2.45935591e-02 -2.84508647e-02 -9.70798385e-03 -1.47561354e-03\n",
            "  1.41866004e-01  1.31070726e-01 -3.69084602e-01 -2.14611163e-02\n",
            " -2.90618204e-01 -7.92171482e-03 -1.05105105e-02 -7.54892824e-02\n",
            " -2.94346070e-02 -6.31407269e-02 -1.47250699e-01 -1.32805219e-02\n",
            " -1.09376618e-01  2.32991612e-02 -1.51470436e-01  1.46603500e-01\n",
            "  6.53852128e-01 -1.31148390e-01 -7.70684478e-02  5.92057575e-02\n",
            " -7.67319043e-02 -8.31003417e-03 -7.00269235e-02  1.80439060e-02\n",
            "  7.17096407e-03  1.90794243e-02  2.70270270e-02 -3.65589728e-01\n",
            " -6.38397018e-02  4.73490732e-02  6.80853267e-03  2.03738221e-02\n",
            " -3.99192296e-01  2.06430568e-01  1.08211660e-02  7.60070415e-02\n",
            "  4.81515999e-02 -1.61540851e-02  1.01196024e-01 -2.69959615e-01\n",
            " -1.05752304e-01  1.35049705e+00  1.31769701e-01 -6.02412758e-02\n",
            " -5.07041524e-01 -6.44610127e-03  9.91508750e-03 -2.33768251e-02\n",
            " -1.44195920e-02 -7.92171482e-03 -3.71492182e-02  6.18463291e-02\n",
            "  5.28373201e-02 -3.50522937e-02  1.36507197e-01 -6.27808843e-01\n",
            " -5.15972869e-01 -5.17500259e-02 -5.03287771e-01 -4.67018743e-02\n",
            " -2.18494356e-02 -2.48524386e-02 -5.35621829e-02 -5.34456871e-01\n",
            " -1.26074350e-02  7.52304028e-02  1.21673398e-03  2.04255980e-01\n",
            "  2.28072900e-02 -2.72859066e-02  3.22046184e-02  1.18773946e-01\n",
            " -1.42901522e-02 -1.08211660e-02  1.69747334e-01 -4.64171068e-02\n",
            "  4.85399192e-02 -2.25225225e-03 -1.71844258e-01 -1.09609610e-01\n",
            " -2.15387802e-02 -1.56104380e-02  1.04639122e-01 -6.57554106e-02\n",
            " -3.26188257e-03 -1.45619758e-01  8.45759553e-02  3.23858341e-02\n",
            " -3.50522937e-02  2.05809258e-02 -5.74712644e-03 -8.95723310e-03\n",
            " -1.17365642e+00 -4.68572020e-02 -4.37247592e-02 -1.09790825e-01\n",
            "  9.70798385e-03 -2.59138449e-02  1.03292948e-01  1.06477167e-01\n",
            " -1.00678264e-01 -3.77705291e-02 -6.24935280e-02  1.41995444e-01\n",
            "  2.44848297e-01]\n",
            "Gradiente en theta inicial (zeros):\n",
            "\t[-0.0080, -0.2236, 0.0084]\n",
            "Gradiente esperado (aproximado):\n",
            "\t[-0.1000, -12.0092, -11.2628]\n",
            "\n"
          ]
        }
      ],
      "source": [
        "# Inicializacion de parametros de ajuste\n",
        "initial_theta = np.zeros(n+1)\n",
        "#print(initial_theta)\n",
        "cost, grad = costFunction(initial_theta, X, y)\n",
        "\n",
        "print('Costo en theta inicial (zeros): {:.3f}'.format(cost))\n",
        "print('Costo esperado (aproximado): 0.693\\n')\n",
        "print(grad)\n",
        "print('Gradiente en theta inicial (zeros):')\n",
        "print('\\t[{:.4f}, {:.4f}, {:.4f}]'.format(*grad))\n",
        "print('Gradiente esperado (aproximado):\\n\\t[-0.1000, -12.0092, -11.2628]\\n')\n",
        "\n"
      ]
    },
    {
      "cell_type": "code",
      "execution_count": 69,
      "metadata": {
        "colab": {
          "base_uri": "https://localhost:8080/",
          "height": 349
        },
        "id": "4Um8ITq2JVNj",
        "outputId": "48fcf5a4-b19d-4a2e-cff8-60028884be12"
      },
      "outputs": [
        {
          "output_type": "stream",
          "name": "stdout",
          "text": [
            "[-24.    0.2   0.2]\n"
          ]
        },
        {
          "output_type": "error",
          "ename": "ValueError",
          "evalue": "shapes (19314,501) and (3,) not aligned: 501 (dim 1) != 3 (dim 0)",
          "traceback": [
            "\u001b[0;31m---------------------------------------------------------------------------\u001b[0m",
            "\u001b[0;31mValueError\u001b[0m                                Traceback (most recent call last)",
            "\u001b[0;32m<ipython-input-69-8dc3d123e49b>\u001b[0m in \u001b[0;36m<cell line: 6>\u001b[0;34m()\u001b[0m\n\u001b[1;32m      4\u001b[0m \u001b[0;31m#test_theta = np.array([-11.74749157, 0.09927308, 0.09316497])\u001b[0m\u001b[0;34m\u001b[0m\u001b[0;34m\u001b[0m\u001b[0m\n\u001b[1;32m      5\u001b[0m \u001b[0mprint\u001b[0m\u001b[0;34m(\u001b[0m\u001b[0mtest_theta\u001b[0m\u001b[0;34m)\u001b[0m\u001b[0;34m\u001b[0m\u001b[0;34m\u001b[0m\u001b[0m\n\u001b[0;32m----> 6\u001b[0;31m \u001b[0mcost\u001b[0m\u001b[0;34m,\u001b[0m \u001b[0mgrad\u001b[0m \u001b[0;34m=\u001b[0m \u001b[0mcostFunction\u001b[0m\u001b[0;34m(\u001b[0m\u001b[0mtest_theta\u001b[0m\u001b[0;34m,\u001b[0m \u001b[0mX\u001b[0m\u001b[0;34m,\u001b[0m \u001b[0my\u001b[0m\u001b[0;34m)\u001b[0m\u001b[0;34m\u001b[0m\u001b[0;34m\u001b[0m\u001b[0m\n\u001b[0m\u001b[1;32m      7\u001b[0m \u001b[0;34m\u001b[0m\u001b[0m\n\u001b[1;32m      8\u001b[0m \u001b[0mprint\u001b[0m\u001b[0;34m(\u001b[0m\u001b[0;34m'Costo en theta prueba: {:.3f}'\u001b[0m\u001b[0;34m.\u001b[0m\u001b[0mformat\u001b[0m\u001b[0;34m(\u001b[0m\u001b[0mcost\u001b[0m\u001b[0;34m)\u001b[0m\u001b[0;34m)\u001b[0m\u001b[0;34m\u001b[0m\u001b[0;34m\u001b[0m\u001b[0m\n",
            "\u001b[0;32m<ipython-input-67-e3041c0335d8>\u001b[0m in \u001b[0;36mcostFunction\u001b[0;34m(theta, X, y)\u001b[0m\n\u001b[1;32m      6\u001b[0m     \u001b[0mgrad\u001b[0m \u001b[0;34m=\u001b[0m \u001b[0mnp\u001b[0m\u001b[0;34m.\u001b[0m\u001b[0mzeros\u001b[0m\u001b[0;34m(\u001b[0m\u001b[0mtheta\u001b[0m\u001b[0;34m.\u001b[0m\u001b[0mshape\u001b[0m\u001b[0;34m)\u001b[0m\u001b[0;34m\u001b[0m\u001b[0;34m\u001b[0m\u001b[0m\n\u001b[1;32m      7\u001b[0m \u001b[0;34m\u001b[0m\u001b[0m\n\u001b[0;32m----> 8\u001b[0;31m     \u001b[0mh\u001b[0m \u001b[0;34m=\u001b[0m \u001b[0msigmoid\u001b[0m\u001b[0;34m(\u001b[0m\u001b[0mX\u001b[0m\u001b[0;34m.\u001b[0m\u001b[0mdot\u001b[0m\u001b[0;34m(\u001b[0m\u001b[0mtheta\u001b[0m\u001b[0;34m.\u001b[0m\u001b[0mT\u001b[0m\u001b[0;34m)\u001b[0m\u001b[0;34m)\u001b[0m\u001b[0;34m\u001b[0m\u001b[0;34m\u001b[0m\u001b[0m\n\u001b[0m\u001b[1;32m      9\u001b[0m \u001b[0;34m\u001b[0m\u001b[0m\n\u001b[1;32m     10\u001b[0m     \u001b[0mJ\u001b[0m \u001b[0;34m=\u001b[0m \u001b[0;34m(\u001b[0m\u001b[0;36m1\u001b[0m \u001b[0;34m/\u001b[0m \u001b[0mm\u001b[0m\u001b[0;34m)\u001b[0m \u001b[0;34m*\u001b[0m \u001b[0mnp\u001b[0m\u001b[0;34m.\u001b[0m\u001b[0msum\u001b[0m\u001b[0;34m(\u001b[0m\u001b[0;34m-\u001b[0m\u001b[0my\u001b[0m\u001b[0;34m.\u001b[0m\u001b[0mdot\u001b[0m\u001b[0;34m(\u001b[0m\u001b[0mnp\u001b[0m\u001b[0;34m.\u001b[0m\u001b[0mlog\u001b[0m\u001b[0;34m(\u001b[0m\u001b[0mh\u001b[0m\u001b[0;34m)\u001b[0m\u001b[0;34m)\u001b[0m \u001b[0;34m-\u001b[0m \u001b[0;34m(\u001b[0m\u001b[0;36m1\u001b[0m \u001b[0;34m-\u001b[0m \u001b[0my\u001b[0m\u001b[0;34m)\u001b[0m\u001b[0;34m.\u001b[0m\u001b[0mdot\u001b[0m\u001b[0;34m(\u001b[0m\u001b[0mnp\u001b[0m\u001b[0;34m.\u001b[0m\u001b[0mlog\u001b[0m\u001b[0;34m(\u001b[0m\u001b[0;36m1\u001b[0m \u001b[0;34m-\u001b[0m \u001b[0mh\u001b[0m\u001b[0;34m)\u001b[0m\u001b[0;34m)\u001b[0m\u001b[0;34m)\u001b[0m\u001b[0;34m\u001b[0m\u001b[0;34m\u001b[0m\u001b[0m\n",
            "\u001b[0;31mValueError\u001b[0m: shapes (19314,501) and (3,) not aligned: 501 (dim 1) != 3 (dim 0)"
          ]
        }
      ],
      "source": [
        "# Calcula y muestra el costo y el gradiente con valores de theta diferentes a cero\n",
        "\n",
        "test_theta = np.array([-24, 0.2, 0.2])\n",
        "#test_theta = np.array([-11.74749157, 0.09927308, 0.09316497])\n",
        "print(test_theta)\n",
        "cost, grad = costFunction(test_theta, X, y)\n",
        "\n",
        "print('Costo en theta prueba: {:.3f}'.format(cost))\n",
        "print('Costo esperado (aproximado): 0.218\\n')\n",
        "\n",
        "print('Gradiente en theta prueba:')\n",
        "print('\\t[{:.3f}, {:.3f}, {:.3f}]'.format(*grad))\n",
        "print('Gradiente esperado (aproximado):\\n\\t[0.043, 2.566, 2.647]')"
      ]
    },
    {
      "cell_type": "markdown",
      "metadata": {
        "id": "7AeXffwpJVNj"
      },
      "source": [
        "#### 1.2.3 Parámetros de aprendizaje usando `scipy.optimize`\n",
        "\n",
        "En el codigo anterior se encontró los parámetros óptimos de un modelo de regresión lineal al implementar el descenso de gradiente. Se implemento una función de costo y se calculó su gradiente, utilizando el algoritmo del descenso por el gradiente.\n",
        "\n",
        "En lugar de realizar los pasos del descenso por el gradiente, se utilizará el [módulo `scipy.optimize`] (https://docs.scipy.org/doc/scipy/reference/optimize.html). SciPy es una biblioteca de computación numérica para `python`. Proporciona un módulo de optimización para la búsqueda y minimización de raíces. A partir de `scipy 1.0`, la función` scipy.optimize.minimize` es el método a utilizar para problemas de optimización (tanto restringidos como no restringidos).\n",
        "\n",
        "For logistic regression, you want to optimize the cost function $J(\\theta)$ with parameters $\\theta$.\n",
        "Concretely, you are going to use `optimize.minimize` to find the best parameters $\\theta$ for the logistic regression cost function, given a fixed dataset (of X and y values). You will pass to `optimize.minimize` the following inputs:\n",
        "\n",
        "Para la regresión logística, se desea optimizar la función de costo $J(\\theta)$ con los parámetros $\\theta$.\n",
        "Concretamente, se va a utilizar `optimize.minimize` para encontrar los mejores parámetros $\\theta$ para la función de costo de regresión logística, dado un dataset fijo (de valores X e y). Se pasara a `optimize.minimize` las siguientes entradas:\n",
        "\n",
        "- `costFunction`: Una función de costo que, cuando se le da el dataset de entrenamiento y un $\\theta$ particular, calcula el costo de regresión logística y el gradiente con respecto a $\\theta$ para el dataset(X, y). Es importante tener en cuenta que solo se pasa el nombre de la función sin el paréntesis. Esto indica que solo proporcionamos una referencia a esta función y no evaluamos el resultado de esta función.\n",
        "- `initial_theta`: Los valores iniciales de los parametros que se tratan de optimizar.\n",
        "- `(X, y)`: Estos son argumentos adicionales a la funcion de costo.\n",
        "- `jac`: Indicación si la función de costo devuelve el jacobiano (gradiente) junto con el valor de costo. (True)\n",
        "- `method`: Método / algoritmo de optimización a utilizar\n",
        "- `options`: Opciones adicionales que pueden ser específicas del método de optimización específico. Solo se indica al algoritmo el número máximo de iteraciones antes de que termine.\n",
        "\n",
        "Si se ha completado la `costFunction` correctamente,`optimize.minimize` convergerá en los parámetros de optimización correctos y devolverá los valores finales del costo y $\\theta$ en un objeto de clase.\n",
        "\n",
        "Al usar `optimize.minimize`, no se tuvo que escribir ningún bucle ni establecer una tasa de aprendizaje como se hizo para el descenso de gradientes. Todo esto se hace mediante `optimize.minimize`: solo se necesita proporcionar una función que calcule el costo y el gradiente.\n",
        "\n",
        "A continuación, se tiene el código para llamar a `optimize.minimize` con los argumentos correctos."
      ]
    },
    {
      "cell_type": "code",
      "execution_count": 71,
      "metadata": {
        "scrolled": true,
        "colab": {
          "base_uri": "https://localhost:8080/"
        },
        "id": "sB2xAu03JVNj",
        "outputId": "85217d17-6bf1-42a0-e6d4-f7e5412ea988"
      },
      "outputs": [
        {
          "output_type": "stream",
          "name": "stderr",
          "text": [
            "<ipython-input-71-0dfcfa2e2ef1>:7: OptimizeWarning: Unknown solver options: maxiter\n",
            "  res = optimize.minimize(costFunction,\n",
            "<ipython-input-67-e3041c0335d8>:10: RuntimeWarning: divide by zero encountered in log\n",
            "  J = (1 / m) * np.sum(-y.dot(np.log(h)) - (1 - y).dot(np.log(1 - h)))\n"
          ]
        },
        {
          "output_type": "stream",
          "name": "stdout",
          "text": [
            "Costo con un valor de theta encontrado por optimize.minimize: 0.000\n",
            "Costo esperado (aproximado): 0.203\n",
            "\n",
            "theta:\n",
            "\t[-0.006, -0.011, 0.006]\n",
            "Theta esperado (aproximado):\n",
            "\t[-25.161, 0.206, 0.201]\n"
          ]
        }
      ],
      "source": [
        "# Establecer las opciones para optimize.minimize\n",
        "options= {'maxiter': 1000}\n",
        "\n",
        "# revisar la documentacion de scipy's optimize.minimize para mayor descripcion de los parametros\n",
        "# La funcion devuekve un objeto `OptimizeResult`\n",
        "# Se utiliza el algoritmo de Newton truncado para la optimización.\n",
        "res = optimize.minimize(costFunction,\n",
        "                        initial_theta,\n",
        "                        (X, y),\n",
        "                        jac=True,\n",
        "                        method='TNC',\n",
        "                        options=options)\n",
        "\n",
        "# la propiedad fun del objeto devuelto por `OptimizeResult`\n",
        "# contiene el valor del costFunction de un theta optimizado\n",
        "cost = res.fun\n",
        "\n",
        "# Theta optimizada esta en la propiedad x\n",
        "theta = res.x\n",
        "\n",
        "# Imprimir theta en la pantalla\n",
        "print('Costo con un valor de theta encontrado por optimize.minimize: {:.3f}'.format(cost))\n",
        "print('Costo esperado (aproximado): 0.203\\n');\n",
        "\n",
        "print('theta:')\n",
        "print('\\t[{:.3f}, {:.3f}, {:.3f}]'.format(*theta))\n",
        "print('Theta esperado (aproximado):\\n\\t[-25.161, 0.206, 0.201]')"
      ]
    },
    {
      "cell_type": "markdown",
      "metadata": {
        "id": "1DlPL874JVNk"
      },
      "source": [
        "Una vez que se completa `optimize.minimize`, se usa el valor final de $\\theta$ para visualizar el límite de decisión en los datos de entrenamiento.\n",
        "\n",
        "Para hacerlo, se implementa la función `plotDecisionBoundary` para trazar el límite de decisión sobre los datos de entrenamiento."
      ]
    },
    {
      "cell_type": "code",
      "execution_count": 72,
      "metadata": {
        "id": "_mDWAzqxJVNk"
      },
      "outputs": [],
      "source": [
        "def plotDecisionBoundary(plotData, theta, X, y):\n",
        "    \"\"\"\n",
        "    Grafica los puntos X y Y en una nueva figura con un limite de desicion definido por theta.\n",
        "    the data points X and y into a new figure with the decision boundary defined by theta.\n",
        "    Grafica los puntos con * para los ejemplos positivos y con o para los ejemplos negativos.\n",
        "\n",
        "    Parametros:\n",
        "    ----------\n",
        "    plotData : func\n",
        "        A function reference for plotting the X, y data.\n",
        "\n",
        "    theta : array_like\n",
        "        Parametros para la regresion logistica. Un vecto de la forma (n+1, ).\n",
        "\n",
        "    X : array_like\n",
        "        Data set de entrada. Se supone que X es una de las siguientes:\n",
        "            1) Matriz Mx3, donde la primera columna es una columna de unos para intercepción.\n",
        "            2) Matriz MxN, N> 3, donde la primera columna son todos unos.\n",
        "\n",
        "    y : array_like\n",
        "        Vector de datos de etiquetas de la forma (m, ).\n",
        "    \"\"\"\n",
        "    # hacer que theta sera un arreglo numpy\n",
        "    theta = np.array(theta)\n",
        "\n",
        "    # Graficar los datos (recordar que la primera columna en X es la intercepción)\n",
        "    plotData(X[:, 1:3], y)\n",
        "\n",
        "    if X.shape[1] <= 3:\n",
        "        # Solo se requieren 2 puntos para definir una linea, para lo cual se eligen dos puntos finales\n",
        "        plot_x = np.array([np.min(X[:, 1]) - 2, np.max(X[:, 1]) + 2])\n",
        "\n",
        "        # Calcular la línea límite de decisión\n",
        "        plot_y = (-1. / theta[2]) * (theta[1] * plot_x + theta[0])\n",
        "\n",
        "        print(plot_x)\n",
        "        print(plot_y)\n",
        "        # Graficar y ajustar los ejes para una mejor visualización\n",
        "        pyplot.plot(plot_x, plot_y)\n",
        "\n",
        "        # Leyenda, especifica para el ejercicio\n",
        "        pyplot.legend(['Admitido', 'No admitido', 'Limite de decisión'])\n",
        "        pyplot.xlim([30, 100])\n",
        "        pyplot.ylim([30, 100])\n",
        "    else:\n",
        "        # Rango de la grilla\n",
        "        u = np.linspace(-1, 1.5, 50)\n",
        "        v = np.linspace(-1, 1.5, 50)\n",
        "\n",
        "        z = np.zeros((u.size, v.size))\n",
        "        # Evalua z = theta*x sobre la grilla\n",
        "        for i, ui in enumerate(u):\n",
        "            for j, vj in enumerate(v):\n",
        "                z[i, j] = np.dot(mapFeature(ui, vj), theta)\n",
        "\n",
        "        z = z.T  # importante transponer z antes de llamar al contorno\n",
        "        # print(z)\n",
        "\n",
        "        # Plot z = 0\n",
        "        pyplot.contour(u, v, z, levels=[0], linewidths=2, colors='g')\n",
        "        pyplot.contourf(u, v, z, levels=[np.min(z), 0, np.max(z)], cmap='Greens', alpha=0.4)\n"
      ]
    },
    {
      "cell_type": "code",
      "execution_count": 73,
      "metadata": {
        "colab": {
          "base_uri": "https://localhost:8080/",
          "height": 693
        },
        "id": "Q6oQNi0CJVNk",
        "outputId": "d5335a12-2250-4649-b5e7-337eb25d6a10"
      },
      "outputs": [
        {
          "output_type": "error",
          "ename": "NameError",
          "evalue": "name 'mapFeature' is not defined",
          "traceback": [
            "\u001b[0;31m---------------------------------------------------------------------------\u001b[0m",
            "\u001b[0;31mNameError\u001b[0m                                 Traceback (most recent call last)",
            "\u001b[0;32m<ipython-input-73-3ebd913db2b3>\u001b[0m in \u001b[0;36m<cell line: 2>\u001b[0;34m()\u001b[0m\n\u001b[1;32m      1\u001b[0m \u001b[0;31m# Graficar limites\u001b[0m\u001b[0;34m\u001b[0m\u001b[0;34m\u001b[0m\u001b[0m\n\u001b[0;32m----> 2\u001b[0;31m \u001b[0mplotDecisionBoundary\u001b[0m\u001b[0;34m(\u001b[0m\u001b[0mplotData\u001b[0m\u001b[0;34m,\u001b[0m \u001b[0mtheta\u001b[0m\u001b[0;34m,\u001b[0m \u001b[0mX\u001b[0m\u001b[0;34m,\u001b[0m \u001b[0my\u001b[0m\u001b[0;34m)\u001b[0m\u001b[0;34m\u001b[0m\u001b[0;34m\u001b[0m\u001b[0m\n\u001b[0m",
            "\u001b[0;32m<ipython-input-72-f0bbfc4168ba>\u001b[0m in \u001b[0;36mplotDecisionBoundary\u001b[0;34m(plotData, theta, X, y)\u001b[0m\n\u001b[1;32m     52\u001b[0m         \u001b[0;32mfor\u001b[0m \u001b[0mi\u001b[0m\u001b[0;34m,\u001b[0m \u001b[0mui\u001b[0m \u001b[0;32min\u001b[0m \u001b[0menumerate\u001b[0m\u001b[0;34m(\u001b[0m\u001b[0mu\u001b[0m\u001b[0;34m)\u001b[0m\u001b[0;34m:\u001b[0m\u001b[0;34m\u001b[0m\u001b[0;34m\u001b[0m\u001b[0m\n\u001b[1;32m     53\u001b[0m             \u001b[0;32mfor\u001b[0m \u001b[0mj\u001b[0m\u001b[0;34m,\u001b[0m \u001b[0mvj\u001b[0m \u001b[0;32min\u001b[0m \u001b[0menumerate\u001b[0m\u001b[0;34m(\u001b[0m\u001b[0mv\u001b[0m\u001b[0;34m)\u001b[0m\u001b[0;34m:\u001b[0m\u001b[0;34m\u001b[0m\u001b[0;34m\u001b[0m\u001b[0m\n\u001b[0;32m---> 54\u001b[0;31m                 \u001b[0mz\u001b[0m\u001b[0;34m[\u001b[0m\u001b[0mi\u001b[0m\u001b[0;34m,\u001b[0m \u001b[0mj\u001b[0m\u001b[0;34m]\u001b[0m \u001b[0;34m=\u001b[0m \u001b[0mnp\u001b[0m\u001b[0;34m.\u001b[0m\u001b[0mdot\u001b[0m\u001b[0;34m(\u001b[0m\u001b[0mmapFeature\u001b[0m\u001b[0;34m(\u001b[0m\u001b[0mui\u001b[0m\u001b[0;34m,\u001b[0m \u001b[0mvj\u001b[0m\u001b[0;34m)\u001b[0m\u001b[0;34m,\u001b[0m \u001b[0mtheta\u001b[0m\u001b[0;34m)\u001b[0m\u001b[0;34m\u001b[0m\u001b[0;34m\u001b[0m\u001b[0m\n\u001b[0m\u001b[1;32m     55\u001b[0m \u001b[0;34m\u001b[0m\u001b[0m\n\u001b[1;32m     56\u001b[0m         \u001b[0mz\u001b[0m \u001b[0;34m=\u001b[0m \u001b[0mz\u001b[0m\u001b[0;34m.\u001b[0m\u001b[0mT\u001b[0m  \u001b[0;31m# importante transponer z antes de llamar al contorno\u001b[0m\u001b[0;34m\u001b[0m\u001b[0;34m\u001b[0m\u001b[0m\n",
            "\u001b[0;31mNameError\u001b[0m: name 'mapFeature' is not defined"
          ]
        },
        {
          "output_type": "display_data",
          "data": {
            "text/plain": [
              "<Figure size 640x480 with 1 Axes>"
            ],
            "image/png": "[encoded data removed]"
          },
          "metadata": {}
        }
      ],
      "source": [
        "# Graficar limites\n",
        "plotDecisionBoundary(plotData, theta, X, y)"
      ]
    },
    {
      "cell_type": "markdown",
      "metadata": {
        "id": "nj6vynAtJVNk"
      },
      "source": [
        "<a id=\"section4\"></a>\n",
        "#### 1.2.4 Evaluación de la regresión logistica\n",
        "\n",
        "Después de aprender los parámetros, se puede usar el modelo para predecir si un estudiante en particular será admitido. Para un estudiante con una puntuación en el Examen 1 de 45 y una puntuación en el Examen 2 de 85, debe esperar ver una probabilidad de admisión de 0,776. Otra forma de evaluar la calidad de los parámetros que hemos encontrado es ver qué tan bien predice el modelo aprendido en nuestro conjunto de entrenamiento."
      ]
    },
    {
      "cell_type": "code",
      "execution_count": null,
      "metadata": {
        "id": "0xz73RAdJVNk"
      },
      "outputs": [],
      "source": [
        "def predict(theta, X):\n",
        "    \"\"\"\n",
        "    Predecir si la etiqueta es 0 o 1 mediante regresión logística aprendida.\n",
        "    Calcula las predicciones para X usando un umbral en 0.5 (es decir, si sigmoide (theta.T * x)> = 0.5, predice 1)\n",
        "\n",
        "    Parametros\n",
        "    ----------\n",
        "    theta : array_like\n",
        "        Parametros para regresion logistica. Un vecto de la forma (n+1, ).\n",
        "\n",
        "    X : array_like\n",
        "        Datos utilizados para el calculo de las predicciones.\n",
        "        La fila es el numero de los puntos para calcular las predicciones,\n",
        "        y las columnas con el numero de caracteristicas.\n",
        "\n",
        "    Devuelve\n",
        "    -------\n",
        "    p : array_like\n",
        "        Predicciones y 0 o 1 para cada fila en X.\n",
        "    \"\"\"\n",
        "    m = X.shape[0] # Numero de ejemplo de entrenamiento\n",
        "\n",
        "    p = np.zeros(m)\n",
        "\n",
        "    p = np.round(sigmoid(X.dot(theta.T)))\n",
        "    return p"
      ]
    },
    {
      "cell_type": "markdown",
      "metadata": {
        "id": "w5PnbHiWJVNk"
      },
      "source": [
        "Una vez entrenado el modelo se procede a realizar la prediccion y evaluación de los resultados de predecir cual es el valor que vota el modelo para todos los datos utilizados en el entrenamiento."
      ]
    },
    {
      "cell_type": "code",
      "execution_count": 76,
      "metadata": {
        "colab": {
          "base_uri": "https://localhost:8080/",
          "height": 228
        },
        "id": "VcAxVqIWJVNk",
        "outputId": "b3fa0897-0625-4a27-f4e3-57ea42d5a0eb"
      },
      "outputs": [
        {
          "output_type": "error",
          "ename": "ValueError",
          "evalue": "setting an array element with a sequence. The requested array has an inhomogeneous shape after 1 dimensions. The detected shape was (2,) + inhomogeneous part.",
          "traceback": [
            "\u001b[0;31m---------------------------------------------------------------------------\u001b[0m",
            "\u001b[0;31mValueError\u001b[0m                                Traceback (most recent call last)",
            "\u001b[0;32m<ipython-input-76-6f75e0075be5>\u001b[0m in \u001b[0;36m<cell line: 2>\u001b[0;34m()\u001b[0m\n\u001b[1;32m      1\u001b[0m \u001b[0;31m#  Predice la probabilidad de ingreso para un estudiante con nota de 45 en el examen 1 y nota de 85 en el examen 2\u001b[0m\u001b[0;34m\u001b[0m\u001b[0;34m\u001b[0m\u001b[0m\n\u001b[0;32m----> 2\u001b[0;31m \u001b[0mprob\u001b[0m \u001b[0;34m=\u001b[0m \u001b[0msigmoid\u001b[0m\u001b[0;34m(\u001b[0m\u001b[0mnp\u001b[0m\u001b[0;34m.\u001b[0m\u001b[0mdot\u001b[0m\u001b[0;34m(\u001b[0m\u001b[0;34m[\u001b[0m\u001b[0mX_array\u001b[0m\u001b[0;34m,\u001b[0m \u001b[0mtheta\u001b[0m\u001b[0;34m]\u001b[0m\u001b[0;34m,\u001b[0m \u001b[0mtheta\u001b[0m\u001b[0;34m)\u001b[0m\u001b[0;34m)\u001b[0m\u001b[0;34m\u001b[0m\u001b[0;34m\u001b[0m\u001b[0m\n\u001b[0m\u001b[1;32m      3\u001b[0m \u001b[0mprint\u001b[0m\u001b[0;34m(\u001b[0m\u001b[0;34m'Para un estudiante con notas de 45 y 85, se predice una probabilidad de admisión de: {:.3f}%'\u001b[0m\u001b[0;34m.\u001b[0m\u001b[0mformat\u001b[0m\u001b[0;34m(\u001b[0m\u001b[0mprob\u001b[0m\u001b[0;34m)\u001b[0m\u001b[0;34m)\u001b[0m\u001b[0;34m\u001b[0m\u001b[0;34m\u001b[0m\u001b[0m\n\u001b[1;32m      4\u001b[0m \u001b[0mprint\u001b[0m\u001b[0;34m(\u001b[0m\u001b[0;34m'Valor esperado: 0.775 +/- 0.002\\n'\u001b[0m\u001b[0;34m)\u001b[0m\u001b[0;34m\u001b[0m\u001b[0;34m\u001b[0m\u001b[0m\n\u001b[1;32m      5\u001b[0m \u001b[0;34m\u001b[0m\u001b[0m\n",
            "\u001b[0;31mValueError\u001b[0m: setting an array element with a sequence. The requested array has an inhomogeneous shape after 1 dimensions. The detected shape was (2,) + inhomogeneous part."
          ]
        }
      ],
      "source": [
        "#  Predice la probabilidad de ingreso para un estudiante con nota de 45 en el examen 1 y nota de 85 en el examen 2\n",
        "prob = sigmoid(np.dot([X_array, theta], theta))\n",
        "print('Para un estudiante con notas de 45 y 85, se predice una probabilidad de admisión de: {:.3f}%'.format(prob))\n",
        "print('Valor esperado: 0.775 +/- 0.002\\n')\n",
        "\n",
        "# Compute accuracy on our training set\n",
        "p = predict(theta, X)\n",
        "print('Precisión de entrenamiento: {:.2f} %'.format(np.mean(p == y) * 100))\n",
        "print('Precisión esperada (aproximadamente): 89.00 %')"
      ]
    }
  ],
  "metadata": {
    "kernelspec": {
      "display_name": "Python 3",
      "language": "python",
      "name": "python3"
    },
    "language_info": {
      "codemirror_mode": {
        "name": "ipython",
        "version": 3
      },
      "file_extension": ".py",
      "mimetype": "text/x-python",
      "name": "python",
      "nbconvert_exporter": "python",
      "pygments_lexer": "ipython3",
      "version": "3.8.5"
    },
    "colab": {
      "provenance": [],
      "include_colab_link": true
    }
  },
  "nbformat": 4,
  "nbformat_minor": 0
}