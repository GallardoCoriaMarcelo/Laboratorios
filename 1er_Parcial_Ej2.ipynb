{
  "nbformat": 4,
  "nbformat_minor": 0,
  "metadata": {
    "colab": {
      "provenance": [],
      "authorship_tag": "ABX9TyNmkz/jomQsjs1npiiehj3W",
      "include_colab_link": true
    },
    "kernelspec": {
      "name": "python3",
      "display_name": "Python 3"
    },
    "language_info": {
      "name": "python"
    }
  },
  "cells": [
    {
      "cell_type": "markdown",
      "metadata": {
        "id": "view-in-github",
        "colab_type": "text"
      },
      "source": [
        "<a href=\"https://colab.research.google.com/github/GallardoCoriaMarcelo/Laboratorios/blob/main/1er_Parcial_Ej2.ipynb\" target=\"_parent\"><img src=\"https://colab.research.google.com/assets/colab-badge.svg\" alt=\"Open In Colab\"/></a>"
      ]
    },
    {
      "cell_type": "code",
      "execution_count": 1,
      "metadata": {
        "id": "hLYhJ0adPXfu"
      },
      "outputs": [],
      "source": [
        "# se utiliza para el manejo de rutas y directorios.\n",
        "import os\n",
        "\n",
        "# Calculo cientifico y vectorial para python\n",
        "import numpy as np\n",
        "\n",
        "# Librerias para graficar\n",
        "from matplotlib import pyplot\n",
        "\n",
        "# Modulo de optimización de scipy\n",
        "from scipy import optimize\n",
        "\n",
        "# le dice a matplotlib que incruste gráficos en el cuaderno\n",
        "%matplotlib inline\n",
        "\n",
        "#Importar pandas\n",
        "import pandas as pd"
      ]
    },
    {
      "cell_type": "markdown",
      "source": [
        "Cargar el Dataset\n",
        "\n",
        "Para optimizar el uso del DataSet se ha ordenado de forma aleatoria los datos, para que sean incluidos tanto resultados de 1 y de 0 en la misma proporcion.\n",
        "\n",
        "Se carga el dataset directamente desde GitHub con la librería PANDAS\n",
        "\n",
        "Se selecciona solo el 80% de los datos para entrenar el modelo"
      ],
      "metadata": {
        "id": "4LJev9htPzRF"
      }
    },
    {
      "cell_type": "code",
      "source": [
        "df = pd.read_csv(\"creditcard.csv\")\n",
        "df.head()\n",
        "\n",
        "#Selecciona el 80% del dataset para entrenamiento\n",
        "porcentaje = 0.8\n",
        "data_muestra = df.sample(frac=porcentaje, random_state=42)\n",
        "\n",
        "df.head()\n",
        "y = data_muestra.iloc[:, -1] # Última columna como y\n",
        "X = data_muestra.iloc[:, :-1] # Todas las columnas excepto la última como X\n",
        "\n",
        "print(X)\n",
        "print(y)"
      ],
      "metadata": {
        "colab": {
          "base_uri": "https://localhost:8080/"
        },
        "id": "IVhHd71rP0XL",
        "outputId": "24710d92-800e-4c00-b032-c27ee1155429"
      },
      "execution_count": 3,
      "outputs": [
        {
          "output_type": "stream",
          "name": "stdout",
          "text": [
            "           Time        V1        V2        V3        V4        V5        V6  \\\n",
            "19735   30513.0 -0.389655  1.110866 -0.465291 -0.633098  1.239639 -0.702517   \n",
            "131416  79593.0  1.243228 -0.500471 -0.317800 -0.522898 -0.816941 -1.228223   \n",
            "135936  81469.0 -1.086241  0.292079  0.432014 -0.654781  0.499160 -0.561768   \n",
            "137780  82317.0  1.258969 -0.236336 -0.677422 -0.526728  1.680588  3.536365   \n",
            "39953   40035.0 -0.335199  0.359701  0.766731  0.656687  0.925652 -0.050091   \n",
            "...         ...       ...       ...       ...       ...       ...       ...   \n",
            "27515   34581.0  1.224690  0.465365  0.120432  1.118882 -0.033035 -1.035069   \n",
            "115098  73747.0 -2.759585 -0.546246  0.613164 -0.056180  0.555677 -0.721426   \n",
            "37648   39049.0 -1.244760 -0.189820  1.314150 -1.947574  0.128864 -0.909936   \n",
            "10         10.0  1.449044 -1.176339  0.913860 -1.375667 -1.971383 -0.629152   \n",
            "145210  86720.0 -4.183046  4.167250 -3.214261 -2.017013 -0.163539 -1.514187   \n",
            "\n",
            "              V7        V8        V9  ...       V20       V21       V22  \\\n",
            "19735   0.432702  0.074560 -0.112121  ...  0.235629 -0.240895 -0.466765   \n",
            "131416 -0.247152 -0.158461 -1.138725  ...  0.149695  0.194161  0.252108   \n",
            "135936  0.296845  0.392550 -2.243257  ... -0.447418 -0.476489 -1.393248   \n",
            "137780 -0.904539  0.929932  0.243768  ...  0.060437 -0.132973 -0.553792   \n",
            "39953   0.924624 -0.220195 -0.220217  ...  0.256794  0.064614  0.146269   \n",
            "...          ...       ...       ...  ...       ...       ...       ...   \n",
            "27515   0.488549 -0.362718 -0.326955  ... -0.034504 -0.004920  0.054008   \n",
            "115098 -1.037212  0.799319  0.249230  ... -0.711786  0.105483  0.343546   \n",
            "37648   0.580180  0.213703  0.613540  ...  0.229891  0.154408  0.207488   \n",
            "10     -1.423236  0.048456 -1.720408  ... -0.387226 -0.009302  0.313894   \n",
            "145210  0.688051  0.789187  2.244577  ...  1.599009 -0.156257  0.549667   \n",
            "\n",
            "             V23       V24       V25       V26       V27       V28  Amount  \n",
            "19735  -0.232153 -0.993107  0.019288  0.425031  0.324078  0.059115    1.00  \n",
            "131416 -0.154354  0.466819  0.547724 -0.179332 -0.029472  0.028695   78.06  \n",
            "135936  0.048219 -0.607021 -0.160112 -0.820734 -0.004251 -0.017187   37.50  \n",
            "137780  0.047177  1.011415  0.316713  0.227639 -0.005987  0.021657   16.85  \n",
            "39953  -0.142875 -1.045245 -0.101440 -0.274446 -0.035163 -0.064915   76.64  \n",
            "...          ...       ...       ...       ...       ...       ...     ...  \n",
            "27515  -0.123612  0.429692  0.764971 -0.364372  0.008496  0.022454   20.97  \n",
            "115098 -1.151759 -0.395027 -0.178000  0.290300  0.063977 -0.576890   29.90  \n",
            "37648   0.128354  0.169576  0.187544 -0.877973  0.313781  0.175416   99.50  \n",
            "10      0.027740  0.500512  0.251367 -0.129478  0.042850  0.016253    7.80  \n",
            "145210 -0.006981 -0.521136  0.438090  0.122035  1.252178  0.524952    5.07  \n",
            "\n",
            "[125685 rows x 30 columns]\n",
            "19735     0.0\n",
            "131416    0.0\n",
            "135936    0.0\n",
            "137780    0.0\n",
            "39953     0.0\n",
            "         ... \n",
            "27515     0.0\n",
            "115098    0.0\n",
            "37648     0.0\n",
            "10        0.0\n",
            "145210    0.0\n",
            "Name: class, Length: 125685, dtype: float64\n"
          ]
        }
      ]
    },
    {
      "cell_type": "markdown",
      "source": [
        "La hipotesis para la regresión logistica:\n",
        "\n",
        "$$ h_\\theta(x) = g(\\theta^T x)$$\n",
        "\n",
        "donde la función $g$ is la función sigmoidea. La función sigmoidea:\n",
        "\n",
        "$$g(z) = \\frac{1}{1+e^{-z}}$$.\n"
      ],
      "metadata": {
        "id": "x-6UoIqESIu8"
      }
    },
    {
      "cell_type": "code",
      "source": [
        "def sigmoid(z):\n",
        "    # Calcula la sigmoide de una entrada z\n",
        "    # convierte la intrada a un arreglo numpy\n",
        "    z = np.array(z)\n",
        "\n",
        "    g = np.zeros(z.shape)\n",
        "\n",
        "    g = 1 / (1 + np.exp(-z))\n",
        "\n",
        "    return g"
      ],
      "metadata": {
        "id": "41YkCe0uSLyI"
      },
      "execution_count": 4,
      "outputs": []
    },
    {
      "cell_type": "code",
      "source": [
        "# Prueba la implementacion de la funcion sigmoid\n",
        "z = 0\n",
        "g = sigmoid(z)\n",
        "\n",
        "print('g(', z, ') = ', g)"
      ],
      "metadata": {
        "colab": {
          "base_uri": "https://localhost:8080/"
        },
        "id": "quq4vDwbSP9a",
        "outputId": "33e4690c-4a16-45a5-9ded-da42b2cb4498"
      },
      "execution_count": 6,
      "outputs": [
        {
          "output_type": "stream",
          "name": "stdout",
          "text": [
            "g( 0 ) =  0.5\n"
          ]
        }
      ]
    },
    {
      "cell_type": "markdown",
      "source": [
        "Se implementa la funcion cost y gradient, se agrega una columna de unos como termino de intercepcion[texto del vínculo](https://)"
      ],
      "metadata": {
        "id": "OJ-WtSv9SW2D"
      }
    },
    {
      "cell_type": "code",
      "source": [
        "m, n = X.shape\n",
        "\n",
        "X = np.concatenate([np.ones((m, 1)), X], axis=1)"
      ],
      "metadata": {
        "id": "AkiCJH52SQTC"
      },
      "execution_count": null,
      "outputs": []
    },
    {
      "cell_type": "markdown",
      "source": [
        "Funcion de costo\n",
        "$$ J(\\theta) = \\frac{1}{m} \\sum_{i=1}^{m} \\left[ -y^{(i)} \\log\\left(h_\\theta\\left( x^{(i)} \\right) \\right) - \\left( 1 - y^{(i)}\\right) \\log \\left( 1 - h_\\theta\\left( x^{(i)} \\right) \\right) \\right]$$\n",
        "\n",
        "y el gradiente del costo es un vector de la misma longitud como $\\theta$ donde el elemento $j^{th}$ (para $j = 0, 1, \\cdots , n$) se define como:\n",
        "\n",
        "$$ \\frac{\\partial J(\\theta)}{\\partial \\theta_j} = \\frac{1}{m} \\sum_{i=1}^m \\left( h_\\theta \\left( x^{(i)} \\right) - y^{(i)} \\right) x_j^{(i)} $$"
      ],
      "metadata": {
        "id": "noBjGUn0ScBF"
      }
    },
    {
      "cell_type": "code",
      "source": [
        "def calcularCosto(theta, X, y):\n",
        "    # Inicializar algunos valores utiles\n",
        "    m = y.size  # numero de ejemplos de entrenamiento\n",
        "\n",
        "    J = 0\n",
        "    h = sigmoid(X.dot(theta.T))\n",
        "    J = (1 / m) * np.sum(-y.dot(np.log(h)) - (1 - y).dot(np.log(1 - h)))\n",
        "\n",
        "    return J\n"
      ],
      "metadata": {
        "id": "fJpzlzrDSfY9"
      },
      "execution_count": 13,
      "outputs": []
    },
    {
      "cell_type": "code",
      "source": [
        "def descensoGradiente(theta, X, y, alpha, num_iters):\n",
        "    # Inicializa algunos valores\n",
        "    m = y.shape[0] # numero de ejemplos de entrenamiento\n",
        "\n",
        "    # realiza una copia de theta, el cual será acutalizada por el descenso por el gradiente\n",
        "    theta = theta.copy()\n",
        "    J_history = []\n",
        "\n",
        "    for i in range(num_iters):\n",
        "        h = sigmoid(X.dot(theta.T))\n",
        "        theta = theta - (alpha / m) * (h - y).dot(X)\n",
        "\n",
        "        J_history.append(calcularCosto(theta, X, y))\n",
        "    return theta, J_history"
      ],
      "metadata": {
        "id": "3P_ymyBmSk0s"
      },
      "execution_count": 14,
      "outputs": []
    },
    {
      "cell_type": "code",
      "source": [
        "# Elegir algun valor para alpha (probar varias alternativas)\n",
        "alpha = 0.001\n",
        "num_iters = 100\n",
        "\n",
        "# inicializa theta y ejecuta el descenso por el gradiente\n",
        "theta = np.zeros(30)\n",
        "theta, J_history = descensoGradiente(theta, X, y, alpha, num_iters)\n",
        "\n",
        "# Grafica la convergencia del costo\n",
        "pyplot.plot(np.arange(len(J_history)), J_history, lw=2)\n",
        "pyplot.xlabel('Numero de iteraciones')\n",
        "pyplot.ylabel('Costo J')\n",
        "\n",
        "# Muestra los resultados del descenso por el gradiente\n",
        "print('theta calculado por el descenso por el gradiente: {:s}'.format(str(theta)))\n"
      ],
      "metadata": {
        "colab": {
          "base_uri": "https://localhost:8080/",
          "height": 987
        },
        "id": "OBmfD_jJTBsG",
        "outputId": "c79d9387-f50e-4dcd-f661-042ec5b264c0"
      },
      "execution_count": 15,
      "outputs": [
        {
          "output_type": "stream",
          "name": "stdout",
          "text": [
            "theta calculado por el descenso por el gradiente: Time     NaN\n",
            "V1       NaN\n",
            "V2       NaN\n",
            "V3       NaN\n",
            "V4       NaN\n",
            "V5       NaN\n",
            "V6       NaN\n",
            "V7       NaN\n",
            "V8       NaN\n",
            "V9       NaN\n",
            "V10      NaN\n",
            "V11      NaN\n",
            "V12      NaN\n",
            "V13      NaN\n",
            "V14      NaN\n",
            "V15      NaN\n",
            "V16      NaN\n",
            "V17      NaN\n",
            "V18      NaN\n",
            "V19      NaN\n",
            "V20      NaN\n",
            "V21      NaN\n",
            "V22      NaN\n",
            "V23      NaN\n",
            "V24      NaN\n",
            "V25      NaN\n",
            "V26      NaN\n",
            "V27      NaN\n",
            "V28      NaN\n",
            "Amount   NaN\n",
            "dtype: float64\n"
          ]
        },
        {
          "output_type": "display_data",
          "data": {
            "text/plain": [
              "<Figure size 640x480 with 1 Axes>"
            ],
            "image/png": "[encoded data removed]"
          },
          "metadata": {}
        }
      ]
    }
  ]
}