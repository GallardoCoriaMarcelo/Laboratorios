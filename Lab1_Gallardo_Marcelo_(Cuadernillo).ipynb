{
  "cells": [
    {
      "cell_type": "markdown",
      "metadata": {
        "id": "view-in-github",
        "colab_type": "text"
      },
      "source": [
        "<a href=\"https://colab.research.google.com/github/GallardoCoriaMarcelo/Laboratorios/blob/main/Lab1_Gallardo_Marcelo_(Cuadernillo).ipynb\" target=\"_parent\"><img src=\"https://colab.research.google.com/assets/colab-badge.svg\" alt=\"Open In Colab\"/></a>"
      ]
    },
    {
      "cell_type": "markdown",
      "metadata": {
        "id": "tfwOfkjclHQx"
      },
      "source": [
        "# Laboratorio 1 - Gallardo Marcelo"
      ]
    },
    {
      "cell_type": "code",
      "execution_count": null,
      "metadata": {
        "id": "f0WGMMljlHQz"
      },
      "outputs": [],
      "source": [
        "# utilizado para manejos de directorios y rutas\n",
        "import os\n",
        "\n",
        "# Computacion vectorial y cientifica para python\n",
        "import numpy as np\n",
        "\n",
        "# Librerias para graficación (trazado de gráficos)\n",
        "from matplotlib import pyplot\n",
        "from mpl_toolkits.mplot3d import Axes3D  # Necesario para graficar superficies 3D\n",
        "\n",
        "# llama a matplotlib a embeber graficas dentro de los cuadernillos\n",
        "%matplotlib inline"
      ]
    },
    {
      "cell_type": "code",
      "source": [
        "from google.colab import drive\n",
        "drive.mount(\"/content/gdrive\")"
      ],
      "metadata": {
        "id": "LhERtghFlVGr",
        "colab": {
          "base_uri": "https://localhost:8080/"
        },
        "outputId": "fc19f1e0-3579-4c36-8630-25cbfe6f7a81"
      },
      "execution_count": null,
      "outputs": [
        {
          "output_type": "stream",
          "name": "stdout",
          "text": [
            "Drive already mounted at /content/gdrive; to attempt to forcibly remount, call drive.mount(\"/content/gdrive\", force_remount=True).\n"
          ]
        }
      ]
    },
    {
      "cell_type": "markdown",
      "metadata": {
        "id": "G6-ykOwelHQ0"
      },
      "source": [
        "## Regresión lineal con multiples variables\n",
        "\n",
        "Se implementa la regresion lineal multivariable para predecir los ingresos de precios dinámicos de diferentes productos, se toma en cuenta los datos: si tiene publicidad paga, disponibilidad, precios competidores, clicks, añadidos al carro de compras, orden concretada, precios\n",
        "\n",
        "<a id=\"section4\"></a>\n",
        "### Normalización de caracteristicas\n"
      ]
    },
    {
      "cell_type": "code",
      "execution_count": null,
      "metadata": {
        "id": "6BP5grkxlHQ0",
        "colab": {
          "base_uri": "https://localhost:8080/"
        },
        "outputId": "764ce0e5-356b-46c9-ed70-0f20d81ea779"
      },
      "outputs": [
        {
          "output_type": "stream",
          "name": "stdout",
          "text": [
            "100000\n",
            " X[:, 0] X[:, 1] X[:, 2] X[:, 3] X[:, 4] X[:, 5] X[:, 6]         y\n",
            "--------------------------\n",
            "       0       2      15       1       0       0      17         0\n",
            "       1       1       9       0       1       0       9         0\n",
            "       0       1      15       0       1       0      16         0\n",
            "       1       1       7       0       0       1       7         7\n",
            "       0       1       4       0       0       1       4         4\n",
            "       0       1      14       0       0       1      10        10\n",
            "       1       1       3       0       0       1       4         4\n",
            "       0       1       9       1       0       0       9         0\n",
            "       0       1      11       1       0       0      12         0\n",
            "       1       1       9       1       0       0       9         0\n"
          ]
        }
      ],
      "source": [
        "# Cargar datos\n",
        "data = np.genfromtxt('/content/gdrive/MyDrive/Colab Notebooks/DataSets_Lab1/Revenue_Forecast_for_Dynamic_Pricing.csv', delimiter='|', max_rows=100000, skip_header=1, usecols=range(3, 11))\n",
        "X = data[:, :7]\n",
        "y = data[:, -1]\n",
        "m = y.size\n",
        "print(m)\n",
        "# imprimir algunos puntos de datos\n",
        "print('{:>8s}{:>8s}{:>8s}{:>8s}{:>8s}{:>8s}{:>8s}{:>10s}'.format('X[:, 0]', 'X[:, 1]','X[:, 2]', 'X[:, 3]','X[:, 4]', 'X[:, 5]','X[:, 6]',  'y'))\n",
        "print('-'*26)\n",
        "for i in range(10):\n",
        "    print('{:8.0f}{:8.0f}{:8.0f}{:8.0f}{:8.0f}{:8.0f}{:8.0f}{:10.0f}'.format(X[i, 0], X[i, 1], X[i, 2], X[i, 3], X[i, 4], X[i, 5], X[i, 6], y[i]))"
      ]
    },
    {
      "cell_type": "code",
      "execution_count": null,
      "metadata": {
        "id": "7xFD8H3WlHQ1"
      },
      "outputs": [],
      "source": [
        "def  featureNormalize(X):\n",
        "    X_norm = X.copy()\n",
        "    mu = np.zeros(X.shape[1])\n",
        "    sigma = np.zeros(X.shape[1])\n",
        "\n",
        "    mu = np.mean(X, axis = 0)\n",
        "    sigma = np.std(X, axis = 0)\n",
        "    X_norm = (X - mu) / sigma\n",
        "\n",
        "    return X_norm, mu, sigma"
      ]
    },
    {
      "cell_type": "markdown",
      "source": [
        "Calculamos los datos de media y desviacion estandar para la normalizacion"
      ],
      "metadata": {
        "id": "DTkqk_Pd4aja"
      }
    },
    {
      "cell_type": "code",
      "execution_count": null,
      "metadata": {
        "id": "ipL_QsTZlHQ2",
        "colab": {
          "base_uri": "https://localhost:8080/"
        },
        "outputId": "344833b5-1166-41d5-8232-b4706b10d604"
      },
      "outputs": [
        {
          "output_type": "stream",
          "name": "stdout",
          "text": [
            "[[ 0.    2.   14.6  ...  0.    0.   16.89]\n",
            " [ 1.    1.    8.57 ...  1.    0.    8.75]\n",
            " [ 0.    1.   14.77 ...  1.    0.   16.06]\n",
            " ...\n",
            " [ 1.    1.    5.04 ...  0.    1.    4.35]\n",
            " [ 1.    1.   24.18 ...  0.    1.   25.19]\n",
            " [ 1.    1.    7.79 ...  1.    0.    8.75]]\n",
            "Media calculada: [ 0.35201    1.07955   12.4984629  0.37941    0.24672    0.37387\n",
            " 12.7325989]\n",
            "Desviación estandar calculada: [ 0.47759707  0.31247688 12.04311781  0.4852402   0.43110236  0.48382975\n",
            " 12.23037276]\n",
            "[[-0.73704389  2.94565798  0.17450108 ... -0.57230028 -0.7727305\n",
            "   0.33992432]\n",
            " [ 1.35677131 -0.25457884 -0.32619982 ...  1.74733445 -0.7727305\n",
            "  -0.32563185]\n",
            " [-0.73704389 -0.25457884  0.18861703 ...  1.74733445 -0.7727305\n",
            "   0.27206048]\n",
            " ...\n",
            " [ 1.35677131 -0.25457884 -0.61931329 ... -0.57230028  1.29411225\n",
            "  -0.68539194]\n",
            " [ 1.35677131 -0.25457884  0.96997615 ... -0.57230028  1.29411225\n",
            "   1.01856267]\n",
            " [ 1.35677131 -0.25457884 -0.3909671  ...  1.74733445 -0.7727305\n",
            "  -0.32563185]]\n"
          ]
        }
      ],
      "source": [
        "# llama featureNormalize con los datos cargados\n",
        "X_norm, mu, sigma = featureNormalize(X)\n",
        "\n",
        "print(X)\n",
        "print('Media calculada:', mu)\n",
        "print('Desviación estandar calculada:', sigma)\n",
        "print(X_norm)"
      ]
    },
    {
      "cell_type": "code",
      "execution_count": null,
      "metadata": {
        "id": "nNaGVxgolHQ2"
      },
      "outputs": [],
      "source": [
        "# Añade el termino de interseccion a X\n",
        "# (Columna de unos para X0)\n",
        "X = np.concatenate([np.ones((m, 1)), X_norm], axis=1)"
      ]
    },
    {
      "cell_type": "code",
      "execution_count": null,
      "metadata": {
        "id": "nbUVohnhlHQ3",
        "colab": {
          "base_uri": "https://localhost:8080/"
        },
        "outputId": "a3719ea5-c468-4612-fb53-e8c610595cb6"
      },
      "outputs": [
        {
          "output_type": "stream",
          "name": "stdout",
          "text": [
            "[[ 1.         -0.73704389  2.94565798 ... -0.57230028 -0.7727305\n",
            "   0.33992432]\n",
            " [ 1.          1.35677131 -0.25457884 ...  1.74733445 -0.7727305\n",
            "  -0.32563185]\n",
            " [ 1.         -0.73704389 -0.25457884 ...  1.74733445 -0.7727305\n",
            "   0.27206048]\n",
            " ...\n",
            " [ 1.          1.35677131 -0.25457884 ... -0.57230028  1.29411225\n",
            "  -0.68539194]\n",
            " [ 1.          1.35677131 -0.25457884 ... -0.57230028  1.29411225\n",
            "   1.01856267]\n",
            " [ 1.          1.35677131 -0.25457884 ...  1.74733445 -0.7727305\n",
            "  -0.32563185]]\n"
          ]
        }
      ],
      "source": [
        "print(X)"
      ]
    },
    {
      "cell_type": "markdown",
      "metadata": {
        "id": "xzLiIE6NlHQ3"
      },
      "source": [
        "Empleamos la formula:\n",
        "\n",
        "$$ J(\\theta) = \\frac{1}{2m}(X\\theta - \\vec{y})^T(X\\theta - \\vec{y}) $$\n",
        "\n",
        "donde:\n",
        "\n",
        "$$ X = \\begin{pmatrix}\n",
        "          - (x^{(1)})^T - \\\\\n",
        "          - (x^{(2)})^T - \\\\\n",
        "          \\vdots \\\\\n",
        "          - (x^{(m)})^T - \\\\ \\\\\n",
        "        \\end{pmatrix} \\qquad \\mathbf{y} = \\begin{bmatrix} y^{(1)} \\\\ y^{(2)} \\\\ \\vdots \\\\ y^{(m)} \\\\\\end{bmatrix}$$\n"
      ]
    },
    {
      "cell_type": "code",
      "execution_count": null,
      "metadata": {
        "id": "EQCMN7KqlHQ3"
      },
      "outputs": [],
      "source": [
        "def computeCostMulti(X, y, theta):\n",
        "    # Inicializa algunos valores utiles\n",
        "    m = y.shape[0] # numero de ejemplos de entrenamiento\n",
        "\n",
        "    J = 0\n",
        "\n",
        "    h = np.dot(X, theta)\n",
        "\n",
        "    J = (1/(2 * m)) * np.sum(np.square(np.dot(X, theta) - y))\n",
        "\n",
        "    return J\n"
      ]
    },
    {
      "cell_type": "code",
      "execution_count": null,
      "metadata": {
        "id": "Vdy_aQUklHQ4"
      },
      "outputs": [],
      "source": [
        "def gradientDescentMulti(X, y, theta, alpha, num_iters):\n",
        "\n",
        "    # Inicializa algunos valores\n",
        "    m = y.shape[0] # numero de ejemplos de entrenamiento\n",
        "\n",
        "    # realiza una copia de theta, el cual será acutalizada por el descenso por el gradiente\n",
        "    theta = theta.copy()\n",
        "\n",
        "    J_history = []\n",
        "\n",
        "    for i in range(num_iters):\n",
        "        theta = theta - (alpha / m) * (np.dot(X, theta) - y).dot(X)\n",
        "        J_history.append(computeCostMulti(X, y, theta))\n",
        "\n",
        "    return theta, J_history"
      ]
    },
    {
      "cell_type": "markdown",
      "metadata": {
        "id": "a8b_GwZslHQ4"
      },
      "source": [
        "Seleccionando coheficientes de aprendizaje\n"
      ]
    },
    {
      "cell_type": "code",
      "execution_count": null,
      "metadata": {
        "id": "sId0DiH9lHQ4",
        "colab": {
          "base_uri": "https://localhost:8080/",
          "height": 484
        },
        "outputId": "57c2538b-3e6a-4ef6-e6ca-29456f02145c"
      },
      "outputs": [
        {
          "output_type": "stream",
          "name": "stdout",
          "text": [
            "theta calculado por el descenso por el gradiente: [ 5.30100053 -0.05831778 -0.088597    1.62899153 -2.75490334 -2.0383966\n",
            "  4.57918812  2.54576012]\n"
          ]
        },
        {
          "output_type": "display_data",
          "data": {
            "text/plain": [
              "<Figure size 640x480 with 1 Axes>"
            ],
            "image/png": "[encoded data removed]"
          },
          "metadata": {}
        }
      ],
      "source": [
        "# Elegir algun valor para alpha (probar varias alternativas)\n",
        "alpha = 0.001 # alpha = 0.003\n",
        "num_iters = 10000\n",
        "\n",
        "# inicializa theta y ejecuta el descenso por el gradiente\n",
        "theta = np.zeros(8)\n",
        "theta, J_history = gradientDescentMulti(X, y, theta, alpha, num_iters)\n",
        "\n",
        "# Grafica la convergencia del costo\n",
        "pyplot.plot(np.arange(len(J_history)), J_history, lw=2)\n",
        "pyplot.xlabel('Numero de iteraciones')\n",
        "pyplot.ylabel('Costo J')\n",
        "\n",
        "# Muestra los resultados del descenso por el gradiente\n",
        "print('theta calculado por el descenso por el gradiente: {:s}'.format(str(theta)))\n"
      ]
    },
    {
      "cell_type": "markdown",
      "source": [
        "## Predicciones.-"
      ],
      "metadata": {
        "id": "ZJiPPEGg8WVC"
      }
    },
    {
      "cell_type": "code",
      "execution_count": null,
      "metadata": {
        "id": "y0aZhWEqlHQ4",
        "colab": {
          "base_uri": "https://localhost:8080/"
        },
        "outputId": "12ce377c-126d-4353-f3a7-cb054308dce6"
      },
      "outputs": [
        {
          "output_type": "stream",
          "name": "stdout",
          "text": [
            "El ingreso predecido para un producto: Sin publicidad, poca disponibilidad, precio competidor 23.45, 1 click, 0 agregados, 1 orden, precio 20: $12\n"
          ]
        }
      ],
      "source": [
        "X_array = [1, 0, 1, 23.45, 1, 0, 1, 20]\n",
        "X_array[1:9] = (X_array[1:9] - mu) / sigma\n",
        "price = np.dot(X_array, theta)   # Se debe cambiar esto\n",
        "\n",
        "print('El ingreso predecido para un producto: Sin publicidad, poca disponibilidad, precio competidor 23.45, 1 click, 0 agregados, 1 orden, precio 20: ${:.0f}'.format(price))"
      ]
    },
    {
      "cell_type": "code",
      "execution_count": null,
      "metadata": {
        "id": "KZ4G9CbJlHQ4",
        "colab": {
          "base_uri": "https://localhost:8080/"
        },
        "outputId": "153432b7-f275-447f-a8ec-e7824eaff06f"
      },
      "outputs": [
        {
          "output_type": "stream",
          "name": "stdout",
          "text": [
            "El ingreso predecido para un producto: con publicidad, alta disponibilidad, precio competidor 10, 1 click, 1 agregados, 1 orden, precio 11: $3\n"
          ]
        }
      ],
      "source": [
        "X_array = [1, 1, 3, 10, 1, 1, 1, 11]\n",
        "X_array[1:9] = (X_array[1:9] - mu) / sigma\n",
        "price = np.dot(X_array, theta)   # Se debe cambiar esto\n",
        "\n",
        "print('El ingreso predecido para un producto: con publicidad, alta disponibilidad, precio competidor 10, 1 click, 1 agregados, 1 orden, precio 11: ${:.0f}'.format(price))"
      ]
    },
    {
      "cell_type": "code",
      "source": [
        "X_array = [1, 1, 3, 53.85, 0, 0, 1, 50]\n",
        "X_array[1:9] = (X_array[1:9] - mu) / sigma\n",
        "price = np.dot(X_array, theta)   # Se debe cambiar esto\n",
        "\n",
        "print('El ingreso predecido para un producto: con publicidad, alta disponibilidad, precio competidor 53.85, 0 click, 0 agregados, 1 ordenes, precio 50: ${:.0f}'.format(price))"
      ],
      "metadata": {
        "colab": {
          "base_uri": "https://localhost:8080/"
        },
        "id": "q9hQMpC288Bv",
        "outputId": "705c9461-7368-4b12-db33-3830c5653f50"
      },
      "execution_count": null,
      "outputs": [
        {
          "output_type": "stream",
          "name": "stdout",
          "text": [
            "El ingreso predecido para un producto: con publicidad, alta disponibilidad, precio competidor 53.85, 0 click, 0 agregados, 1 ordenes, precio 50: $27\n"
          ]
        }
      ]
    },
    {
      "cell_type": "code",
      "source": [
        "X_array = [1, 0, 2, 5, 1, 0, 0, 5]\n",
        "X_array[1:9] = (X_array[1:9] - mu) / sigma\n",
        "price = np.dot(X_array, theta)   # Se debe cambiar esto\n",
        "\n",
        "print('El ingreso predecido para un producto: sin publicidad, media disponibilidad, precio competidor 5, 1 click, 0 agregados, 0 orden, precio 5: ${:.0f}'.format(price))"
      ],
      "metadata": {
        "colab": {
          "base_uri": "https://localhost:8080/"
        },
        "id": "Dgwaub6m88id",
        "outputId": "e0a09159-fba4-4e81-92e6-c7d51aed94e1"
      },
      "execution_count": null,
      "outputs": [
        {
          "output_type": "stream",
          "name": "stdout",
          "text": [
            "El ingreso predecido para un producto: sin publicidad, media disponibilidad, precio competidor 5, 1 click, 0 agregados, 0 orden, precio 5: $-3\n"
          ]
        }
      ]
    },
    {
      "cell_type": "code",
      "source": [
        "X_array = [1, 1, 1, 40, 3, 2, 2, 45]\n",
        "X_array[1:9] = (X_array[1:9] - mu) / sigma\n",
        "price = np.dot(X_array, theta)   # Se debe cambiar esto\n",
        "\n",
        "print('El ingreso predecido para un producto: con publicidad, baja disponibilidad, precio competidor 40, 3 click, 2 agregados, 2 orden, precio 45: ${:.0f}'.format(price))"
      ],
      "metadata": {
        "colab": {
          "base_uri": "https://localhost:8080/"
        },
        "id": "4F7lgGct89HZ",
        "outputId": "8e7b57a6-9426-437c-c426-1081cee66eb1"
      },
      "execution_count": null,
      "outputs": [
        {
          "output_type": "stream",
          "name": "stdout",
          "text": [
            "El ingreso predecido para un producto: con publicidad, baja disponibilidad, precio competidor 40, 3 click, 2 agregados, 2 orden, precio 45: $8\n"
          ]
        }
      ]
    },
    {
      "cell_type": "code",
      "source": [
        "X_array = [1, 0, 3, 75, 0, 1, 1, 70]\n",
        "X_array[1:9] = (X_array[1:9] - mu) / sigma\n",
        "price = np.dot(X_array, theta)   # Se debe cambiar esto\n",
        "\n",
        "print('El ingreso predecido para un producto: sin publicidad, alta disponibilidad, precio competidor 75, 0 click, 1 agregados, 1 orden, precio 70: ${:.0f}'.format(price))"
      ],
      "metadata": {
        "colab": {
          "base_uri": "https://localhost:8080/"
        },
        "id": "k7CYQt4y89-7",
        "outputId": "51d3f2c1-9e3d-4c46-8764-9260ae67a478"
      },
      "execution_count": null,
      "outputs": [
        {
          "output_type": "stream",
          "name": "stdout",
          "text": [
            "El ingreso predecido para un producto: sin publicidad, alta disponibilidad, precio competidor 75, 0 click, 1 agregados, 1 orden, precio 70: $30\n"
          ]
        }
      ]
    },
    {
      "cell_type": "code",
      "source": [
        "X_array = [1, 1, 1, 0.5, 1, 0, 1, 0.5]\n",
        "X_array[1:9] = (X_array[1:9] - mu) / sigma\n",
        "price = np.dot(X_array, theta)   # Se debe cambiar esto\n",
        "\n",
        "print('El ingreso predecido para un producto: con publicidad, baja disponibilidad, precio competidor 0.5, 1 click, 0 agregados, 1 orden, precio 0.5: ${:.0f}'.format(price))"
      ],
      "metadata": {
        "colab": {
          "base_uri": "https://localhost:8080/"
        },
        "id": "NkkgtAJ-893J",
        "outputId": "da3af738-1fa7-4e98-a121-78db8db838a3"
      },
      "execution_count": null,
      "outputs": [
        {
          "output_type": "stream",
          "name": "stdout",
          "text": [
            "El ingreso predecido para un producto: con publicidad, baja disponibilidad, precio competidor 0.5, 1 click, 0 agregados, 1 orden, precio 0.5: $5\n"
          ]
        }
      ]
    },
    {
      "cell_type": "code",
      "source": [
        "X_array = [1, 0, 2, 44, 1, 2, 0, 40]\n",
        "X_array[1:9] = (X_array[1:9] - mu) / sigma\n",
        "price = np.dot(X_array, theta)   # Se debe cambiar esto\n",
        "\n",
        "print('El ingreso predecido para un producto: sin publicidad, media disponibilidad, precio competidor 44, 1 click, 2 agregados, 0 orden, precio 40: ${:.0f}'.format(price))"
      ],
      "metadata": {
        "colab": {
          "base_uri": "https://localhost:8080/"
        },
        "id": "zEzFhxIH89uh",
        "outputId": "b2875286-1786-4220-b58a-9b70de793c52"
      },
      "execution_count": null,
      "outputs": [
        {
          "output_type": "stream",
          "name": "stdout",
          "text": [
            "El ingreso predecido para un producto: sin publicidad, media disponibilidad, precio competidor 44, 1 click, 2 agregados, 0 orden, precio 40: $-0\n"
          ]
        }
      ]
    },
    {
      "cell_type": "code",
      "source": [
        "X_array = [1, 0, 1, 42, 1, 1, 0, 41]\n",
        "X_array[1:9] = (X_array[1:9] - mu) / sigma\n",
        "price = np.dot(X_array, theta)   # Se debe cambiar esto\n",
        "\n",
        "print('El ingreso predecido para un producto: sin publicidad, baja disponibilidad, precio competidor 42, 1 click, 1 agregados, 0 orden, precio 41: ${:.0f}'.format(price))"
      ],
      "metadata": {
        "colab": {
          "base_uri": "https://localhost:8080/"
        },
        "id": "oaTl-Rgw89l-",
        "outputId": "daf5ef9f-3a56-4482-c0c6-ca8a1b76a82e"
      },
      "execution_count": null,
      "outputs": [
        {
          "output_type": "stream",
          "name": "stdout",
          "text": [
            "El ingreso predecido para un producto: sin publicidad, baja disponibilidad, precio competidor 42, 1 click, 1 agregados, 0 orden, precio 41: $5\n"
          ]
        }
      ]
    },
    {
      "cell_type": "code",
      "source": [
        "X_array = [1, 1, 3, 60, 2, 2, 1, 65]\n",
        "X_array[1:9] = (X_array[1:9] - mu) / sigma\n",
        "price = np.dot(X_array, theta)   # Se debe cambiar esto\n",
        "\n",
        "print('El ingreso predecido para un producto: con publicidad, alta disponibilidad, precio competidor 60, 2 click, 2 agregados, 1 orden, precio 65: ${:.0f}'.format(price))"
      ],
      "metadata": {
        "colab": {
          "base_uri": "https://localhost:8080/"
        },
        "id": "0ujGHj3o89ba",
        "outputId": "62cfde36-35e6-42b7-b111-07625d71ed54"
      },
      "execution_count": null,
      "outputs": [
        {
          "output_type": "stream",
          "name": "stdout",
          "text": [
            "El ingreso predecido para un producto: con publicidad, alta disponibilidad, precio competidor 60, 2 click, 2 agregados, 1 orden, precio 65: $10\n"
          ]
        }
      ]
    },
    {
      "cell_type": "markdown",
      "metadata": {
        "id": "-nMzqD8elHQ4"
      },
      "source": [
        "<a id=\"section7\"></a>\n",
        "### 2 Ecuacion de la Normal\n",
        "\n",
        "$$ \\theta = \\left( X^T X\\right)^{-1} X^T\\vec{y}$$\n"
      ]
    },
    {
      "cell_type": "code",
      "execution_count": null,
      "metadata": {
        "id": "C6j77JNmlHQ5",
        "colab": {
          "base_uri": "https://localhost:8080/"
        },
        "outputId": "b5bc0286-a3ad-4d4f-a279-638d7cfb880b"
      },
      "outputs": [
        {
          "output_type": "stream",
          "name": "stdout",
          "text": [
            "100000\n",
            " X[:, 0] X[:, 1] X[:, 2] X[:, 3] X[:, 4] X[:, 5] X[:, 6]         y\n",
            "--------------------------\n",
            "       0       2      15       1       0       0      17         0\n",
            "       1       1       9       0       1       0       9         0\n",
            "       0       1      15       0       1       0      16         0\n",
            "       1       1       7       0       0       1       7         7\n",
            "       0       1       4       0       0       1       4         4\n",
            "       0       1      14       0       0       1      10        10\n",
            "       1       1       3       0       0       1       4         4\n",
            "       0       1       9       1       0       0       9         0\n",
            "       0       1      11       1       0       0      12         0\n",
            "       1       1       9       1       0       0       9         0\n"
          ]
        }
      ],
      "source": [
        "# Cargar datos\n",
        "data = np.genfromtxt('/content/gdrive/MyDrive/Colab Notebooks/DataSets_Lab1/Revenue_Forecast_for_Dynamic_Pricing.csv', delimiter='|', max_rows=100000, skip_header=1, usecols=range(3, 11))\n",
        "X = data[:, :7]\n",
        "y = data[:, -1]\n",
        "m = y.size\n",
        "print(m)\n",
        "print('{:>8s}{:>8s}{:>8s}{:>8s}{:>8s}{:>8s}{:>8s}{:>10s}'.format('X[:, 0]', 'X[:, 1]','X[:, 2]', 'X[:, 3]','X[:, 4]', 'X[:, 5]','X[:, 6]',  'y'))\n",
        "print('-'*26)\n",
        "for i in range(10):\n",
        "    print('{:8.0f}{:8.0f}{:8.0f}{:8.0f}{:8.0f}{:8.0f}{:8.0f}{:10.0f}'.format(X[i, 0], X[i, 1], X[i, 2], X[i, 3], X[i, 4], X[i, 5], X[i, 6], y[i]))\n",
        "X = np.concatenate([np.ones((m, 1)), X], axis=1)"
      ]
    },
    {
      "cell_type": "code",
      "execution_count": null,
      "metadata": {
        "id": "gVZdjjk9lHQ5"
      },
      "outputs": [],
      "source": [
        "def normalEqn(X, y):\n",
        "\n",
        "    theta = np.zeros(X.shape[1])\n",
        "\n",
        "    theta = np.dot(np.dot(np.linalg.inv(np.dot(X.T,X)),X.T),y)\n",
        "\n",
        "    return theta"
      ]
    },
    {
      "cell_type": "code",
      "execution_count": null,
      "metadata": {
        "id": "Ybyw-FfolHQ5",
        "colab": {
          "base_uri": "https://localhost:8080/"
        },
        "outputId": "6d683923-b4f9-4825-c0a9-6c65409c3153"
      },
      "outputs": [
        {
          "output_type": "stream",
          "name": "stdout",
          "text": [
            "Theta calculado a partir de la ecuación de la normal: [-41.92982969  -2.0312028   -5.05576923   0.12606276  38.24456569\n",
            "  64.37831312  64.74383147   0.22744852]\n"
          ]
        }
      ],
      "source": [
        "# Calcula los parametros con la ecuación de la normal\n",
        "theta = normalEqn(X, y);\n",
        "\n",
        "# Muestra los resultados optenidos a partir de la aplicación de la ecuación de la normal\n",
        "print('Theta calculado a partir de la ecuación de la normal: {:s}'.format(str(theta)));\n",
        "\n"
      ]
    },
    {
      "cell_type": "markdown",
      "source": [
        "## Predicciones"
      ],
      "metadata": {
        "id": "ixWL97fEBaPq"
      }
    },
    {
      "cell_type": "code",
      "source": [
        "X_array = [1, 0, 1, 23.45, 1, 0, 1, 20]\n",
        "price = np.dot(X_array, theta)\n",
        "\n",
        "print('El ingreso predecido para un producto: Sin publicidad, poca disponibilidad, precio competidor 23.45, 1 click, 0 agregados, 1 orden, precio 20: ${:.0f}'.format(price))"
      ],
      "metadata": {
        "colab": {
          "base_uri": "https://localhost:8080/"
        },
        "id": "T9h1JXFGBWBT",
        "outputId": "a00d8148-6240-4119-c621-04d6845514f9"
      },
      "execution_count": null,
      "outputs": [
        {
          "output_type": "stream",
          "name": "stdout",
          "text": [
            "El ingreso predecido para un producto: Sin publicidad, poca disponibilidad, precio competidor 23.45, 1 click, 0 agregados, 1 orden, precio 20: $64\n"
          ]
        }
      ]
    },
    {
      "cell_type": "code",
      "source": [
        "X_array = [1, 1, 3, 10, 1, 1, 1, 11]\n",
        "price = np.dot(X_array, theta)\n",
        "\n",
        "print('El ingreso predecido para un producto: con publicidad, alta disponibilidad, precio competidor 10, 1 click, 1 agregados, 1 orden, precio 11: ${:.0f}'.format(price))"
      ],
      "metadata": {
        "colab": {
          "base_uri": "https://localhost:8080/"
        },
        "id": "PZ3FTlaOCK4A",
        "outputId": "2638e9de-162a-472c-aec6-e4a68e914418"
      },
      "execution_count": null,
      "outputs": [
        {
          "output_type": "stream",
          "name": "stdout",
          "text": [
            "El ingreso predecido para un producto: con publicidad, alta disponibilidad, precio competidor 10, 1 click, 1 agregados, 1 orden, precio 11: $112\n"
          ]
        }
      ]
    },
    {
      "cell_type": "code",
      "source": [
        "X_array = [1, 1, 3, 53.85, 0, 0, 1, 50]\n",
        "price = np.dot(X_array, theta)\n",
        "\n",
        "print('El ingreso predecido para un producto: con publicidad, alta disponibilidad, precio competidor 53.85, 2 click, 4 agregados, 2 ordenes, precio 50: ${:.0f}'.format(price))"
      ],
      "metadata": {
        "colab": {
          "base_uri": "https://localhost:8080/"
        },
        "id": "hm8a4LpPCY1-",
        "outputId": "34ec34dd-79a8-473e-811d-5fa91ec0b90f"
      },
      "execution_count": null,
      "outputs": [
        {
          "output_type": "stream",
          "name": "stdout",
          "text": [
            "El ingreso predecido para un producto: con publicidad, alta disponibilidad, precio competidor 53.85, 2 click, 4 agregados, 2 ordenes, precio 50: $24\n"
          ]
        }
      ]
    },
    {
      "cell_type": "code",
      "source": [
        "X_array = [1, 0, 2, 5, 1, 0, 0, 5]\n",
        "price = np.dot(X_array, theta)\n",
        "\n",
        "print('El ingreso predecido para un producto: sin publicidad, media disponibilidad, precio competidor 5, 1 click, 0 agregados, 0 orden, precio 5: ${:.0f}'.format(price))"
      ],
      "metadata": {
        "colab": {
          "base_uri": "https://localhost:8080/"
        },
        "id": "pIyDU9ivCjuN",
        "outputId": "252122a8-46e5-4fb0-ba29-7d721fc3403d"
      },
      "execution_count": null,
      "outputs": [
        {
          "output_type": "stream",
          "name": "stdout",
          "text": [
            "El ingreso predecido para un producto: sin publicidad, media disponibilidad, precio competidor 5, 1 click, 0 agregados, 0 orden, precio 5: $-12\n"
          ]
        }
      ]
    },
    {
      "cell_type": "code",
      "source": [
        "X_array = [1, 1, 1, 40, 3, 2, 2, 45]\n",
        "price = np.dot(X_array, theta)\n",
        "\n",
        "print('El ingreso predecido para un producto: con publicidad, baja disponibilidad, precio competidor 40, 3 click, 2 agregados, 2 orden, precio 45: ${:.0f}'.format(price))"
      ],
      "metadata": {
        "colab": {
          "base_uri": "https://localhost:8080/"
        },
        "id": "MVMZ0r7FCmHc",
        "outputId": "c406a086-339e-4585-de1f-59793404aae7"
      },
      "execution_count": null,
      "outputs": [
        {
          "output_type": "stream",
          "name": "stdout",
          "text": [
            "El ingreso predecido para un producto: con publicidad, baja disponibilidad, precio competidor 40, 3 click, 2 agregados, 2 orden, precio 45: $339\n"
          ]
        }
      ]
    },
    {
      "cell_type": "code",
      "source": [
        "X_array = [1, 0, 3, 75, 0, 1, 1, 70]\n",
        "price = np.dot(X_array, theta)\n",
        "\n",
        "print('El ingreso predecido para un producto: sin publicidad, alta disponibilidad, precio competidor 75, 0 click, 1 agregados, 1 orden, precio 70: ${:.0f}'.format(price))"
      ],
      "metadata": {
        "colab": {
          "base_uri": "https://localhost:8080/"
        },
        "id": "JXjRDKvOCl-6",
        "outputId": "442884b3-7ffe-4700-d700-4b69ea9978c0"
      },
      "execution_count": null,
      "outputs": [
        {
          "output_type": "stream",
          "name": "stdout",
          "text": [
            "El ingreso predecido para un producto: sin publicidad, alta disponibilidad, precio competidor 75, 0 click, 1 agregados, 1 orden, precio 70: $97\n"
          ]
        }
      ]
    },
    {
      "cell_type": "code",
      "source": [
        "X_array = [1, 1, 1, 0.5, 1, 0, 1, 0.5]\n",
        "price = np.dot(X_array, theta)\n",
        "\n",
        "print('El ingreso predecido para un producto: con publicidad, baja disponibilidad, precio competidor 0.5, 1 click, 0 agregados, 1 orden, precio 0.5: ${:.0f}'.format(price))"
      ],
      "metadata": {
        "colab": {
          "base_uri": "https://localhost:8080/"
        },
        "id": "6NdCvFxTCl2B",
        "outputId": "41789c91-1778-40f2-fbd3-274bb83c0332"
      },
      "execution_count": null,
      "outputs": [
        {
          "output_type": "stream",
          "name": "stdout",
          "text": [
            "El ingreso predecido para un producto: con publicidad, baja disponibilidad, precio competidor 0.5, 1 click, 0 agregados, 1 orden, precio 0.5: $54\n"
          ]
        }
      ]
    },
    {
      "cell_type": "code",
      "source": [
        "X_array = [1, 0, 2, 44, 1, 2, 0, 40]\n",
        "price = np.dot(X_array, theta)\n",
        "\n",
        "print('El ingreso predecido para un producto: sin publicidad, media disponibilidad, precio competidor 44, 1 click, 2 agregados, 0 orden, precio 40: ${:.0f}'.format(price))"
      ],
      "metadata": {
        "colab": {
          "base_uri": "https://localhost:8080/"
        },
        "id": "SZY21fe4CltJ",
        "outputId": "51e47f6c-2540-4ebe-fb6f-e0c93a3ff775"
      },
      "execution_count": null,
      "outputs": [
        {
          "output_type": "stream",
          "name": "stdout",
          "text": [
            "El ingreso predecido para un producto: sin publicidad, media disponibilidad, precio competidor 44, 1 click, 2 agregados, 0 orden, precio 40: $130\n"
          ]
        }
      ]
    },
    {
      "cell_type": "code",
      "source": [
        "X_array = [1, 0, 1, 42, 1, 1, 0, 41]\n",
        "price = np.dot(X_array, theta)\n",
        "\n",
        "print('El ingreso predecido para un producto: sin publicidad, baja disponibilidad, precio competidor 42, 1 click, 1 agregados, 0 orden, precio 41: ${:.0f}'.format(price))"
      ],
      "metadata": {
        "colab": {
          "base_uri": "https://localhost:8080/"
        },
        "id": "qRqOxSW0Clj7",
        "outputId": "57b519cb-7d4f-4602-f9be-cb63701ea442"
      },
      "execution_count": null,
      "outputs": [
        {
          "output_type": "stream",
          "name": "stdout",
          "text": [
            "El ingreso predecido para un producto: sin publicidad, baja disponibilidad, precio competidor 42, 1 click, 1 agregados, 0 orden, precio 41: $70\n"
          ]
        }
      ]
    },
    {
      "cell_type": "code",
      "source": [
        "X_array = [1, 1, 3, 60, 2, 2, 1, 65]\n",
        "price = np.dot(X_array, theta)\n",
        "\n",
        "print('El ingreso predecido para un producto: con publicidad, alta disponibilidad, precio competidor 60, 2 click, 2 agregados, 1 orden, precio 65: ${:.0f}'.format(price))"
      ],
      "metadata": {
        "colab": {
          "base_uri": "https://localhost:8080/"
        },
        "id": "hx_2NC50Claj",
        "outputId": "bcdfd315-b3fa-4194-8453-6abcbbf60a2d"
      },
      "execution_count": null,
      "outputs": [
        {
          "output_type": "stream",
          "name": "stdout",
          "text": [
            "El ingreso predecido para un producto: con publicidad, alta disponibilidad, precio competidor 60, 2 click, 2 agregados, 1 orden, precio 65: $233\n"
          ]
        }
      ]
    }
  ],
  "metadata": {
    "kernelspec": {
      "display_name": "Python 3",
      "language": "python",
      "name": "python3"
    },
    "language_info": {
      "codemirror_mode": {
        "name": "ipython",
        "version": 3
      },
      "file_extension": ".py",
      "mimetype": "text/x-python",
      "name": "python",
      "nbconvert_exporter": "python",
      "pygments_lexer": "ipython3",
      "version": "3.8.5"
    },
    "colab": {
      "provenance": [],
      "include_colab_link": true
    }
  },
  "nbformat": 4,
  "nbformat_minor": 0
}