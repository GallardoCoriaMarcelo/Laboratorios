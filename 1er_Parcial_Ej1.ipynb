{
  "nbformat": 4,
  "nbformat_minor": 0,
  "metadata": {
    "colab": {
      "provenance": [],
      "authorship_tag": "ABX9TyOkJpAetTryV1CSRb/n7OVo",
      "include_colab_link": true
    },
    "kernelspec": {
      "name": "python3",
      "display_name": "Python 3"
    },
    "language_info": {
      "name": "python"
    }
  },
  "cells": [
    {
      "cell_type": "markdown",
      "metadata": {
        "id": "view-in-github",
        "colab_type": "text"
      },
      "source": [
        "<a href=\"https://colab.research.google.com/github/GallardoCoriaMarcelo/Laboratorios/blob/main/1er_Parcial_Ej1.ipynb\" target=\"_parent\"><img src=\"https://colab.research.google.com/assets/colab-badge.svg\" alt=\"Open In Colab\"/></a>"
      ]
    },
    {
      "cell_type": "code",
      "execution_count": 2,
      "metadata": {
        "id": "dfu5NdmawStA"
      },
      "outputs": [],
      "source": [
        "# se utiliza para el manejo de rutas y directorios.\n",
        "import os\n",
        "\n",
        "# Calculo cientifico y vectorial para python\n",
        "import numpy as np\n",
        "\n",
        "# Librerias para graficar\n",
        "from matplotlib import pyplot\n",
        "\n",
        "# Modulo de optimización de scipy\n",
        "from scipy import optimize\n",
        "\n",
        "# le dice a matplotlib que incruste gráficos en el cuaderno\n",
        "%matplotlib inline\n",
        "\n",
        "#Importar pandas\n",
        "import pandas as pd"
      ]
    },
    {
      "cell_type": "markdown",
      "source": [
        "Cargar el Dataset\n",
        "\n",
        "Para optimizar el uso del DataSet se ha ordenado de forma aleatoria los datos, para que sean incluidos tanto resultados de 1 y de 0 en la misma proporcion.\n",
        "\n",
        "Se carga el dataset directamente desde GitHub con la librería PANDAS\n",
        "\n",
        "Se selecciona solo el 80% de los datos para entrenar el modelo"
      ],
      "metadata": {
        "id": "c8dj7Ekx15zr"
      }
    },
    {
      "cell_type": "code",
      "source": [
        "df = pd.read_csv(\"smoking.csv\").drop([\"ID\", \"gender\", \"hearing(left)\", \"hearing(right)\", \"oral\"], axis=1)\n",
        "df[\"tartar\"] = (df[\"tartar\"] == \"Y\").astype(int)\n",
        "df.head()\n",
        "\n",
        "#Selecciona el 80% del dataset para entrenamiento\n",
        "porcentaje = 0.8\n",
        "data_muestra = df.sample(frac=porcentaje, random_state=42)\n",
        "\n",
        "df.head()\n",
        "y = data_muestra.iloc[:, -1] # Última columna como y\n",
        "X = data_muestra.iloc[:, :-1] # Todas las columnas excepto la última como X\n",
        "\n",
        "print(X)\n",
        "print(y)"
      ],
      "metadata": {
        "colab": {
          "base_uri": "https://localhost:8080/"
        },
        "id": "5xWETpy6193k",
        "outputId": "3dcb6157-d61a-43c2-dd35-6984d994d26e"
      },
      "execution_count": 30,
      "outputs": [
        {
          "output_type": "stream",
          "name": "stdout",
          "text": [
            "       age  height(cm)  weight(kg)  waist(cm)  eyesight(left)  \\\n",
            "33967   45         160          55       71.0             1.0   \n",
            "21956   55         145          40       80.4             0.8   \n",
            "15458   25         170          80       94.0             1.0   \n",
            "36215   45         170          70       82.0             0.5   \n",
            "8886    40         165          60       77.0             1.2   \n",
            "...    ...         ...         ...        ...             ...   \n",
            "50274   40         145          50       75.0             0.9   \n",
            "13285   35         170          50       67.3             0.8   \n",
            "54463   55         160          50       65.0             1.0   \n",
            "28439   45         175          90      102.0             0.9   \n",
            "7523    40         175          85       92.0             1.0   \n",
            "\n",
            "       eyesight(right)  systolic  relaxation  fasting blood sugar  \\\n",
            "33967              0.5     111.0        56.0                 72.0   \n",
            "21956              0.5     104.0        70.0                 85.0   \n",
            "15458              1.2     110.0        70.0                207.0   \n",
            "36215              0.4     124.0        82.0                119.0   \n",
            "8886               1.2     123.0        73.0                106.0   \n",
            "...                ...       ...         ...                  ...   \n",
            "50274              0.9     119.0        80.0                116.0   \n",
            "13285              0.8     100.0        60.0                113.0   \n",
            "54463              1.2     103.0        64.0                100.0   \n",
            "28439              1.0     150.0       100.0                103.0   \n",
            "7523               1.0     120.0        80.0                108.0   \n",
            "\n",
            "       Cholesterol  ...   HDL    LDL  hemoglobin  Urine protein  \\\n",
            "33967        161.0  ...  50.0   95.0        11.3            1.0   \n",
            "21956        228.0  ...  39.0  147.0        14.0            1.0   \n",
            "15458        212.0  ...  37.0  105.0        16.6            1.0   \n",
            "36215        218.0  ...  53.0  149.0        14.9            1.0   \n",
            "8886         211.0  ...  45.0  138.0        16.4            1.0   \n",
            "...            ...  ...   ...    ...         ...            ...   \n",
            "50274        186.0  ...  67.0  100.0        13.6            2.0   \n",
            "13285        165.0  ...  71.0   83.0        15.1            1.0   \n",
            "54463        167.0  ...  52.0  103.0        12.7            1.0   \n",
            "28439        237.0  ...  42.0  166.0        16.4            1.0   \n",
            "7523         190.0  ...  40.0  127.0        17.2            1.0   \n",
            "\n",
            "       serum creatinine   AST    ALT    Gtp  dental caries  tartar  \n",
            "33967               0.8  17.0   10.0   11.0              0       1  \n",
            "21956               0.7  24.0   14.0   19.0              1       0  \n",
            "15458               0.8  82.0  146.0  248.0              1       0  \n",
            "36215               0.6  27.0   45.0   70.0              0       0  \n",
            "8886                1.0  40.0   69.0   55.0              0       0  \n",
            "...                 ...   ...    ...    ...            ...     ...  \n",
            "50274               0.6  24.0   20.0   13.0              0       0  \n",
            "13285               0.9  21.0   18.0   20.0              0       1  \n",
            "54463               0.9  20.0   11.0   19.0              1       1  \n",
            "28439               0.8  18.0   19.0   27.0              0       1  \n",
            "7523                1.1  48.0   96.0  107.0              1       1  \n",
            "\n",
            "[44554 rows x 21 columns]\n",
            "33967    0\n",
            "21956    1\n",
            "15458    0\n",
            "36215    0\n",
            "8886     0\n",
            "        ..\n",
            "50274    0\n",
            "13285    1\n",
            "54463    1\n",
            "28439    1\n",
            "7523     0\n",
            "Name: smoking, Length: 44554, dtype: int64\n"
          ]
        }
      ]
    },
    {
      "cell_type": "markdown",
      "source": [
        "La hipotesis para la regresión logistica:\n",
        "\n",
        "$$ h_\\theta(x) = g(\\theta^T x)$$\n",
        "\n",
        "donde la función $g$ is la función sigmoidea. La función sigmoidea:\n",
        "\n",
        "$$g(z) = \\frac{1}{1+e^{-z}}$$.\n"
      ],
      "metadata": {
        "id": "Pu_c6J6u2LPG"
      }
    },
    {
      "cell_type": "code",
      "source": [
        "def sigmoid(z):\n",
        "    # Calcula la sigmoide de una entrada z\n",
        "    # convierte la intrada a un arreglo numpy\n",
        "    z = np.array(z)\n",
        "\n",
        "    g = np.zeros(z.shape)\n",
        "\n",
        "    g = 1 / (1 + np.exp(-z))\n",
        "\n",
        "    return g"
      ],
      "metadata": {
        "id": "Wy5T6oq75BHI"
      },
      "execution_count": 31,
      "outputs": []
    },
    {
      "cell_type": "markdown",
      "source": [
        "Probamos que g(0) = 0.5"
      ],
      "metadata": {
        "id": "b3UbXpEy5KN6"
      }
    },
    {
      "cell_type": "code",
      "source": [
        "# Prueba la implementacion de la funcion sigmoid\n",
        "z = 0\n",
        "g = sigmoid(z)\n",
        "\n",
        "print('g(', z, ') = ', g)"
      ],
      "metadata": {
        "colab": {
          "base_uri": "https://localhost:8080/"
        },
        "id": "j3XhFvdh5FgX",
        "outputId": "d2ff0cd7-99f7-4188-b066-dc42fd3e8ddc"
      },
      "execution_count": 32,
      "outputs": [
        {
          "output_type": "stream",
          "name": "stdout",
          "text": [
            "g( 0 ) =  0.5\n"
          ]
        }
      ]
    },
    {
      "cell_type": "markdown",
      "source": [
        "Se implementa la funcion cost y gradient, se agrega una columna de unos como termino de intercepcion[texto del vínculo](https://)"
      ],
      "metadata": {
        "id": "nFXwaKMy5ldF"
      }
    },
    {
      "cell_type": "code",
      "source": [
        "m, n = X.shape\n",
        "\n",
        "X = np.concatenate([np.ones((m, 1)), X], axis=1)"
      ],
      "metadata": {
        "id": "GQMLYVEZ5TYs"
      },
      "execution_count": 33,
      "outputs": []
    },
    {
      "cell_type": "markdown",
      "source": [
        "Funcion de costo\n",
        "$$ J(\\theta) = \\frac{1}{m} \\sum_{i=1}^{m} \\left[ -y^{(i)} \\log\\left(h_\\theta\\left( x^{(i)} \\right) \\right) - \\left( 1 - y^{(i)}\\right) \\log \\left( 1 - h_\\theta\\left( x^{(i)} \\right) \\right) \\right]$$\n",
        "\n",
        "y el gradiente del costo es un vector de la misma longitud como $\\theta$ donde el elemento $j^{th}$ (para $j = 0, 1, \\cdots , n$) se define como:\n",
        "\n",
        "$$ \\frac{\\partial J(\\theta)}{\\partial \\theta_j} = \\frac{1}{m} \\sum_{i=1}^m \\left( h_\\theta \\left( x^{(i)} \\right) - y^{(i)} \\right) x_j^{(i)} $$"
      ],
      "metadata": {
        "id": "Z0mlnIih_Rn4"
      }
    },
    {
      "cell_type": "code",
      "source": [
        "from sklearn.preprocessing import StandardScaler\n",
        "\n",
        "# Inicializa el objeto StandardScaler\n",
        "scaler = StandardScaler()\n",
        "\n",
        "# Ajusta el escalador a los datos y transforma los datos\n",
        "X_scaled = scaler.fit_transform(X)"
      ],
      "metadata": {
        "id": "eDJ8TUDsNb5K"
      },
      "execution_count": 91,
      "outputs": []
    },
    {
      "cell_type": "code",
      "source": [
        "import numpy as np\n",
        "import matplotlib.pyplot as plt\n",
        "\n",
        "def calcularCosto(theta, X, y, lambda_):\n",
        "    m = y.size\n",
        "    h = sigmoid(X.dot(theta))\n",
        "    regularization_term = (lambda_ / (2 * m)) * np.sum(theta[1:]**2)\n",
        "    J = (1 / m) * np.sum(-y.dot(np.log(h)) - (1 - y).dot(np.log(1 - h))) + regularization_term\n",
        "    return J\n",
        "\n",
        "def descensoGradiente(theta, X, y, alpha, num_iters, lambda_):\n",
        "    m = y.shape[0]\n",
        "    theta = theta.copy()\n",
        "    J_history = []\n",
        "\n",
        "    for i in range(num_iters):\n",
        "        h = sigmoid(X.dot(theta))\n",
        "        theta[0] = theta[0] - (alpha / m) * (h - y).dot(X[:, 0])\n",
        "        theta[1:] = theta[1:] * (1 - alpha * lambda_ / m) - (alpha / m) * (h - y).dot(X[:, 1:])\n",
        "\n",
        "        J_history.append(calcularCosto(theta, X, y, lambda_))\n",
        "\n",
        "    return theta, J_history\n",
        "\n",
        "# Define función sigmoide\n",
        "def sigmoid(z):\n",
        "    return 1 / (1 + np.exp(-z))\n",
        "\n",
        "\n",
        "\n",
        "# Elegir algunos valores para alpha y num_iters\n",
        "alpha = 0.001\n",
        "num_iters = 100\n",
        "lambda_ = 0.1\n",
        "\n",
        "# Inicializar theta y ejecutar el descenso por el gradiente\n",
        "theta = np.zeros(X.shape[1])\n",
        "theta, J_history = descensoGradiente(theta, X, y, alpha, num_iters, lambda_)\n",
        "\n",
        "# Graficar la convergencia del costo\n",
        "plt.plot(np.arange(len(J_history)), J_history, lw=2)\n",
        "plt.xlabel('Número de iteraciones')\n",
        "plt.ylabel('Costo J')\n",
        "plt.show()\n",
        "\n",
        "# Mostrar los resultados del descenso por el gradiente\n",
        "print('Theta calculado por el descenso por el gradiente:', theta)\n"
      ],
      "metadata": {
        "colab": {
          "base_uri": "https://localhost:8080/",
          "height": 1000
        },
        "id": "M-SrV2D_RsN4",
        "outputId": "50980904-bcb9-48c0-ad95-8e22852e15aa"
      },
      "execution_count": 95,
      "outputs": [
        {
          "output_type": "stream",
          "name": "stderr",
          "text": [
            "<ipython-input-95-1a5ada008b73>:8: RuntimeWarning: divide by zero encountered in log\n",
            "  J = (1 / m) * np.sum(-y.dot(np.log(h)) - (1 - y).dot(np.log(1 - h))) + regularization_term\n",
            "<ipython-input-95-1a5ada008b73>:8: RuntimeWarning: divide by zero encountered in log\n",
            "  J = (1 / m) * np.sum(-y.dot(np.log(h)) - (1 - y).dot(np.log(1 - h))) + regularization_term\n",
            "<ipython-input-95-1a5ada008b73>:8: RuntimeWarning: divide by zero encountered in log\n",
            "  J = (1 / m) * np.sum(-y.dot(np.log(h)) - (1 - y).dot(np.log(1 - h))) + regularization_term\n",
            "<ipython-input-95-1a5ada008b73>:8: RuntimeWarning: divide by zero encountered in log\n",
            "  J = (1 / m) * np.sum(-y.dot(np.log(h)) - (1 - y).dot(np.log(1 - h))) + regularization_term\n",
            "<ipython-input-95-1a5ada008b73>:8: RuntimeWarning: divide by zero encountered in log\n",
            "  J = (1 / m) * np.sum(-y.dot(np.log(h)) - (1 - y).dot(np.log(1 - h))) + regularization_term\n",
            "<ipython-input-95-1a5ada008b73>:8: RuntimeWarning: divide by zero encountered in log\n",
            "  J = (1 / m) * np.sum(-y.dot(np.log(h)) - (1 - y).dot(np.log(1 - h))) + regularization_term\n",
            "<ipython-input-95-1a5ada008b73>:8: RuntimeWarning: divide by zero encountered in log\n",
            "  J = (1 / m) * np.sum(-y.dot(np.log(h)) - (1 - y).dot(np.log(1 - h))) + regularization_term\n",
            "<ipython-input-95-1a5ada008b73>:8: RuntimeWarning: divide by zero encountered in log\n",
            "  J = (1 / m) * np.sum(-y.dot(np.log(h)) - (1 - y).dot(np.log(1 - h))) + regularization_term\n",
            "<ipython-input-95-1a5ada008b73>:8: RuntimeWarning: divide by zero encountered in log\n",
            "  J = (1 / m) * np.sum(-y.dot(np.log(h)) - (1 - y).dot(np.log(1 - h))) + regularization_term\n",
            "<ipython-input-95-1a5ada008b73>:8: RuntimeWarning: divide by zero encountered in log\n",
            "  J = (1 / m) * np.sum(-y.dot(np.log(h)) - (1 - y).dot(np.log(1 - h))) + regularization_term\n",
            "<ipython-input-95-1a5ada008b73>:8: RuntimeWarning: divide by zero encountered in log\n",
            "  J = (1 / m) * np.sum(-y.dot(np.log(h)) - (1 - y).dot(np.log(1 - h))) + regularization_term\n",
            "<ipython-input-95-1a5ada008b73>:8: RuntimeWarning: divide by zero encountered in log\n",
            "  J = (1 / m) * np.sum(-y.dot(np.log(h)) - (1 - y).dot(np.log(1 - h))) + regularization_term\n",
            "<ipython-input-95-1a5ada008b73>:8: RuntimeWarning: divide by zero encountered in log\n",
            "  J = (1 / m) * np.sum(-y.dot(np.log(h)) - (1 - y).dot(np.log(1 - h))) + regularization_term\n",
            "<ipython-input-95-1a5ada008b73>:8: RuntimeWarning: divide by zero encountered in log\n",
            "  J = (1 / m) * np.sum(-y.dot(np.log(h)) - (1 - y).dot(np.log(1 - h))) + regularization_term\n",
            "<ipython-input-95-1a5ada008b73>:8: RuntimeWarning: divide by zero encountered in log\n",
            "  J = (1 / m) * np.sum(-y.dot(np.log(h)) - (1 - y).dot(np.log(1 - h))) + regularization_term\n",
            "<ipython-input-95-1a5ada008b73>:8: RuntimeWarning: divide by zero encountered in log\n",
            "  J = (1 / m) * np.sum(-y.dot(np.log(h)) - (1 - y).dot(np.log(1 - h))) + regularization_term\n",
            "<ipython-input-95-1a5ada008b73>:8: RuntimeWarning: divide by zero encountered in log\n",
            "  J = (1 / m) * np.sum(-y.dot(np.log(h)) - (1 - y).dot(np.log(1 - h))) + regularization_term\n",
            "<ipython-input-95-1a5ada008b73>:8: RuntimeWarning: divide by zero encountered in log\n",
            "  J = (1 / m) * np.sum(-y.dot(np.log(h)) - (1 - y).dot(np.log(1 - h))) + regularization_term\n",
            "<ipython-input-95-1a5ada008b73>:8: RuntimeWarning: divide by zero encountered in log\n",
            "  J = (1 / m) * np.sum(-y.dot(np.log(h)) - (1 - y).dot(np.log(1 - h))) + regularization_term\n",
            "<ipython-input-95-1a5ada008b73>:8: RuntimeWarning: divide by zero encountered in log\n",
            "  J = (1 / m) * np.sum(-y.dot(np.log(h)) - (1 - y).dot(np.log(1 - h))) + regularization_term\n",
            "<ipython-input-95-1a5ada008b73>:8: RuntimeWarning: divide by zero encountered in log\n",
            "  J = (1 / m) * np.sum(-y.dot(np.log(h)) - (1 - y).dot(np.log(1 - h))) + regularization_term\n",
            "<ipython-input-95-1a5ada008b73>:8: RuntimeWarning: divide by zero encountered in log\n",
            "  J = (1 / m) * np.sum(-y.dot(np.log(h)) - (1 - y).dot(np.log(1 - h))) + regularization_term\n",
            "<ipython-input-95-1a5ada008b73>:8: RuntimeWarning: divide by zero encountered in log\n",
            "  J = (1 / m) * np.sum(-y.dot(np.log(h)) - (1 - y).dot(np.log(1 - h))) + regularization_term\n",
            "<ipython-input-95-1a5ada008b73>:8: RuntimeWarning: divide by zero encountered in log\n",
            "  J = (1 / m) * np.sum(-y.dot(np.log(h)) - (1 - y).dot(np.log(1 - h))) + regularization_term\n",
            "<ipython-input-95-1a5ada008b73>:8: RuntimeWarning: divide by zero encountered in log\n",
            "  J = (1 / m) * np.sum(-y.dot(np.log(h)) - (1 - y).dot(np.log(1 - h))) + regularization_term\n",
            "<ipython-input-95-1a5ada008b73>:8: RuntimeWarning: divide by zero encountered in log\n",
            "  J = (1 / m) * np.sum(-y.dot(np.log(h)) - (1 - y).dot(np.log(1 - h))) + regularization_term\n",
            "<ipython-input-95-1a5ada008b73>:8: RuntimeWarning: divide by zero encountered in log\n",
            "  J = (1 / m) * np.sum(-y.dot(np.log(h)) - (1 - y).dot(np.log(1 - h))) + regularization_term\n",
            "<ipython-input-95-1a5ada008b73>:8: RuntimeWarning: divide by zero encountered in log\n",
            "  J = (1 / m) * np.sum(-y.dot(np.log(h)) - (1 - y).dot(np.log(1 - h))) + regularization_term\n",
            "<ipython-input-95-1a5ada008b73>:8: RuntimeWarning: divide by zero encountered in log\n",
            "  J = (1 / m) * np.sum(-y.dot(np.log(h)) - (1 - y).dot(np.log(1 - h))) + regularization_term\n",
            "<ipython-input-95-1a5ada008b73>:8: RuntimeWarning: divide by zero encountered in log\n",
            "  J = (1 / m) * np.sum(-y.dot(np.log(h)) - (1 - y).dot(np.log(1 - h))) + regularization_term\n",
            "<ipython-input-95-1a5ada008b73>:8: RuntimeWarning: divide by zero encountered in log\n",
            "  J = (1 / m) * np.sum(-y.dot(np.log(h)) - (1 - y).dot(np.log(1 - h))) + regularization_term\n",
            "<ipython-input-95-1a5ada008b73>:8: RuntimeWarning: divide by zero encountered in log\n",
            "  J = (1 / m) * np.sum(-y.dot(np.log(h)) - (1 - y).dot(np.log(1 - h))) + regularization_term\n",
            "<ipython-input-95-1a5ada008b73>:8: RuntimeWarning: divide by zero encountered in log\n",
            "  J = (1 / m) * np.sum(-y.dot(np.log(h)) - (1 - y).dot(np.log(1 - h))) + regularization_term\n",
            "<ipython-input-95-1a5ada008b73>:8: RuntimeWarning: divide by zero encountered in log\n",
            "  J = (1 / m) * np.sum(-y.dot(np.log(h)) - (1 - y).dot(np.log(1 - h))) + regularization_term\n",
            "<ipython-input-95-1a5ada008b73>:8: RuntimeWarning: divide by zero encountered in log\n",
            "  J = (1 / m) * np.sum(-y.dot(np.log(h)) - (1 - y).dot(np.log(1 - h))) + regularization_term\n",
            "<ipython-input-95-1a5ada008b73>:8: RuntimeWarning: divide by zero encountered in log\n",
            "  J = (1 / m) * np.sum(-y.dot(np.log(h)) - (1 - y).dot(np.log(1 - h))) + regularization_term\n",
            "<ipython-input-95-1a5ada008b73>:8: RuntimeWarning: divide by zero encountered in log\n",
            "  J = (1 / m) * np.sum(-y.dot(np.log(h)) - (1 - y).dot(np.log(1 - h))) + regularization_term\n",
            "<ipython-input-95-1a5ada008b73>:8: RuntimeWarning: divide by zero encountered in log\n",
            "  J = (1 / m) * np.sum(-y.dot(np.log(h)) - (1 - y).dot(np.log(1 - h))) + regularization_term\n",
            "<ipython-input-95-1a5ada008b73>:8: RuntimeWarning: divide by zero encountered in log\n",
            "  J = (1 / m) * np.sum(-y.dot(np.log(h)) - (1 - y).dot(np.log(1 - h))) + regularization_term\n",
            "<ipython-input-95-1a5ada008b73>:8: RuntimeWarning: divide by zero encountered in log\n",
            "  J = (1 / m) * np.sum(-y.dot(np.log(h)) - (1 - y).dot(np.log(1 - h))) + regularization_term\n",
            "<ipython-input-95-1a5ada008b73>:8: RuntimeWarning: divide by zero encountered in log\n",
            "  J = (1 / m) * np.sum(-y.dot(np.log(h)) - (1 - y).dot(np.log(1 - h))) + regularization_term\n",
            "<ipython-input-95-1a5ada008b73>:8: RuntimeWarning: divide by zero encountered in log\n",
            "  J = (1 / m) * np.sum(-y.dot(np.log(h)) - (1 - y).dot(np.log(1 - h))) + regularization_term\n",
            "<ipython-input-95-1a5ada008b73>:8: RuntimeWarning: divide by zero encountered in log\n",
            "  J = (1 / m) * np.sum(-y.dot(np.log(h)) - (1 - y).dot(np.log(1 - h))) + regularization_term\n",
            "<ipython-input-95-1a5ada008b73>:8: RuntimeWarning: divide by zero encountered in log\n",
            "  J = (1 / m) * np.sum(-y.dot(np.log(h)) - (1 - y).dot(np.log(1 - h))) + regularization_term\n",
            "<ipython-input-95-1a5ada008b73>:8: RuntimeWarning: divide by zero encountered in log\n",
            "  J = (1 / m) * np.sum(-y.dot(np.log(h)) - (1 - y).dot(np.log(1 - h))) + regularization_term\n",
            "<ipython-input-95-1a5ada008b73>:8: RuntimeWarning: divide by zero encountered in log\n",
            "  J = (1 / m) * np.sum(-y.dot(np.log(h)) - (1 - y).dot(np.log(1 - h))) + regularization_term\n",
            "<ipython-input-95-1a5ada008b73>:8: RuntimeWarning: divide by zero encountered in log\n",
            "  J = (1 / m) * np.sum(-y.dot(np.log(h)) - (1 - y).dot(np.log(1 - h))) + regularization_term\n",
            "<ipython-input-95-1a5ada008b73>:8: RuntimeWarning: divide by zero encountered in log\n",
            "  J = (1 / m) * np.sum(-y.dot(np.log(h)) - (1 - y).dot(np.log(1 - h))) + regularization_term\n",
            "<ipython-input-95-1a5ada008b73>:8: RuntimeWarning: divide by zero encountered in log\n",
            "  J = (1 / m) * np.sum(-y.dot(np.log(h)) - (1 - y).dot(np.log(1 - h))) + regularization_term\n",
            "<ipython-input-95-1a5ada008b73>:8: RuntimeWarning: divide by zero encountered in log\n",
            "  J = (1 / m) * np.sum(-y.dot(np.log(h)) - (1 - y).dot(np.log(1 - h))) + regularization_term\n",
            "<ipython-input-95-1a5ada008b73>:8: RuntimeWarning: divide by zero encountered in log\n",
            "  J = (1 / m) * np.sum(-y.dot(np.log(h)) - (1 - y).dot(np.log(1 - h))) + regularization_term\n",
            "<ipython-input-95-1a5ada008b73>:8: RuntimeWarning: divide by zero encountered in log\n",
            "  J = (1 / m) * np.sum(-y.dot(np.log(h)) - (1 - y).dot(np.log(1 - h))) + regularization_term\n",
            "<ipython-input-95-1a5ada008b73>:8: RuntimeWarning: divide by zero encountered in log\n",
            "  J = (1 / m) * np.sum(-y.dot(np.log(h)) - (1 - y).dot(np.log(1 - h))) + regularization_term\n",
            "<ipython-input-95-1a5ada008b73>:8: RuntimeWarning: divide by zero encountered in log\n",
            "  J = (1 / m) * np.sum(-y.dot(np.log(h)) - (1 - y).dot(np.log(1 - h))) + regularization_term\n",
            "<ipython-input-95-1a5ada008b73>:8: RuntimeWarning: divide by zero encountered in log\n",
            "  J = (1 / m) * np.sum(-y.dot(np.log(h)) - (1 - y).dot(np.log(1 - h))) + regularization_term\n",
            "<ipython-input-95-1a5ada008b73>:8: RuntimeWarning: divide by zero encountered in log\n",
            "  J = (1 / m) * np.sum(-y.dot(np.log(h)) - (1 - y).dot(np.log(1 - h))) + regularization_term\n",
            "<ipython-input-95-1a5ada008b73>:8: RuntimeWarning: divide by zero encountered in log\n",
            "  J = (1 / m) * np.sum(-y.dot(np.log(h)) - (1 - y).dot(np.log(1 - h))) + regularization_term\n",
            "<ipython-input-95-1a5ada008b73>:8: RuntimeWarning: divide by zero encountered in log\n",
            "  J = (1 / m) * np.sum(-y.dot(np.log(h)) - (1 - y).dot(np.log(1 - h))) + regularization_term\n",
            "<ipython-input-95-1a5ada008b73>:8: RuntimeWarning: divide by zero encountered in log\n",
            "  J = (1 / m) * np.sum(-y.dot(np.log(h)) - (1 - y).dot(np.log(1 - h))) + regularization_term\n",
            "<ipython-input-95-1a5ada008b73>:8: RuntimeWarning: divide by zero encountered in log\n",
            "  J = (1 / m) * np.sum(-y.dot(np.log(h)) - (1 - y).dot(np.log(1 - h))) + regularization_term\n",
            "<ipython-input-95-1a5ada008b73>:8: RuntimeWarning: divide by zero encountered in log\n",
            "  J = (1 / m) * np.sum(-y.dot(np.log(h)) - (1 - y).dot(np.log(1 - h))) + regularization_term\n",
            "<ipython-input-95-1a5ada008b73>:8: RuntimeWarning: divide by zero encountered in log\n",
            "  J = (1 / m) * np.sum(-y.dot(np.log(h)) - (1 - y).dot(np.log(1 - h))) + regularization_term\n",
            "<ipython-input-95-1a5ada008b73>:8: RuntimeWarning: divide by zero encountered in log\n",
            "  J = (1 / m) * np.sum(-y.dot(np.log(h)) - (1 - y).dot(np.log(1 - h))) + regularization_term\n",
            "<ipython-input-95-1a5ada008b73>:8: RuntimeWarning: divide by zero encountered in log\n",
            "  J = (1 / m) * np.sum(-y.dot(np.log(h)) - (1 - y).dot(np.log(1 - h))) + regularization_term\n",
            "<ipython-input-95-1a5ada008b73>:8: RuntimeWarning: divide by zero encountered in log\n",
            "  J = (1 / m) * np.sum(-y.dot(np.log(h)) - (1 - y).dot(np.log(1 - h))) + regularization_term\n",
            "<ipython-input-95-1a5ada008b73>:8: RuntimeWarning: divide by zero encountered in log\n",
            "  J = (1 / m) * np.sum(-y.dot(np.log(h)) - (1 - y).dot(np.log(1 - h))) + regularization_term\n",
            "<ipython-input-95-1a5ada008b73>:8: RuntimeWarning: divide by zero encountered in log\n",
            "  J = (1 / m) * np.sum(-y.dot(np.log(h)) - (1 - y).dot(np.log(1 - h))) + regularization_term\n",
            "<ipython-input-95-1a5ada008b73>:8: RuntimeWarning: divide by zero encountered in log\n",
            "  J = (1 / m) * np.sum(-y.dot(np.log(h)) - (1 - y).dot(np.log(1 - h))) + regularization_term\n",
            "<ipython-input-95-1a5ada008b73>:8: RuntimeWarning: divide by zero encountered in log\n",
            "  J = (1 / m) * np.sum(-y.dot(np.log(h)) - (1 - y).dot(np.log(1 - h))) + regularization_term\n",
            "<ipython-input-95-1a5ada008b73>:8: RuntimeWarning: divide by zero encountered in log\n",
            "  J = (1 / m) * np.sum(-y.dot(np.log(h)) - (1 - y).dot(np.log(1 - h))) + regularization_term\n",
            "<ipython-input-95-1a5ada008b73>:8: RuntimeWarning: divide by zero encountered in log\n",
            "  J = (1 / m) * np.sum(-y.dot(np.log(h)) - (1 - y).dot(np.log(1 - h))) + regularization_term\n",
            "<ipython-input-95-1a5ada008b73>:8: RuntimeWarning: divide by zero encountered in log\n",
            "  J = (1 / m) * np.sum(-y.dot(np.log(h)) - (1 - y).dot(np.log(1 - h))) + regularization_term\n",
            "<ipython-input-95-1a5ada008b73>:8: RuntimeWarning: divide by zero encountered in log\n",
            "  J = (1 / m) * np.sum(-y.dot(np.log(h)) - (1 - y).dot(np.log(1 - h))) + regularization_term\n",
            "<ipython-input-95-1a5ada008b73>:8: RuntimeWarning: divide by zero encountered in log\n",
            "  J = (1 / m) * np.sum(-y.dot(np.log(h)) - (1 - y).dot(np.log(1 - h))) + regularization_term\n",
            "<ipython-input-95-1a5ada008b73>:8: RuntimeWarning: divide by zero encountered in log\n",
            "  J = (1 / m) * np.sum(-y.dot(np.log(h)) - (1 - y).dot(np.log(1 - h))) + regularization_term\n",
            "<ipython-input-95-1a5ada008b73>:8: RuntimeWarning: divide by zero encountered in log\n",
            "  J = (1 / m) * np.sum(-y.dot(np.log(h)) - (1 - y).dot(np.log(1 - h))) + regularization_term\n",
            "<ipython-input-95-1a5ada008b73>:8: RuntimeWarning: divide by zero encountered in log\n",
            "  J = (1 / m) * np.sum(-y.dot(np.log(h)) - (1 - y).dot(np.log(1 - h))) + regularization_term\n",
            "<ipython-input-95-1a5ada008b73>:8: RuntimeWarning: divide by zero encountered in log\n",
            "  J = (1 / m) * np.sum(-y.dot(np.log(h)) - (1 - y).dot(np.log(1 - h))) + regularization_term\n",
            "<ipython-input-95-1a5ada008b73>:8: RuntimeWarning: divide by zero encountered in log\n",
            "  J = (1 / m) * np.sum(-y.dot(np.log(h)) - (1 - y).dot(np.log(1 - h))) + regularization_term\n",
            "<ipython-input-95-1a5ada008b73>:8: RuntimeWarning: divide by zero encountered in log\n",
            "  J = (1 / m) * np.sum(-y.dot(np.log(h)) - (1 - y).dot(np.log(1 - h))) + regularization_term\n",
            "<ipython-input-95-1a5ada008b73>:8: RuntimeWarning: divide by zero encountered in log\n",
            "  J = (1 / m) * np.sum(-y.dot(np.log(h)) - (1 - y).dot(np.log(1 - h))) + regularization_term\n",
            "<ipython-input-95-1a5ada008b73>:8: RuntimeWarning: divide by zero encountered in log\n",
            "  J = (1 / m) * np.sum(-y.dot(np.log(h)) - (1 - y).dot(np.log(1 - h))) + regularization_term\n",
            "<ipython-input-95-1a5ada008b73>:8: RuntimeWarning: divide by zero encountered in log\n",
            "  J = (1 / m) * np.sum(-y.dot(np.log(h)) - (1 - y).dot(np.log(1 - h))) + regularization_term\n",
            "<ipython-input-95-1a5ada008b73>:8: RuntimeWarning: divide by zero encountered in log\n",
            "  J = (1 / m) * np.sum(-y.dot(np.log(h)) - (1 - y).dot(np.log(1 - h))) + regularization_term\n",
            "<ipython-input-95-1a5ada008b73>:8: RuntimeWarning: divide by zero encountered in log\n",
            "  J = (1 / m) * np.sum(-y.dot(np.log(h)) - (1 - y).dot(np.log(1 - h))) + regularization_term\n"
          ]
        },
        {
          "output_type": "display_data",
          "data": {
            "text/plain": [
              "<Figure size 640x480 with 1 Axes>"
            ],
            "image/png": "[encoded data removed]"
          },
          "metadata": {}
        },
        {
          "output_type": "stream",
          "name": "stdout",
          "text": [
            "Theta calculado por el descenso por el gradiente: [-0.0007479  -0.11111621  0.01484048  0.0658817  -0.01138908  0.00041047\n",
            "  0.00041913 -0.07386508 -0.030123   -0.03459541 -0.14600338  0.07504088\n",
            " -0.08599456 -0.05790928  0.01203971 -0.00078107  0.00109098 -0.02194236\n",
            "  0.00226895  0.17856132  0.00170715  0.0017079 ]\n"
          ]
        }
      ]
    }
  ]
}