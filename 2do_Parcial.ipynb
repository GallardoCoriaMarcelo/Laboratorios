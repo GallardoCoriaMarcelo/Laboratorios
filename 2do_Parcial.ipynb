{
  "nbformat": 4,
  "nbformat_minor": 0,
  "metadata": {
    "colab": {
      "provenance": [],
      "authorship_tag": "ABX9TyPVkdL1TQh/0hQLmdJCNCVQ",
      "include_colab_link": true
    },
    "kernelspec": {
      "name": "python3",
      "display_name": "Python 3"
    },
    "language_info": {
      "name": "python"
    }
  },
  "cells": [
    {
      "cell_type": "markdown",
      "metadata": {
        "id": "view-in-github",
        "colab_type": "text"
      },
      "source": [
        "<a href=\"https://colab.research.google.com/github/GallardoCoriaMarcelo/Laboratorios/blob/main/2do_Parcial.ipynb\" target=\"_parent\"><img src=\"https://colab.research.google.com/assets/colab-badge.svg\" alt=\"Open In Colab\"/></a>"
      ]
    },
    {
      "cell_type": "markdown",
      "source": [
        "**2do Parcial (SIS420-COM300)**\n",
        "\n",
        "Marcelo Daniel Gallardo Coria (Ing. en Diseño y Animación Digital)"
      ],
      "metadata": {
        "id": "ZinPHMWDdXxw"
      }
    },
    {
      "cell_type": "markdown",
      "source": [
        "**Temática** (lo que se quiere buscar con el dataset):  Segmentar diamantes por sus caracteristicas.\n",
        "\n",
        "URL del Dataset: https://www.kaggle.com/datasets/nancyalaswad90/diamonds-prices/\n",
        "Nombre: Diamonds Prices2022.csv"
      ],
      "metadata": {
        "id": "SXKTTyl6c6z9"
      }
    },
    {
      "cell_type": "markdown",
      "source": [
        "Montaje Drive"
      ],
      "metadata": {
        "id": "-eFEGcpMdeoA"
      }
    },
    {
      "cell_type": "code",
      "source": [
        "from google.colab import drive\n",
        "drive.mount('/content/drive')"
      ],
      "metadata": {
        "colab": {
          "base_uri": "https://localhost:8080/"
        },
        "id": "OHF4Uojbh56h",
        "outputId": "0e605d4d-9e8c-469e-92d9-764193855a02"
      },
      "execution_count": 1,
      "outputs": [
        {
          "output_type": "stream",
          "name": "stdout",
          "text": [
            "Drive already mounted at /content/drive; to attempt to forcibly remount, call drive.mount(\"/content/drive\", force_remount=True).\n"
          ]
        }
      ]
    },
    {
      "cell_type": "code",
      "source": [
        "import pandas as pd\n",
        "\n",
        "# Cargar el conjunto de datos desde un archivo CSV\n",
        "diamonds_data = pd.read_csv('/content/drive/MyDrive/Dataset_no_supervisado/2do_Parcial/Diamonds_Prices2022.csv')"
      ],
      "metadata": {
        "id": "mC087ZdpjfFn"
      },
      "execution_count": 2,
      "outputs": []
    },
    {
      "cell_type": "code",
      "execution_count": 3,
      "metadata": {
        "colab": {
          "base_uri": "https://localhost:8080/"
        },
        "id": "inulq-ZOgzAq",
        "outputId": "c754068c-1eac-4b94-97b3-cc137c29ad7f"
      },
      "outputs": [
        {
          "output_type": "stream",
          "name": "stdout",
          "text": [
            "   carat      cut color clarity  depth  table     x     y     z\n",
            "0   0.23    Ideal     E     SI2   61.5   55.0  3.95  3.98  2.43\n",
            "1   0.21  Premium     E     SI1   59.8   61.0  3.89  3.84  2.31\n",
            "2   0.23     Good     E     VS1   56.9   65.0  4.05  4.07  2.31\n",
            "3   0.29  Premium     I     VS2   62.4   58.0  4.20  4.23  2.63\n",
            "4   0.31     Good     J     SI2   63.3   58.0  4.34  4.35  2.75\n",
            "<class 'pandas.core.frame.DataFrame'>\n",
            "RangeIndex: 53943 entries, 0 to 53942\n",
            "Data columns (total 9 columns):\n",
            " #   Column   Non-Null Count  Dtype  \n",
            "---  ------   --------------  -----  \n",
            " 0   carat    53943 non-null  float64\n",
            " 1   cut      53943 non-null  object \n",
            " 2   color    53943 non-null  object \n",
            " 3   clarity  53943 non-null  object \n",
            " 4   depth    53943 non-null  float64\n",
            " 5   table    53943 non-null  float64\n",
            " 6   x        53943 non-null  float64\n",
            " 7   y        53943 non-null  float64\n",
            " 8   z        53943 non-null  float64\n",
            "dtypes: float64(6), object(3)\n",
            "memory usage: 3.7+ MB\n",
            "None\n",
            "              carat         depth         table             x             y  \\\n",
            "count  53943.000000  53943.000000  53943.000000  53943.000000  53943.000000   \n",
            "mean       0.797935     61.749322     57.457251      5.731158      5.734526   \n",
            "std        0.473999      1.432626      2.234549      1.121730      1.142103   \n",
            "min        0.200000     43.000000     43.000000      0.000000      0.000000   \n",
            "25%        0.400000     61.000000     56.000000      4.710000      4.720000   \n",
            "50%        0.700000     61.800000     57.000000      5.700000      5.710000   \n",
            "75%        1.040000     62.500000     59.000000      6.540000      6.540000   \n",
            "max        5.010000     79.000000     95.000000     10.740000     58.900000   \n",
            "\n",
            "                  z  \n",
            "count  53943.000000  \n",
            "mean       3.538730  \n",
            "std        0.705679  \n",
            "min        0.000000  \n",
            "25%        2.910000  \n",
            "50%        3.530000  \n",
            "75%        4.040000  \n",
            "max       31.800000  \n"
          ]
        }
      ],
      "source": [
        "import pandas as pd\n",
        "from sklearn.cluster import KMeans\n",
        "from sklearn.preprocessing import StandardScaler\n",
        "\n",
        "# Eliminar columnas no necesarias\n",
        "diamonds_data = diamonds_data.drop(['Unnamed: 0', 'price'], axis=1)\n",
        "\n",
        "print(diamonds_data.head())  # Muestra las primeras filas del DataFrame\n",
        "print(diamonds_data.info())  # Muestra información sobre las columnas y tipos de datos\n",
        "print(diamonds_data.describe())  # Proporciona estadísticas descriptivas de los datos numéricos\n"
      ]
    },
    {
      "cell_type": "markdown",
      "source": [
        "ASIGNAMOS VALORES NUMERICOS A LOS VALORES CUALITATIVOS"
      ],
      "metadata": {
        "id": "KKB_-5FndkWx"
      }
    },
    {
      "cell_type": "code",
      "source": [
        "# Obtener los valores únicos de las columnas \"cut\", \"color\" y \"clarity\"\n",
        "unique_cut_values = diamonds_data['cut'].unique()\n",
        "unique_color_values = diamonds_data['color'].unique()\n",
        "unique_clarity_values = diamonds_data['clarity'].unique()\n",
        "\n",
        "# Contar el número de valores únicos\n",
        "num_unique_cut_values = len(unique_cut_values)\n",
        "num_unique_color_values = len(unique_color_values)\n",
        "num_unique_clarity_values = len(unique_clarity_values)\n",
        "\n",
        "# Mostrar valores únicos en las columnas \"cut\", \"color\" y \"clarity\"\n",
        "print(f'Valores únicos en la columna \"cut\": {unique_cut_values}')\n",
        "print(f'Valores únicos en la columna \"color\": {unique_color_values}')\n",
        "print(f'Valores únicos en la columna \"clarity\": {unique_clarity_values}')\n",
        "\n",
        "print(f\"Número de valores únicos en 'cut': {num_unique_cut_values}\")\n",
        "print(f\"Número de valores únicos en 'color': {num_unique_color_values}\")\n",
        "print(f\"Número de valores únicos en 'clarity': {num_unique_clarity_values}\")"
      ],
      "metadata": {
        "colab": {
          "base_uri": "https://localhost:8080/"
        },
        "id": "DlVfmh-BoV87",
        "outputId": "7c0474f5-efa1-4ba6-d269-38fab6d6f26c"
      },
      "execution_count": 4,
      "outputs": [
        {
          "output_type": "stream",
          "name": "stdout",
          "text": [
            "Valores únicos en la columna \"cut\": ['Ideal' 'Premium' 'Good' 'Very Good' 'Fair']\n",
            "Valores únicos en la columna \"color\": ['E' 'I' 'J' 'H' 'F' 'G' 'D']\n",
            "Valores únicos en la columna \"clarity\": ['SI2' 'SI1' 'VS1' 'VS2' 'VVS2' 'VVS1' 'I1' 'IF']\n",
            "Número de valores únicos en 'cut': 5\n",
            "Número de valores únicos en 'color': 7\n",
            "Número de valores únicos en 'clarity': 8\n"
          ]
        }
      ]
    },
    {
      "cell_type": "code",
      "source": [
        "# Definir el diccionario de mapeo\n",
        "cut_mapping = {'Ideal': 5, 'Premium': 4, 'Good': 3, 'Very Good': 2, 'Fair': 1}\n",
        "color_mapping = {'E': 0, 'I': 1, 'J': 2, 'H': 3, 'F': 4, 'G': 5, 'D': 6}\n",
        "clarity_mapping = {'SI2': 1, 'SI1': 2, 'VS1': 3, 'VS2': 4, 'VVS2': 5, 'VVS1': 6, 'I1': 7, 'IF': 8}\n",
        "\n",
        "# Crear una nueva columna 'cut_numeric' con los valores numéricos\n",
        "diamonds_data['cut'] = diamonds_data['cut'].map(cut_mapping)\n",
        "diamonds_data['color'] = diamonds_data['color'].map(color_mapping)\n",
        "diamonds_data['clarity'] = diamonds_data['clarity'].map(clarity_mapping)\n",
        "\n",
        "# Mostrar el DataFrame resultante\n",
        "print(diamonds_data)\n"
      ],
      "metadata": {
        "colab": {
          "base_uri": "https://localhost:8080/"
        },
        "id": "juVRrdOTrj4I",
        "outputId": "4aa684b4-a474-4745-c557-e4fc0db16d68"
      },
      "execution_count": 5,
      "outputs": [
        {
          "output_type": "stream",
          "name": "stdout",
          "text": [
            "       carat  cut  color  clarity  depth  table     x     y     z\n",
            "0       0.23    5      0        1   61.5   55.0  3.95  3.98  2.43\n",
            "1       0.21    4      0        2   59.8   61.0  3.89  3.84  2.31\n",
            "2       0.23    3      0        3   56.9   65.0  4.05  4.07  2.31\n",
            "3       0.29    4      1        4   62.4   58.0  4.20  4.23  2.63\n",
            "4       0.31    3      2        1   63.3   58.0  4.34  4.35  2.75\n",
            "...      ...  ...    ...      ...    ...    ...   ...   ...   ...\n",
            "53938   0.86    4      3        1   61.0   58.0  6.15  6.12  3.74\n",
            "53939   0.75    5      6        1   62.2   55.0  5.83  5.87  3.64\n",
            "53940   0.71    4      0        2   60.5   55.0  5.79  5.74  3.49\n",
            "53941   0.71    4      4        2   59.8   62.0  5.74  5.73  3.43\n",
            "53942   0.70    2      0        4   60.5   59.0  5.71  5.76  3.47\n",
            "\n",
            "[53943 rows x 9 columns]\n"
          ]
        }
      ]
    },
    {
      "cell_type": "markdown",
      "source": [
        "ESCALADO DE LOS DATOS"
      ],
      "metadata": {
        "id": "-CB-wczrdrD4"
      }
    },
    {
      "cell_type": "code",
      "source": [
        "# Escalar los datos para que tengan media 0 y varianza 1\n",
        "scaler = StandardScaler()\n",
        "diamonds_data_scaled = scaler.fit_transform(diamonds_data)\n",
        "\n",
        "# Mostrar el DataFrame resultante\n",
        "print(diamonds_data_scaled)\n"
      ],
      "metadata": {
        "colab": {
          "base_uri": "https://localhost:8080/"
        },
        "id": "4krtFY4Kh4cH",
        "outputId": "597eafd1-7bcf-4a87-b7a9-5c532fff22a1"
      },
      "execution_count": 6,
      "outputs": [
        {
          "output_type": "stream",
          "name": "stdout",
          "text": [
            "[[-1.19818918  0.97078151 -1.5483143  ... -1.58788233 -1.5362387\n",
            "  -1.57116638]\n",
            " [-1.24038379  0.18086286 -1.5483143  ... -1.64137165 -1.65882074\n",
            "  -1.74121683]\n",
            " [-1.19818918 -0.60905579 -1.5483143  ... -1.49873345 -1.45743597\n",
            "  -1.74121683]\n",
            " ...\n",
            " [-0.18551847  0.18086286 -1.5483143  ...  0.05245691  0.00479257\n",
            "  -0.06905407]\n",
            " [-0.18551847  0.18086286  0.40273967 ...  0.00788248 -0.00396329\n",
            "  -0.15407929]\n",
            " [-0.20661578 -1.39897445 -1.5483143  ... -0.01886218  0.02230429\n",
            "  -0.09739581]]\n"
          ]
        }
      ]
    },
    {
      "cell_type": "markdown",
      "source": [
        "REDUCIOS LA DIMENSIONALIDAD DE LAS CARACTERISTICAS"
      ],
      "metadata": {
        "id": "TuDErtYldvBe"
      }
    },
    {
      "cell_type": "code",
      "source": [
        "import numpy as np\n",
        "from sklearn.decomposition import PCA\n",
        "pca = PCA(n_components=9)\n",
        "pca = pca.fit(diamonds_data_scaled)\n",
        "\n",
        "explained_variance = pca.explained_variance_\n",
        "print('Varianza por cada componente: ')\n",
        "print(explained_variance)\n",
        "\n",
        "#Varianza acumulada\n",
        "PVE = pca.explained_variance_ratio_\n",
        "print('Proporcion de Varianza Explicada por cada componente: ')\n",
        "print(PVE)\n",
        "\n",
        "#Criterio de varianza explicada\n",
        "np.cumsum(pca.explained_variance_ratio_)"
      ],
      "metadata": {
        "colab": {
          "base_uri": "https://localhost:8080/"
        },
        "id": "M12RXHStBABd",
        "outputId": "c4519fc4-1883-4473-b7c4-b3e60f02136b"
      },
      "execution_count": 16,
      "outputs": [
        {
          "output_type": "stream",
          "name": "stdout",
          "text": [
            "Varianza por cada componente: \n",
            "[4.08450955 1.36515032 1.17399991 0.99287283 0.86054139 0.42319935\n",
            " 0.04703671 0.03978498 0.01307182]\n",
            "Proporcion de Varianza Explicada por cada componente: \n",
            "[0.45382598 0.15168056 0.13044202 0.11031716 0.09561394 0.04702128\n",
            " 0.0052262  0.00442047 0.0014524 ]\n"
          ]
        },
        {
          "output_type": "execute_result",
          "data": {
            "text/plain": [
              "array([0.45382598, 0.60550654, 0.73594855, 0.84626571, 0.94187965,\n",
              "       0.98890093, 0.99412713, 0.9985476 , 1.        ])"
            ]
          },
          "metadata": {},
          "execution_count": 16
        }
      ]
    },
    {
      "cell_type": "code",
      "source": [
        "plt.figure(figsize=(7,5))\n",
        "plt.plot([1,2,3,4,5,6,7,8,9], pca.explained_variance_ratio_, '-o')\n",
        "plt.ylabel('Proporcion de Var. Explicada')\n",
        "plt.xlabel('Componente principal')\n",
        "plt.xlim(0.75,4.25)\n",
        "plt.ylim(0,1.05)\n",
        "plt.xticks([1,2,3,4,5,6,7,8,9])\n",
        "plt.show()"
      ],
      "metadata": {
        "colab": {
          "base_uri": "https://localhost:8080/",
          "height": 465
        },
        "id": "mDRWQGzkDCkv",
        "outputId": "c142e532-e25f-45e2-8d3a-aca40eb0c283"
      },
      "execution_count": 17,
      "outputs": [
        {
          "output_type": "display_data",
          "data": {
            "text/plain": [
              "<Figure size 700x500 with 1 Axes>"
            ],
            "image/png": "[encoded data removed]"
          },
          "metadata": {}
        }
      ]
    },
    {
      "cell_type": "code",
      "source": [
        "plt.figure(figsize=(7,5))\n",
        "plt.plot([1,2,3,4,5,6,7,8,9], np.cumsum(pca.explained_variance_ratio_), '-o')\n",
        "plt.ylabel('Proporcion Acumulada de Var. Explicada')\n",
        "plt.xlabel('Componente principal')\n",
        "plt.xlim(0.75,4.25)\n",
        "plt.ylim(0,1.05)\n",
        "plt.xticks([1,2,3,4,5,6,7,8,9])\n",
        "plt.show()"
      ],
      "metadata": {
        "colab": {
          "base_uri": "https://localhost:8080/",
          "height": 465
        },
        "id": "OZP5w417EEXP",
        "outputId": "a876fc32-6461-4ce7-9e00-95a91666e045"
      },
      "execution_count": 18,
      "outputs": [
        {
          "output_type": "display_data",
          "data": {
            "text/plain": [
              "<Figure size 700x500 with 1 Axes>"
            ],
            "image/png": "[encoded data removed]"
          },
          "metadata": {}
        }
      ]
    },
    {
      "cell_type": "markdown",
      "source": [
        "CALCULAMOS LAS CARACTERISTICAS MAS RELEVANTES PARA EL MODELO, TOMAMOS 4 CARACTGERISTICAS"
      ],
      "metadata": {
        "id": "INZr1L63d9aG"
      }
    },
    {
      "cell_type": "code",
      "source": [
        "pca = PCA(n_components=4)\n",
        "pca = pca.fit(diamonds_data_scaled)\n",
        "\n",
        "explained_variance = pca.explained_variance_\n",
        "print('Varianza por cada componente: ')\n",
        "print(explained_variance)\n",
        "\n",
        "#Varianza acumulada\n",
        "PVE = pca.explained_variance_ratio_\n",
        "print('Proporcion de Varianza Explicada por cada componente: ')\n",
        "print(PVE)\n",
        "\n",
        "#Criterio de varianza explicada\n",
        "np.cumsum(pca.explained_variance_ratio_)"
      ],
      "metadata": {
        "colab": {
          "base_uri": "https://localhost:8080/"
        },
        "id": "cAFVip47Exc6",
        "outputId": "024d2ccc-2214-47fe-95ba-3ba86d2ecae3"
      },
      "execution_count": 47,
      "outputs": [
        {
          "output_type": "stream",
          "name": "stdout",
          "text": [
            "Varianza por cada componente: \n",
            "[4.08450955 1.36515032 1.17399991 0.99287283]\n",
            "Proporcion de Varianza Explicada por cada componente: \n",
            "[0.45382598 0.15168056 0.13044202 0.11031716]\n"
          ]
        },
        {
          "output_type": "execute_result",
          "data": {
            "text/plain": [
              "array([0.45382598, 0.60550654, 0.73594855, 0.84626571])"
            ]
          },
          "metadata": {},
          "execution_count": 47
        }
      ]
    },
    {
      "cell_type": "code",
      "source": [
        "pca_loadings = pca.components_\n",
        "#pd.DataFrame(pca_loadings, columns=diamonds_data.columns, index=['PC1','PC2','PC3','PC4','PC5']).head(7)\n",
        "pca_scores = pca.transform(X)"
      ],
      "metadata": {
        "id": "impubKXjFco3"
      },
      "execution_count": 48,
      "outputs": []
    },
    {
      "cell_type": "code",
      "source": [
        "df_plot = pd.DataFrame(pca_scores, columns=['PC1','PC2','PC3','PC4'], index=diamonds_data.index)\n",
        "df_plot.head()"
      ],
      "metadata": {
        "colab": {
          "base_uri": "https://localhost:8080/",
          "height": 206
        },
        "id": "n0pB79BWJOjC",
        "outputId": "00541ab8-9505-4329-d951-8639da0d8c0f"
      },
      "execution_count": 50,
      "outputs": [
        {
          "output_type": "execute_result",
          "data": {
            "text/plain": [
              "        PC1       PC2       PC3       PC4\n",
              "0 -2.773897 -0.463428  0.042339 -1.750900\n",
              "1 -2.648672  2.310209  0.827243 -1.601840\n",
              "2 -2.271209  4.666955  2.223755 -1.504446\n",
              "3 -2.458700  0.379055 -0.442640 -1.117326\n",
              "4 -1.854767  0.718368 -1.627908 -0.537792"
            ],
            "text/html": [
              "\n",
              "  <div id=\"df-2952b4fd-eca9-4c9e-bef3-12611e208c73\" class=\"colab-df-container\">\n",
              "    <div>\n",
              "<style scoped>\n",
              "    .dataframe tbody tr th:only-of-type {\n",
              "        vertical-align: middle;\n",
              "    }\n",
              "\n",
              "    .dataframe tbody tr th {\n",
              "        vertical-align: top;\n",
              "    }\n",
              "\n",
              "    .dataframe thead th {\n",
              "        text-align: right;\n",
              "    }\n",
              "</style>\n",
              "<table border=\"1\" class=\"dataframe\">\n",
              "  <thead>\n",
              "    <tr style=\"text-align: right;\">\n",
              "      <th></th>\n",
              "      <th>PC1</th>\n",
              "      <th>PC2</th>\n",
              "      <th>PC3</th>\n",
              "      <th>PC4</th>\n",
              "    </tr>\n",
              "  </thead>\n",
              "  <tbody>\n",
              "    <tr>\n",
              "      <th>0</th>\n",
              "      <td>-2.773897</td>\n",
              "      <td>-0.463428</td>\n",
              "      <td>0.042339</td>\n",
              "      <td>-1.750900</td>\n",
              "    </tr>\n",
              "    <tr>\n",
              "      <th>1</th>\n",
              "      <td>-2.648672</td>\n",
              "      <td>2.310209</td>\n",
              "      <td>0.827243</td>\n",
              "      <td>-1.601840</td>\n",
              "    </tr>\n",
              "    <tr>\n",
              "      <th>2</th>\n",
              "      <td>-2.271209</td>\n",
              "      <td>4.666955</td>\n",
              "      <td>2.223755</td>\n",
              "      <td>-1.504446</td>\n",
              "    </tr>\n",
              "    <tr>\n",
              "      <th>3</th>\n",
              "      <td>-2.458700</td>\n",
              "      <td>0.379055</td>\n",
              "      <td>-0.442640</td>\n",
              "      <td>-1.117326</td>\n",
              "    </tr>\n",
              "    <tr>\n",
              "      <th>4</th>\n",
              "      <td>-1.854767</td>\n",
              "      <td>0.718368</td>\n",
              "      <td>-1.627908</td>\n",
              "      <td>-0.537792</td>\n",
              "    </tr>\n",
              "  </tbody>\n",
              "</table>\n",
              "</div>\n",
              "    <div class=\"colab-df-buttons\">\n",
              "\n",
              "  <div class=\"colab-df-container\">\n",
              "    <button class=\"colab-df-convert\" onclick=\"convertToInteractive('df-2952b4fd-eca9-4c9e-bef3-12611e208c73')\"\n",
              "            title=\"Convert this dataframe to an interactive table.\"\n",
              "            style=\"display:none;\">\n",
              "\n",
              "  <svg xmlns=\"http://www.w3.org/2000/svg\" height=\"24px\" viewBox=\"0 -960 960 960\">\n",
              "    <path d=\"M120-120v-720h720v720H120Zm60-500h600v-160H180v160Zm220 220h160v-160H400v160Zm0 220h160v-160H400v160ZM180-400h160v-160H180v160Zm440 0h160v-160H620v160ZM180-180h160v-160H180v160Zm440 0h160v-160H620v160Z\"/>\n",
              "  </svg>\n",
              "    </button>\n",
              "\n",
              "  <style>\n",
              "    .colab-df-container {\n",
              "      display:flex;\n",
              "      gap: 12px;\n",
              "    }\n",
              "\n",
              "    .colab-df-convert {\n",
              "      background-color: #E8F0FE;\n",
              "      border: none;\n",
              "      border-radius: 50%;\n",
              "      cursor: pointer;\n",
              "      display: none;\n",
              "      fill: #1967D2;\n",
              "      height: 32px;\n",
              "      padding: 0 0 0 0;\n",
              "      width: 32px;\n",
              "    }\n",
              "\n",
              "    .colab-df-convert:hover {\n",
              "      background-color: #E2EBFA;\n",
              "      box-shadow: 0px 1px 2px rgba(60, 64, 67, 0.3), 0px 1px 3px 1px rgba(60, 64, 67, 0.15);\n",
              "      fill: #174EA6;\n",
              "    }\n",
              "\n",
              "    .colab-df-buttons div {\n",
              "      margin-bottom: 4px;\n",
              "    }\n",
              "\n",
              "    [theme=dark] .colab-df-convert {\n",
              "      background-color: #3B4455;\n",
              "      fill: #D2E3FC;\n",
              "    }\n",
              "\n",
              "    [theme=dark] .colab-df-convert:hover {\n",
              "      background-color: #434B5C;\n",
              "      box-shadow: 0px 1px 3px 1px rgba(0, 0, 0, 0.15);\n",
              "      filter: drop-shadow(0px 1px 2px rgba(0, 0, 0, 0.3));\n",
              "      fill: #FFFFFF;\n",
              "    }\n",
              "  </style>\n",
              "\n",
              "    <script>\n",
              "      const buttonEl =\n",
              "        document.querySelector('#df-2952b4fd-eca9-4c9e-bef3-12611e208c73 button.colab-df-convert');\n",
              "      buttonEl.style.display =\n",
              "        google.colab.kernel.accessAllowed ? 'block' : 'none';\n",
              "\n",
              "      async function convertToInteractive(key) {\n",
              "        const element = document.querySelector('#df-2952b4fd-eca9-4c9e-bef3-12611e208c73');\n",
              "        const dataTable =\n",
              "          await google.colab.kernel.invokeFunction('convertToInteractive',\n",
              "                                                    [key], {});\n",
              "        if (!dataTable) return;\n",
              "\n",
              "        const docLinkHtml = 'Like what you see? Visit the ' +\n",
              "          '<a target=\"_blank\" href=https://colab.research.google.com/notebooks/data_table.ipynb>data table notebook</a>'\n",
              "          + ' to learn more about interactive tables.';\n",
              "        element.innerHTML = '';\n",
              "        dataTable['output_type'] = 'display_data';\n",
              "        await google.colab.output.renderOutput(dataTable, element);\n",
              "        const docLink = document.createElement('div');\n",
              "        docLink.innerHTML = docLinkHtml;\n",
              "        element.appendChild(docLink);\n",
              "      }\n",
              "    </script>\n",
              "  </div>\n",
              "\n",
              "\n",
              "<div id=\"df-1accc91e-3a37-4fcb-9be1-6a1adada2014\">\n",
              "  <button class=\"colab-df-quickchart\" onclick=\"quickchart('df-1accc91e-3a37-4fcb-9be1-6a1adada2014')\"\n",
              "            title=\"Suggest charts\"\n",
              "            style=\"display:none;\">\n",
              "\n",
              "<svg xmlns=\"http://www.w3.org/2000/svg\" height=\"24px\"viewBox=\"0 0 24 24\"\n",
              "     width=\"24px\">\n",
              "    <g>\n",
              "        <path d=\"M19 3H5c-1.1 0-2 .9-2 2v14c0 1.1.9 2 2 2h14c1.1 0 2-.9 2-2V5c0-1.1-.9-2-2-2zM9 17H7v-7h2v7zm4 0h-2V7h2v10zm4 0h-2v-4h2v4z\"/>\n",
              "    </g>\n",
              "</svg>\n",
              "  </button>\n",
              "\n",
              "<style>\n",
              "  .colab-df-quickchart {\n",
              "      --bg-color: #E8F0FE;\n",
              "      --fill-color: #1967D2;\n",
              "      --hover-bg-color: #E2EBFA;\n",
              "      --hover-fill-color: #174EA6;\n",
              "      --disabled-fill-color: #AAA;\n",
              "      --disabled-bg-color: #DDD;\n",
              "  }\n",
              "\n",
              "  [theme=dark] .colab-df-quickchart {\n",
              "      --bg-color: #3B4455;\n",
              "      --fill-color: #D2E3FC;\n",
              "      --hover-bg-color: #434B5C;\n",
              "      --hover-fill-color: #FFFFFF;\n",
              "      --disabled-bg-color: #3B4455;\n",
              "      --disabled-fill-color: #666;\n",
              "  }\n",
              "\n",
              "  .colab-df-quickchart {\n",
              "    background-color: var(--bg-color);\n",
              "    border: none;\n",
              "    border-radius: 50%;\n",
              "    cursor: pointer;\n",
              "    display: none;\n",
              "    fill: var(--fill-color);\n",
              "    height: 32px;\n",
              "    padding: 0;\n",
              "    width: 32px;\n",
              "  }\n",
              "\n",
              "  .colab-df-quickchart:hover {\n",
              "    background-color: var(--hover-bg-color);\n",
              "    box-shadow: 0 1px 2px rgba(60, 64, 67, 0.3), 0 1px 3px 1px rgba(60, 64, 67, 0.15);\n",
              "    fill: var(--button-hover-fill-color);\n",
              "  }\n",
              "\n",
              "  .colab-df-quickchart-complete:disabled,\n",
              "  .colab-df-quickchart-complete:disabled:hover {\n",
              "    background-color: var(--disabled-bg-color);\n",
              "    fill: var(--disabled-fill-color);\n",
              "    box-shadow: none;\n",
              "  }\n",
              "\n",
              "  .colab-df-spinner {\n",
              "    border: 2px solid var(--fill-color);\n",
              "    border-color: transparent;\n",
              "    border-bottom-color: var(--fill-color);\n",
              "    animation:\n",
              "      spin 1s steps(1) infinite;\n",
              "  }\n",
              "\n",
              "  @keyframes spin {\n",
              "    0% {\n",
              "      border-color: transparent;\n",
              "      border-bottom-color: var(--fill-color);\n",
              "      border-left-color: var(--fill-color);\n",
              "    }\n",
              "    20% {\n",
              "      border-color: transparent;\n",
              "      border-left-color: var(--fill-color);\n",
              "      border-top-color: var(--fill-color);\n",
              "    }\n",
              "    30% {\n",
              "      border-color: transparent;\n",
              "      border-left-color: var(--fill-color);\n",
              "      border-top-color: var(--fill-color);\n",
              "      border-right-color: var(--fill-color);\n",
              "    }\n",
              "    40% {\n",
              "      border-color: transparent;\n",
              "      border-right-color: var(--fill-color);\n",
              "      border-top-color: var(--fill-color);\n",
              "    }\n",
              "    60% {\n",
              "      border-color: transparent;\n",
              "      border-right-color: var(--fill-color);\n",
              "    }\n",
              "    80% {\n",
              "      border-color: transparent;\n",
              "      border-right-color: var(--fill-color);\n",
              "      border-bottom-color: var(--fill-color);\n",
              "    }\n",
              "    90% {\n",
              "      border-color: transparent;\n",
              "      border-bottom-color: var(--fill-color);\n",
              "    }\n",
              "  }\n",
              "</style>\n",
              "\n",
              "  <script>\n",
              "    async function quickchart(key) {\n",
              "      const quickchartButtonEl =\n",
              "        document.querySelector('#' + key + ' button');\n",
              "      quickchartButtonEl.disabled = true;  // To prevent multiple clicks.\n",
              "      quickchartButtonEl.classList.add('colab-df-spinner');\n",
              "      try {\n",
              "        const charts = await google.colab.kernel.invokeFunction(\n",
              "            'suggestCharts', [key], {});\n",
              "      } catch (error) {\n",
              "        console.error('Error during call to suggestCharts:', error);\n",
              "      }\n",
              "      quickchartButtonEl.classList.remove('colab-df-spinner');\n",
              "      quickchartButtonEl.classList.add('colab-df-quickchart-complete');\n",
              "    }\n",
              "    (() => {\n",
              "      let quickchartButtonEl =\n",
              "        document.querySelector('#df-1accc91e-3a37-4fcb-9be1-6a1adada2014 button');\n",
              "      quickchartButtonEl.style.display =\n",
              "        google.colab.kernel.accessAllowed ? 'block' : 'none';\n",
              "    })();\n",
              "  </script>\n",
              "</div>\n",
              "    </div>\n",
              "  </div>\n"
            ],
            "application/vnd.google.colaboratory.intrinsic+json": {
              "type": "dataframe",
              "variable_name": "df_plot",
              "summary": "{\n  \"name\": \"df_plot\",\n  \"rows\": 53943,\n  \"fields\": [\n    {\n      \"column\": \"PC1\",\n      \"properties\": {\n        \"dtype\": \"number\",\n        \"std\": 2.021016958221317,\n        \"min\": -7.322848024143906,\n        \"max\": 27.962202088052585,\n        \"num_unique_values\": 53596,\n        \"samples\": [\n          3.161050342597798,\n          2.5124610826652667,\n          -2.3205810237646327\n        ],\n        \"semantic_type\": \"\",\n        \"description\": \"\"\n      }\n    },\n    {\n      \"column\": \"PC2\",\n      \"properties\": {\n        \"dtype\": \"number\",\n        \"std\": 1.168396474673162,\n        \"min\": -5.6669719167306045,\n        \"max\": 13.499741615177431,\n        \"num_unique_values\": 53596,\n        \"samples\": [\n          0.6343632006504191,\n          -1.570223836279607,\n          0.8912489820566258\n        ],\n        \"semantic_type\": \"\",\n        \"description\": \"\"\n      }\n    },\n    {\n      \"column\": \"PC3\",\n      \"properties\": {\n        \"dtype\": \"number\",\n        \"std\": 1.0835127625298753,\n        \"min\": -10.165693109897328,\n        \"max\": 10.762170094203338,\n        \"num_unique_values\": 53596,\n        \"samples\": [\n          -1.0447385367842081,\n          0.6068135191221956,\n          -0.13713192832175558\n        ],\n        \"semantic_type\": \"\",\n        \"description\": \"\"\n      }\n    },\n    {\n      \"column\": \"PC4\",\n      \"properties\": {\n        \"dtype\": \"number\",\n        \"std\": 0.9964300403629573,\n        \"min\": -1.7967674549128336,\n        \"max\": 1.822401103883438,\n        \"num_unique_values\": 53596,\n        \"samples\": [\n          0.15408809760316344,\n          0.8843797801461714,\n          -0.10463052883070217\n        ],\n        \"semantic_type\": \"\",\n        \"description\": \"\"\n      }\n    }\n  ]\n}"
            }
          },
          "metadata": {},
          "execution_count": 50
        }
      ]
    },
    {
      "cell_type": "code",
      "source": [
        "df_plot.corr()"
      ],
      "metadata": {
        "colab": {
          "base_uri": "https://localhost:8080/",
          "height": 175
        },
        "id": "I2OSYVo_JumL",
        "outputId": "cfc21688-e22f-4b12-c986-3a523a73178c"
      },
      "execution_count": 51,
      "outputs": [
        {
          "output_type": "execute_result",
          "data": {
            "text/plain": [
              "              PC1           PC2           PC3           PC4\n",
              "PC1  1.000000e+00 -4.319556e-16  4.602907e-16 -9.918992e-17\n",
              "PC2 -4.319556e-16  1.000000e+00  2.077282e-16 -4.621450e-16\n",
              "PC3  4.602907e-16  2.077282e-16  1.000000e+00  4.717746e-16\n",
              "PC4 -9.918992e-17 -4.621450e-16  4.717746e-16  1.000000e+00"
            ],
            "text/html": [
              "\n",
              "  <div id=\"df-d5dff85c-92a9-4229-af3d-d67f98a7f028\" class=\"colab-df-container\">\n",
              "    <div>\n",
              "<style scoped>\n",
              "    .dataframe tbody tr th:only-of-type {\n",
              "        vertical-align: middle;\n",
              "    }\n",
              "\n",
              "    .dataframe tbody tr th {\n",
              "        vertical-align: top;\n",
              "    }\n",
              "\n",
              "    .dataframe thead th {\n",
              "        text-align: right;\n",
              "    }\n",
              "</style>\n",
              "<table border=\"1\" class=\"dataframe\">\n",
              "  <thead>\n",
              "    <tr style=\"text-align: right;\">\n",
              "      <th></th>\n",
              "      <th>PC1</th>\n",
              "      <th>PC2</th>\n",
              "      <th>PC3</th>\n",
              "      <th>PC4</th>\n",
              "    </tr>\n",
              "  </thead>\n",
              "  <tbody>\n",
              "    <tr>\n",
              "      <th>PC1</th>\n",
              "      <td>1.000000e+00</td>\n",
              "      <td>-4.319556e-16</td>\n",
              "      <td>4.602907e-16</td>\n",
              "      <td>-9.918992e-17</td>\n",
              "    </tr>\n",
              "    <tr>\n",
              "      <th>PC2</th>\n",
              "      <td>-4.319556e-16</td>\n",
              "      <td>1.000000e+00</td>\n",
              "      <td>2.077282e-16</td>\n",
              "      <td>-4.621450e-16</td>\n",
              "    </tr>\n",
              "    <tr>\n",
              "      <th>PC3</th>\n",
              "      <td>4.602907e-16</td>\n",
              "      <td>2.077282e-16</td>\n",
              "      <td>1.000000e+00</td>\n",
              "      <td>4.717746e-16</td>\n",
              "    </tr>\n",
              "    <tr>\n",
              "      <th>PC4</th>\n",
              "      <td>-9.918992e-17</td>\n",
              "      <td>-4.621450e-16</td>\n",
              "      <td>4.717746e-16</td>\n",
              "      <td>1.000000e+00</td>\n",
              "    </tr>\n",
              "  </tbody>\n",
              "</table>\n",
              "</div>\n",
              "    <div class=\"colab-df-buttons\">\n",
              "\n",
              "  <div class=\"colab-df-container\">\n",
              "    <button class=\"colab-df-convert\" onclick=\"convertToInteractive('df-d5dff85c-92a9-4229-af3d-d67f98a7f028')\"\n",
              "            title=\"Convert this dataframe to an interactive table.\"\n",
              "            style=\"display:none;\">\n",
              "\n",
              "  <svg xmlns=\"http://www.w3.org/2000/svg\" height=\"24px\" viewBox=\"0 -960 960 960\">\n",
              "    <path d=\"M120-120v-720h720v720H120Zm60-500h600v-160H180v160Zm220 220h160v-160H400v160Zm0 220h160v-160H400v160ZM180-400h160v-160H180v160Zm440 0h160v-160H620v160ZM180-180h160v-160H180v160Zm440 0h160v-160H620v160Z\"/>\n",
              "  </svg>\n",
              "    </button>\n",
              "\n",
              "  <style>\n",
              "    .colab-df-container {\n",
              "      display:flex;\n",
              "      gap: 12px;\n",
              "    }\n",
              "\n",
              "    .colab-df-convert {\n",
              "      background-color: #E8F0FE;\n",
              "      border: none;\n",
              "      border-radius: 50%;\n",
              "      cursor: pointer;\n",
              "      display: none;\n",
              "      fill: #1967D2;\n",
              "      height: 32px;\n",
              "      padding: 0 0 0 0;\n",
              "      width: 32px;\n",
              "    }\n",
              "\n",
              "    .colab-df-convert:hover {\n",
              "      background-color: #E2EBFA;\n",
              "      box-shadow: 0px 1px 2px rgba(60, 64, 67, 0.3), 0px 1px 3px 1px rgba(60, 64, 67, 0.15);\n",
              "      fill: #174EA6;\n",
              "    }\n",
              "\n",
              "    .colab-df-buttons div {\n",
              "      margin-bottom: 4px;\n",
              "    }\n",
              "\n",
              "    [theme=dark] .colab-df-convert {\n",
              "      background-color: #3B4455;\n",
              "      fill: #D2E3FC;\n",
              "    }\n",
              "\n",
              "    [theme=dark] .colab-df-convert:hover {\n",
              "      background-color: #434B5C;\n",
              "      box-shadow: 0px 1px 3px 1px rgba(0, 0, 0, 0.15);\n",
              "      filter: drop-shadow(0px 1px 2px rgba(0, 0, 0, 0.3));\n",
              "      fill: #FFFFFF;\n",
              "    }\n",
              "  </style>\n",
              "\n",
              "    <script>\n",
              "      const buttonEl =\n",
              "        document.querySelector('#df-d5dff85c-92a9-4229-af3d-d67f98a7f028 button.colab-df-convert');\n",
              "      buttonEl.style.display =\n",
              "        google.colab.kernel.accessAllowed ? 'block' : 'none';\n",
              "\n",
              "      async function convertToInteractive(key) {\n",
              "        const element = document.querySelector('#df-d5dff85c-92a9-4229-af3d-d67f98a7f028');\n",
              "        const dataTable =\n",
              "          await google.colab.kernel.invokeFunction('convertToInteractive',\n",
              "                                                    [key], {});\n",
              "        if (!dataTable) return;\n",
              "\n",
              "        const docLinkHtml = 'Like what you see? Visit the ' +\n",
              "          '<a target=\"_blank\" href=https://colab.research.google.com/notebooks/data_table.ipynb>data table notebook</a>'\n",
              "          + ' to learn more about interactive tables.';\n",
              "        element.innerHTML = '';\n",
              "        dataTable['output_type'] = 'display_data';\n",
              "        await google.colab.output.renderOutput(dataTable, element);\n",
              "        const docLink = document.createElement('div');\n",
              "        docLink.innerHTML = docLinkHtml;\n",
              "        element.appendChild(docLink);\n",
              "      }\n",
              "    </script>\n",
              "  </div>\n",
              "\n",
              "\n",
              "<div id=\"df-df2d42fe-d21a-4472-87ff-087ba582d0a3\">\n",
              "  <button class=\"colab-df-quickchart\" onclick=\"quickchart('df-df2d42fe-d21a-4472-87ff-087ba582d0a3')\"\n",
              "            title=\"Suggest charts\"\n",
              "            style=\"display:none;\">\n",
              "\n",
              "<svg xmlns=\"http://www.w3.org/2000/svg\" height=\"24px\"viewBox=\"0 0 24 24\"\n",
              "     width=\"24px\">\n",
              "    <g>\n",
              "        <path d=\"M19 3H5c-1.1 0-2 .9-2 2v14c0 1.1.9 2 2 2h14c1.1 0 2-.9 2-2V5c0-1.1-.9-2-2-2zM9 17H7v-7h2v7zm4 0h-2V7h2v10zm4 0h-2v-4h2v4z\"/>\n",
              "    </g>\n",
              "</svg>\n",
              "  </button>\n",
              "\n",
              "<style>\n",
              "  .colab-df-quickchart {\n",
              "      --bg-color: #E8F0FE;\n",
              "      --fill-color: #1967D2;\n",
              "      --hover-bg-color: #E2EBFA;\n",
              "      --hover-fill-color: #174EA6;\n",
              "      --disabled-fill-color: #AAA;\n",
              "      --disabled-bg-color: #DDD;\n",
              "  }\n",
              "\n",
              "  [theme=dark] .colab-df-quickchart {\n",
              "      --bg-color: #3B4455;\n",
              "      --fill-color: #D2E3FC;\n",
              "      --hover-bg-color: #434B5C;\n",
              "      --hover-fill-color: #FFFFFF;\n",
              "      --disabled-bg-color: #3B4455;\n",
              "      --disabled-fill-color: #666;\n",
              "  }\n",
              "\n",
              "  .colab-df-quickchart {\n",
              "    background-color: var(--bg-color);\n",
              "    border: none;\n",
              "    border-radius: 50%;\n",
              "    cursor: pointer;\n",
              "    display: none;\n",
              "    fill: var(--fill-color);\n",
              "    height: 32px;\n",
              "    padding: 0;\n",
              "    width: 32px;\n",
              "  }\n",
              "\n",
              "  .colab-df-quickchart:hover {\n",
              "    background-color: var(--hover-bg-color);\n",
              "    box-shadow: 0 1px 2px rgba(60, 64, 67, 0.3), 0 1px 3px 1px rgba(60, 64, 67, 0.15);\n",
              "    fill: var(--button-hover-fill-color);\n",
              "  }\n",
              "\n",
              "  .colab-df-quickchart-complete:disabled,\n",
              "  .colab-df-quickchart-complete:disabled:hover {\n",
              "    background-color: var(--disabled-bg-color);\n",
              "    fill: var(--disabled-fill-color);\n",
              "    box-shadow: none;\n",
              "  }\n",
              "\n",
              "  .colab-df-spinner {\n",
              "    border: 2px solid var(--fill-color);\n",
              "    border-color: transparent;\n",
              "    border-bottom-color: var(--fill-color);\n",
              "    animation:\n",
              "      spin 1s steps(1) infinite;\n",
              "  }\n",
              "\n",
              "  @keyframes spin {\n",
              "    0% {\n",
              "      border-color: transparent;\n",
              "      border-bottom-color: var(--fill-color);\n",
              "      border-left-color: var(--fill-color);\n",
              "    }\n",
              "    20% {\n",
              "      border-color: transparent;\n",
              "      border-left-color: var(--fill-color);\n",
              "      border-top-color: var(--fill-color);\n",
              "    }\n",
              "    30% {\n",
              "      border-color: transparent;\n",
              "      border-left-color: var(--fill-color);\n",
              "      border-top-color: var(--fill-color);\n",
              "      border-right-color: var(--fill-color);\n",
              "    }\n",
              "    40% {\n",
              "      border-color: transparent;\n",
              "      border-right-color: var(--fill-color);\n",
              "      border-top-color: var(--fill-color);\n",
              "    }\n",
              "    60% {\n",
              "      border-color: transparent;\n",
              "      border-right-color: var(--fill-color);\n",
              "    }\n",
              "    80% {\n",
              "      border-color: transparent;\n",
              "      border-right-color: var(--fill-color);\n",
              "      border-bottom-color: var(--fill-color);\n",
              "    }\n",
              "    90% {\n",
              "      border-color: transparent;\n",
              "      border-bottom-color: var(--fill-color);\n",
              "    }\n",
              "  }\n",
              "</style>\n",
              "\n",
              "  <script>\n",
              "    async function quickchart(key) {\n",
              "      const quickchartButtonEl =\n",
              "        document.querySelector('#' + key + ' button');\n",
              "      quickchartButtonEl.disabled = true;  // To prevent multiple clicks.\n",
              "      quickchartButtonEl.classList.add('colab-df-spinner');\n",
              "      try {\n",
              "        const charts = await google.colab.kernel.invokeFunction(\n",
              "            'suggestCharts', [key], {});\n",
              "      } catch (error) {\n",
              "        console.error('Error during call to suggestCharts:', error);\n",
              "      }\n",
              "      quickchartButtonEl.classList.remove('colab-df-spinner');\n",
              "      quickchartButtonEl.classList.add('colab-df-quickchart-complete');\n",
              "    }\n",
              "    (() => {\n",
              "      let quickchartButtonEl =\n",
              "        document.querySelector('#df-df2d42fe-d21a-4472-87ff-087ba582d0a3 button');\n",
              "      quickchartButtonEl.style.display =\n",
              "        google.colab.kernel.accessAllowed ? 'block' : 'none';\n",
              "    })();\n",
              "  </script>\n",
              "</div>\n",
              "    </div>\n",
              "  </div>\n"
            ],
            "application/vnd.google.colaboratory.intrinsic+json": {
              "type": "dataframe",
              "summary": "{\n  \"name\": \"df_plot\",\n  \"rows\": 4,\n  \"fields\": [\n    {\n      \"column\": \"PC1\",\n      \"properties\": {\n        \"dtype\": \"number\",\n        \"std\": 0.5,\n        \"min\": -4.319555527895394e-16,\n        \"max\": 1.0,\n        \"num_unique_values\": 4,\n        \"samples\": [\n          -4.319555527895394e-16,\n          -9.918992198189768e-17,\n          1.0\n        ],\n        \"semantic_type\": \"\",\n        \"description\": \"\"\n      }\n    },\n    {\n      \"column\": \"PC2\",\n      \"properties\": {\n        \"dtype\": \"number\",\n        \"std\": 0.5000000000000001,\n        \"min\": -4.621450440624009e-16,\n        \"max\": 1.0,\n        \"num_unique_values\": 4,\n        \"samples\": [\n          1.0,\n          -4.621450440624009e-16,\n          -4.319555527895394e-16\n        ],\n        \"semantic_type\": \"\",\n        \"description\": \"\"\n      }\n    },\n    {\n      \"column\": \"PC3\",\n      \"properties\": {\n        \"dtype\": \"number\",\n        \"std\": 0.4999999999999998,\n        \"min\": 2.077282003213052e-16,\n        \"max\": 1.0,\n        \"num_unique_values\": 4,\n        \"samples\": [\n          2.077282003213052e-16,\n          4.717745968171273e-16,\n          4.602907276991637e-16\n        ],\n        \"semantic_type\": \"\",\n        \"description\": \"\"\n      }\n    },\n    {\n      \"column\": \"PC4\",\n      \"properties\": {\n        \"dtype\": \"number\",\n        \"std\": 0.5,\n        \"min\": -4.621450440624009e-16,\n        \"max\": 1.0,\n        \"num_unique_values\": 4,\n        \"samples\": [\n          -4.621450440624009e-16,\n          1.0,\n          -9.918992198189768e-17\n        ],\n        \"semantic_type\": \"\",\n        \"description\": \"\"\n      }\n    }\n  ]\n}"
            }
          },
          "metadata": {},
          "execution_count": 51
        }
      ]
    },
    {
      "cell_type": "markdown",
      "source": [
        "CALCULAMOS EL N° OPTIMO DE CLUSTERS"
      ],
      "metadata": {
        "id": "fyxuhW7veJX4"
      }
    },
    {
      "cell_type": "code",
      "source": [
        "from sklearn.metrics import silhouette_score\n",
        "\n",
        "silhouette_scores = []\n",
        "for n_clusters in range(2, 11):  # Probamos desde 2 hasta 10 clusters\n",
        "    kmeans = KMeans(n_clusters=n_clusters, random_state=42)\n",
        "    cluster_labels = kmeans.fit_predict(df_plot)\n",
        "    silhouette_avg = silhouette_score(df_plot, cluster_labels)\n",
        "    silhouette_scores.append(silhouette_avg)\n",
        "\n",
        "import matplotlib.pyplot as plt\n",
        "\n",
        "plt.plot(range(2, 11), silhouette_scores, marker='o')\n",
        "plt.xlabel('Número de Clusters')\n",
        "plt.ylabel('Puntaje de Silueta')\n",
        "plt.title('Puntaje de Silueta para Número de Clusters')\n",
        "plt.show()\n"
      ],
      "metadata": {
        "colab": {
          "base_uri": "https://localhost:8080/",
          "height": 804
        },
        "id": "yru7QUuBvj-6",
        "outputId": "8365ab10-ebf0-4493-f2c9-c95c77b138ef"
      },
      "execution_count": 52,
      "outputs": [
        {
          "output_type": "stream",
          "name": "stderr",
          "text": [
            "/usr/local/lib/python3.10/dist-packages/sklearn/cluster/_kmeans.py:870: FutureWarning: The default value of `n_init` will change from 10 to 'auto' in 1.4. Set the value of `n_init` explicitly to suppress the warning\n",
            "  warnings.warn(\n",
            "/usr/local/lib/python3.10/dist-packages/sklearn/cluster/_kmeans.py:870: FutureWarning: The default value of `n_init` will change from 10 to 'auto' in 1.4. Set the value of `n_init` explicitly to suppress the warning\n",
            "  warnings.warn(\n",
            "/usr/local/lib/python3.10/dist-packages/sklearn/cluster/_kmeans.py:870: FutureWarning: The default value of `n_init` will change from 10 to 'auto' in 1.4. Set the value of `n_init` explicitly to suppress the warning\n",
            "  warnings.warn(\n",
            "/usr/local/lib/python3.10/dist-packages/sklearn/cluster/_kmeans.py:870: FutureWarning: The default value of `n_init` will change from 10 to 'auto' in 1.4. Set the value of `n_init` explicitly to suppress the warning\n",
            "  warnings.warn(\n",
            "/usr/local/lib/python3.10/dist-packages/sklearn/cluster/_kmeans.py:870: FutureWarning: The default value of `n_init` will change from 10 to 'auto' in 1.4. Set the value of `n_init` explicitly to suppress the warning\n",
            "  warnings.warn(\n",
            "/usr/local/lib/python3.10/dist-packages/sklearn/cluster/_kmeans.py:870: FutureWarning: The default value of `n_init` will change from 10 to 'auto' in 1.4. Set the value of `n_init` explicitly to suppress the warning\n",
            "  warnings.warn(\n",
            "/usr/local/lib/python3.10/dist-packages/sklearn/cluster/_kmeans.py:870: FutureWarning: The default value of `n_init` will change from 10 to 'auto' in 1.4. Set the value of `n_init` explicitly to suppress the warning\n",
            "  warnings.warn(\n",
            "/usr/local/lib/python3.10/dist-packages/sklearn/cluster/_kmeans.py:870: FutureWarning: The default value of `n_init` will change from 10 to 'auto' in 1.4. Set the value of `n_init` explicitly to suppress the warning\n",
            "  warnings.warn(\n",
            "/usr/local/lib/python3.10/dist-packages/sklearn/cluster/_kmeans.py:870: FutureWarning: The default value of `n_init` will change from 10 to 'auto' in 1.4. Set the value of `n_init` explicitly to suppress the warning\n",
            "  warnings.warn(\n"
          ]
        },
        {
          "output_type": "display_data",
          "data": {
            "text/plain": [
              "<Figure size 640x480 with 1 Axes>"
            ],
            "image/png": "[encoded data removed]"
          },
          "metadata": {}
        }
      ]
    },
    {
      "cell_type": "code",
      "source": [
        "from sklearn.cluster import KMeans\n",
        "from sklearn.metrics import silhouette_samples, silhouette_score\n",
        "import matplotlib.pyplot as plt\n",
        "import numpy as np\n",
        "import matplotlib as mpl\n",
        "from matplotlib.ticker import FixedLocator, FixedFormatter\n",
        "\n",
        "# Asumimos que df_plot es el DataFrame con los datos\n",
        "X = df_plot.values\n",
        "\n",
        "# Ajustar modelos K-means para diferentes valores de k\n",
        "kmeans_models = []\n",
        "for n_clusters in range(2, 11):\n",
        "    kmeans = KMeans(n_clusters=n_clusters, random_state=42)\n",
        "    kmeans.fit(X)\n",
        "    kmeans_models.append(kmeans)\n",
        "\n",
        "# Calcular los puntajes de silueta para cada k\n",
        "silhouette_scores = [silhouette_score(X, model.labels_) for model in kmeans_models]\n",
        "\n",
        "# Visualización detallada de los coeficientes de silueta\n",
        "plt.figure(figsize=(11, 9))\n",
        "\n",
        "for idx, k in enumerate((3, 4, 5, 6), start=1):\n",
        "    plt.subplot(2, 2, idx)\n",
        "\n",
        "    y_pred = kmeans_models[k - 2].labels_\n",
        "    silhouette_coefficients = silhouette_samples(X, y_pred)\n",
        "\n",
        "    padding = len(X) // 30\n",
        "    pos = padding\n",
        "    ticks = []\n",
        "    for i in range(k):\n",
        "        coeffs = silhouette_coefficients[y_pred == i]\n",
        "        coeffs.sort()\n",
        "\n",
        "        color = mpl.cm.Spectral(i / k)\n",
        "        plt.fill_betweenx(np.arange(pos, pos + len(coeffs)), 0, coeffs,\n",
        "                          facecolor=color, edgecolor=color, alpha=0.7)\n",
        "        ticks.append(pos + len(coeffs) // 2)\n",
        "        pos += len(coeffs) + padding\n",
        "\n",
        "    plt.gca().yaxis.set_major_locator(FixedLocator(ticks))\n",
        "    plt.gca().yaxis.set_major_formatter(FixedFormatter(range(k)))\n",
        "    if k in (3, 5):\n",
        "        plt.ylabel(\"Cluster\")\n",
        "\n",
        "    if k in (5, 6):\n",
        "        plt.gca().set_xticks([-0.1, 0, 0.2, 0.4, 0.6, 0.8, 1])\n",
        "        plt.xlabel(\"Silhouette Coefficient\")\n",
        "    else:\n",
        "        plt.tick_params(labelbottom=False)\n",
        "\n",
        "    plt.axvline(x=silhouette_scores[k - 2], color=\"red\", linestyle=\"--\")\n",
        "    plt.title(\"$k={}$\".format(k), fontsize=16)\n",
        "\n",
        "plt.tight_layout()\n",
        "plt.show()\n"
      ],
      "metadata": {
        "colab": {
          "base_uri": "https://localhost:8080/",
          "height": 1000
        },
        "id": "qPRUocQ0NQER",
        "outputId": "9c4343d0-d1b9-4dca-9af2-3be576681b48"
      },
      "execution_count": 53,
      "outputs": [
        {
          "output_type": "stream",
          "name": "stderr",
          "text": [
            "/usr/local/lib/python3.10/dist-packages/sklearn/cluster/_kmeans.py:870: FutureWarning: The default value of `n_init` will change from 10 to 'auto' in 1.4. Set the value of `n_init` explicitly to suppress the warning\n",
            "  warnings.warn(\n",
            "/usr/local/lib/python3.10/dist-packages/sklearn/cluster/_kmeans.py:870: FutureWarning: The default value of `n_init` will change from 10 to 'auto' in 1.4. Set the value of `n_init` explicitly to suppress the warning\n",
            "  warnings.warn(\n",
            "/usr/local/lib/python3.10/dist-packages/sklearn/cluster/_kmeans.py:870: FutureWarning: The default value of `n_init` will change from 10 to 'auto' in 1.4. Set the value of `n_init` explicitly to suppress the warning\n",
            "  warnings.warn(\n",
            "/usr/local/lib/python3.10/dist-packages/sklearn/cluster/_kmeans.py:870: FutureWarning: The default value of `n_init` will change from 10 to 'auto' in 1.4. Set the value of `n_init` explicitly to suppress the warning\n",
            "  warnings.warn(\n",
            "/usr/local/lib/python3.10/dist-packages/sklearn/cluster/_kmeans.py:870: FutureWarning: The default value of `n_init` will change from 10 to 'auto' in 1.4. Set the value of `n_init` explicitly to suppress the warning\n",
            "  warnings.warn(\n",
            "/usr/local/lib/python3.10/dist-packages/sklearn/cluster/_kmeans.py:870: FutureWarning: The default value of `n_init` will change from 10 to 'auto' in 1.4. Set the value of `n_init` explicitly to suppress the warning\n",
            "  warnings.warn(\n",
            "/usr/local/lib/python3.10/dist-packages/sklearn/cluster/_kmeans.py:870: FutureWarning: The default value of `n_init` will change from 10 to 'auto' in 1.4. Set the value of `n_init` explicitly to suppress the warning\n",
            "  warnings.warn(\n",
            "/usr/local/lib/python3.10/dist-packages/sklearn/cluster/_kmeans.py:870: FutureWarning: The default value of `n_init` will change from 10 to 'auto' in 1.4. Set the value of `n_init` explicitly to suppress the warning\n",
            "  warnings.warn(\n",
            "/usr/local/lib/python3.10/dist-packages/sklearn/cluster/_kmeans.py:870: FutureWarning: The default value of `n_init` will change from 10 to 'auto' in 1.4. Set the value of `n_init` explicitly to suppress the warning\n",
            "  warnings.warn(\n"
          ]
        },
        {
          "output_type": "display_data",
          "data": {
            "text/plain": [
              "<Figure size 1100x900 with 4 Axes>"
            ],
            "image/png": "[encoded data removed]"
          },
          "metadata": {}
        }
      ]
    },
    {
      "cell_type": "code",
      "source": [
        "from sklearn.metrics import silhouette_score\n",
        "silhouette_score(X, kmeans.labels_)\n"
      ],
      "metadata": {
        "colab": {
          "base_uri": "https://localhost:8080/"
        },
        "id": "oGXtX14TTmsA",
        "outputId": "6a0ec4e7-7b90-4e76-8c9e-8985f374188f"
      },
      "execution_count": 54,
      "outputs": [
        {
          "output_type": "execute_result",
          "data": {
            "text/plain": [
              "0.25011230989318084"
            ]
          },
          "metadata": {},
          "execution_count": 54
        }
      ]
    },
    {
      "cell_type": "code",
      "execution_count": 64,
      "metadata": {
        "id": "mm9Ad-3z7Aqt",
        "outputId": "cdc85e4d-f03e-494b-b721-e61be52f2d33",
        "colab": {
          "base_uri": "https://localhost:8080/"
        }
      },
      "outputs": [
        {
          "output_type": "stream",
          "name": "stderr",
          "text": [
            "/usr/local/lib/python3.10/dist-packages/sklearn/cluster/_kmeans.py:870: FutureWarning: The default value of `n_init` will change from 10 to 'auto' in 1.4. Set the value of `n_init` explicitly to suppress the warning\n",
            "  warnings.warn(\n"
          ]
        },
        {
          "output_type": "execute_result",
          "data": {
            "text/plain": [
              "array([[-1.56207262, -0.01606855,  0.02584261, -0.02719212],\n",
              "       [ 1.87568526,  0.01929459, -0.03103095,  0.0326514 ]])"
            ]
          },
          "metadata": {},
          "execution_count": 64
        }
      ],
      "source": [
        "from sklearn.cluster import KMeans\n",
        "\n",
        "k = 2\n",
        "kmeans = KMeans(n_clusters=k, random_state=42)\n",
        "y_pred = kmeans.fit_predict(df_plot)\n",
        "y_pred\n",
        "\n",
        "kmeans.cluster_centers_\n",
        "\n"
      ]
    }
  ]
}