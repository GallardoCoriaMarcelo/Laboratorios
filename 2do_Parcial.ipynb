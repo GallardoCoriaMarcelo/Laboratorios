{
  "nbformat": 4,
  "nbformat_minor": 0,
  "metadata": {
    "colab": {
      "provenance": [],
      "authorship_tag": "ABX9TyMC8mSBgaTILmdiYGMFtnwx",
      "include_colab_link": true
    },
    "kernelspec": {
      "name": "python3",
      "display_name": "Python 3"
    },
    "language_info": {
      "name": "python"
    }
  },
  "cells": [
    {
      "cell_type": "markdown",
      "metadata": {
        "id": "view-in-github",
        "colab_type": "text"
      },
      "source": [
        "<a href=\"https://colab.research.google.com/github/GallardoCoriaMarcelo/Laboratorios/blob/main/2do_Parcial.ipynb\" target=\"_parent\"><img src=\"https://colab.research.google.com/assets/colab-badge.svg\" alt=\"Open In Colab\"/></a>"
      ]
    },
    {
      "cell_type": "code",
      "execution_count": 1,
      "metadata": {
        "colab": {
          "base_uri": "https://localhost:8080/"
        },
        "id": "cGEAKKcFgizV",
        "outputId": "e3d56971-01d3-4361-830b-19966e4de470"
      },
      "outputs": [
        {
          "output_type": "stream",
          "name": "stdout",
          "text": [
            "Drive already mounted at /content/drive; to attempt to forcibly remount, call drive.mount(\"/content/drive\", force_remount=True).\n"
          ]
        }
      ],
      "source": [
        "from google.colab import drive\n",
        "drive.mount('/content/drive')"
      ]
    },
    {
      "cell_type": "code",
      "source": [
        "import pandas as pd\n",
        "\n",
        "# Cargar el conjunto de datos desde un archivo CSV\n",
        "data = pd.read_csv('/content/drive/MyDrive/Dataset_no_supervisado/2do_Parcial/panic_disorder_dataset_training.csv')"
      ],
      "metadata": {
        "id": "z5m22Xyqhzj9"
      },
      "execution_count": 2,
      "outputs": []
    },
    {
      "cell_type": "code",
      "source": [
        "import pandas as pd\n",
        "from sklearn.cluster import KMeans\n",
        "from sklearn.preprocessing import StandardScaler\n",
        "\n",
        "# Eliminar columnas no necesarias\n",
        "data = data.drop(['Participant ID', 'Panic Disorder Diagnosis'], axis=1)\n",
        "\n",
        "print(data.head())  # Muestra las primeras filas del DataFrame\n",
        "print(data.info())  # Muestra información sobre las columnas y tipos de datos\n",
        "print(data.describe())  # Proporciona estadísticas descriptivas de los datos numéricos"
      ],
      "metadata": {
        "colab": {
          "base_uri": "https://localhost:8080/"
        },
        "id": "MUuQqFt8iAk2",
        "outputId": "b1258f91-6876-4b54-8a6c-30ea873d3936"
      },
      "execution_count": 4,
      "outputs": [
        {
          "output_type": "stream",
          "name": "stdout",
          "text": [
            "   Age  Gender Family History Personal History Current Stressors  \\\n",
            "0   38    Male             No              Yes          Moderate   \n",
            "1   51    Male             No               No              High   \n",
            "2   32  Female            Yes               No              High   \n",
            "3   64  Female             No               No          Moderate   \n",
            "4   31    Male            Yes               No          Moderate   \n",
            "\n",
            "              Symptoms  Severity Impact on Life Demographics Medical History  \\\n",
            "0  Shortness of breath      Mild           Mild        Rural        Diabetes   \n",
            "1        Panic attacks      Mild           Mild        Urban          Asthma   \n",
            "2        Panic attacks      Mild    Significant        Urban        Diabetes   \n",
            "3           Chest pain  Moderate       Moderate        Rural        Diabetes   \n",
            "4        Panic attacks      Mild       Moderate        Rural          Asthma   \n",
            "\n",
            "   Psychiatric History Substance Use Coping Mechanisms Social Support  \\\n",
            "0     Bipolar disorder           NaN       Socializing           High   \n",
            "1     Anxiety disorder         Drugs          Exercise           High   \n",
            "2  Depressive disorder           NaN   Seeking therapy       Moderate   \n",
            "3                  NaN           NaN        Meditation           High   \n",
            "4                  NaN         Drugs   Seeking therapy            Low   \n",
            "\n",
            "  Lifestyle Factors  \n",
            "0     Sleep quality  \n",
            "1     Sleep quality  \n",
            "2          Exercise  \n",
            "3          Exercise  \n",
            "4     Sleep quality  \n",
            "<class 'pandas.core.frame.DataFrame'>\n",
            "RangeIndex: 100000 entries, 0 to 99999\n",
            "Data columns (total 15 columns):\n",
            " #   Column               Non-Null Count   Dtype \n",
            "---  ------               --------------   ----- \n",
            " 0   Age                  100000 non-null  int64 \n",
            " 1   Gender               100000 non-null  object\n",
            " 2   Family History       100000 non-null  object\n",
            " 3   Personal History     100000 non-null  object\n",
            " 4   Current Stressors    100000 non-null  object\n",
            " 5   Symptoms             100000 non-null  object\n",
            " 6   Severity             100000 non-null  object\n",
            " 7   Impact on Life       100000 non-null  object\n",
            " 8   Demographics         100000 non-null  object\n",
            " 9   Medical History      74827 non-null   object\n",
            " 10  Psychiatric History  75079 non-null   object\n",
            " 11  Substance Use        66626 non-null   object\n",
            " 12  Coping Mechanisms    100000 non-null  object\n",
            " 13  Social Support       100000 non-null  object\n",
            " 14  Lifestyle Factors    100000 non-null  object\n",
            "dtypes: int64(1), object(14)\n",
            "memory usage: 11.4+ MB\n",
            "None\n",
            "                 Age\n",
            "count  100000.000000\n",
            "mean       41.454300\n",
            "std        13.839204\n",
            "min        18.000000\n",
            "25%        29.000000\n",
            "50%        41.000000\n",
            "75%        53.000000\n",
            "max        65.000000\n"
          ]
        }
      ]
    },
    {
      "cell_type": "code",
      "source": [
        "# Obtener los valores únicos de las columnas \"cut\", \"color\" y \"clarity\"\n",
        "unique_Symptoms_values = data['Symptoms'].unique()\n",
        "unique_Impact_Life_values = data['Impact on Life'].unique()\n",
        "unique_Psychiatric_History_values = data['Psychiatric History'].unique()\n",
        "unique_Coping_Mechanisms_values = data['Coping Mechanisms'].unique()\n",
        "unique_Lifestyle_Factors_values = data['Lifestyle Factors'].unique()\n",
        "\n",
        "# Contar el número de valores únicos\n",
        "num_unique_Symptoms_values = len(unique_Symptoms_values)\n",
        "num_unique_Impact_Life_values = len(unique_Impact_Life_values)\n",
        "num_unique_Psychiatric_History_values = len(unique_Psychiatric_History_values)\n",
        "num_unique_Coping_Mechanisms_values = len(unique_Coping_Mechanisms_values)\n",
        "num_unique_Lifestyle_Factors_values = len(unique_Lifestyle_Factors_values)\n",
        "\n",
        "# Mostrar valores únicos en las columnas \"cut\", \"color\" y \"clarity\"\n",
        "print(f'Valores únicos en la columna \"Symptoms\": {unique_Symptoms_values}')\n",
        "print(f'Valores únicos en la columna \"Impact on Life\": {unique_Impact_Life_values}')\n",
        "print(f'Valores únicos en la columna \"Psychiatric History\": {unique_Psychiatric_History_values}')\n",
        "print(f'Valores únicos en la columna \"Impact on Life\": {unique_Coping_Mechanisms_values}')\n",
        "print(f'Valores únicos en la columna \"Psychiatric History\": {unique_Lifestyle_Factors_values}')\n",
        "\n",
        "print(f\"Número de valores únicos en 'Symptoms': {num_unique_Symptoms_values}\")\n",
        "print(f\"Número de valores únicos en 'Impact on Life': {num_unique_Impact_Life_values}\")\n",
        "print(f\"Número de valores únicos en 'Psychiatric History': {num_unique_Psychiatric_History_values}\")\n",
        "print(f\"Número de valores únicos en 'Impact on Life': {num_unique_Coping_Mechanisms_values}\")\n",
        "print(f\"Número de valores únicos en 'Psychiatric History': {num_unique_Lifestyle_Factors_values}\")"
      ],
      "metadata": {
        "colab": {
          "base_uri": "https://localhost:8080/"
        },
        "id": "OiERwE28iLHa",
        "outputId": "669be7ef-4ac1-480d-bcf7-9e392117af94"
      },
      "execution_count": 5,
      "outputs": [
        {
          "output_type": "stream",
          "name": "stdout",
          "text": [
            "Valores únicos en la columna \"Symptoms\": ['Shortness of breath' 'Panic attacks' 'Chest pain' 'Dizziness'\n",
            " 'Fear of losing control']\n",
            "Valores únicos en la columna \"Impact on Life\": ['Mild' 'Significant' 'Moderate']\n",
            "Valores únicos en la columna \"Psychiatric History\": ['Bipolar disorder' 'Anxiety disorder' 'Depressive disorder' nan]\n",
            "Valores únicos en la columna \"Impact on Life\": ['Socializing' 'Exercise' 'Seeking therapy' 'Meditation']\n",
            "Valores únicos en la columna \"Psychiatric History\": ['Sleep quality' 'Exercise' 'Diet']\n",
            "Número de valores únicos en 'Symptoms': 5\n",
            "Número de valores únicos en 'Impact on Life': 3\n",
            "Número de valores únicos en 'Psychiatric History': 4\n",
            "Número de valores únicos en 'Impact on Life': 4\n",
            "Número de valores únicos en 'Psychiatric History': 3\n"
          ]
        }
      ]
    },
    {
      "cell_type": "code",
      "source": [
        "from sklearn.preprocessing import LabelEncoder\n",
        "\n",
        "# Crear un codificador para cada columna\n",
        "le_symptoms = LabelEncoder()\n",
        "le_impact_life = LabelEncoder()\n",
        "le_psychiatric_history = LabelEncoder()\n",
        "le_Family_History = LabelEncoder()\n",
        "le_Personal_History = LabelEncoder()\n",
        "le_Current_Stressors = LabelEncoder()\n",
        "le_Gender = LabelEncoder()\n",
        "le_Severity = LabelEncoder()\n",
        "le_Demographics = LabelEncoder()\n",
        "le_Medical_History = LabelEncoder()\n",
        "le_Substance_Use = LabelEncoder()\n",
        "le_Coping_Mechanisms = LabelEncoder()\n",
        "le_Social_Support = LabelEncoder()\n",
        "le_Lifestyle_Factors = LabelEncoder()\n",
        "\n",
        "# Aplicar el codificador a las columnas\n",
        "data['Symptoms'] = le_symptoms.fit_transform(data['Symptoms'])\n",
        "data['Impact on Life'] = le_impact_life.fit_transform(data['Impact on Life'])\n",
        "data['Psychiatric History'] = le_psychiatric_history.fit_transform(data['Psychiatric History'].fillna('Unknown'))\n",
        "data['Family History'] = le_Family_History.fit_transform(data['Family History'])\n",
        "data['Personal History'] = le_Personal_History.fit_transform(data['Personal History'])\n",
        "data['Current Stressors'] = le_Current_Stressors.fit_transform(data['Current Stressors'])\n",
        "data['Gender'] = le_Gender.fit_transform(data['Gender'])\n",
        "data['Severity'] = le_Severity.fit_transform(data['Severity'])\n",
        "data['Demographics'] = le_Demographics.fit_transform(data['Demographics'])\n",
        "data['Medical History'] = le_Medical_History.fit_transform(data['Medical History'])\n",
        "data['Substance Use'] = le_Substance_Use.fit_transform(data['Substance Use'])\n",
        "data['Coping Mechanisms'] = le_Coping_Mechanisms.fit_transform(data['Coping Mechanisms'])\n",
        "data['Social Support'] = le_Social_Support.fit_transform(data['Social Support'])\n",
        "data['Lifestyle Factors'] = le_Lifestyle_Factors.fit_transform(data['Lifestyle Factors'])\n",
        "\n",
        "print(data)\n"
      ],
      "metadata": {
        "colab": {
          "base_uri": "https://localhost:8080/"
        },
        "id": "UlH_Ou_Sm_nK",
        "outputId": "125071d7-51ed-4035-b320-80d8c7fb46cf"
      },
      "execution_count": 6,
      "outputs": [
        {
          "output_type": "stream",
          "name": "stdout",
          "text": [
            "       Age  Gender  Family History  Personal History  Current Stressors  \\\n",
            "0       38       1               0                 1                  2   \n",
            "1       51       1               0                 0                  0   \n",
            "2       32       0               1                 0                  0   \n",
            "3       64       0               0                 0                  2   \n",
            "4       31       1               1                 0                  2   \n",
            "...    ...     ...             ...               ...                ...   \n",
            "99995   22       1               1                 0                  0   \n",
            "99996   57       0               0                 1                  1   \n",
            "99997   20       1               1                 0                  2   \n",
            "99998   56       0               1                 1                  0   \n",
            "99999   18       1               0                 0                  1   \n",
            "\n",
            "       Symptoms  Severity  Impact on Life  Demographics  Medical History  \\\n",
            "0             4         0               0             0                1   \n",
            "1             3         0               0             1                0   \n",
            "2             3         0               2             1                1   \n",
            "3             0         1               1             0                1   \n",
            "4             3         0               1             0                0   \n",
            "...         ...       ...             ...           ...              ...   \n",
            "99995         0         0               0             0                2   \n",
            "99996         3         2               0             0                2   \n",
            "99997         3         2               1             0                2   \n",
            "99998         0         2               0             0                1   \n",
            "99999         3         2               0             0                1   \n",
            "\n",
            "       Psychiatric History  Substance Use  Coping Mechanisms  Social Support  \\\n",
            "0                        1              2                  3               0   \n",
            "1                        0              1                  0               0   \n",
            "2                        2              2                  2               2   \n",
            "3                        3              2                  1               0   \n",
            "4                        3              1                  2               1   \n",
            "...                    ...            ...                ...             ...   \n",
            "99995                    3              2                  3               1   \n",
            "99996                    2              2                  1               0   \n",
            "99997                    1              2                  2               1   \n",
            "99998                    0              1                  3               0   \n",
            "99999                    3              2                  1               2   \n",
            "\n",
            "       Lifestyle Factors  \n",
            "0                      2  \n",
            "1                      2  \n",
            "2                      1  \n",
            "3                      1  \n",
            "4                      2  \n",
            "...                  ...  \n",
            "99995                  0  \n",
            "99996                  0  \n",
            "99997                  1  \n",
            "99998                  2  \n",
            "99999                  1  \n",
            "\n",
            "[100000 rows x 15 columns]\n"
          ]
        }
      ]
    },
    {
      "cell_type": "code",
      "source": [
        "# Escalar los datos para que tengan media 0 y varianza 1\n",
        "scaler = StandardScaler()\n",
        "data_scaled = scaler.fit_transform(data)\n",
        "\n",
        "# Mostrar el DataFrame resultante\n",
        "print(data_scaled)"
      ],
      "metadata": {
        "colab": {
          "base_uri": "https://localhost:8080/"
        },
        "id": "owK_3qWpr7OX",
        "outputId": "4cff582e-1915-46ea-dad1-a6163e608647"
      },
      "execution_count": 7,
      "outputs": [
        {
          "output_type": "stream",
          "name": "stdout",
          "text": [
            "[[-2.49603754e-01  9.98960540e-01 -1.00084035e+00 ...  1.33697126e+00\n",
            "  -1.22224446e+00  1.23035861e+00]\n",
            " [ 6.89761329e-01  9.98960540e-01 -1.00084035e+00 ... -1.34551947e+00\n",
            "  -1.22224446e+00  1.23035861e+00]\n",
            " [-6.83156870e-01 -1.00104054e+00  9.99160353e-01 ...  4.42807686e-01\n",
            "   1.22469140e+00  3.17839675e-03]\n",
            " ...\n",
            " [-1.55026310e+00  9.98960540e-01  9.99160353e-01 ...  4.42807686e-01\n",
            "   1.22346793e-03  3.17839675e-03]\n",
            " [ 1.05105559e+00 -1.00104054e+00  9.99160353e-01 ...  1.33697126e+00\n",
            "  -1.22224446e+00  1.23035861e+00]\n",
            " [-1.69478081e+00  9.98960540e-01 -1.00084035e+00 ... -4.51355890e-01\n",
            "   1.22469140e+00  3.17839675e-03]]\n"
          ]
        }
      ]
    },
    {
      "cell_type": "code",
      "source": [
        "import numpy as np\n",
        "from sklearn.decomposition import PCA\n",
        "pca = PCA(n_components=15)\n",
        "pca = pca.fit(data_scaled)\n",
        "\n",
        "explained_variance = pca.explained_variance_\n",
        "print('Varianza por cada componente: ')\n",
        "print(explained_variance)\n",
        "\n",
        "#Varianza acumulada\n",
        "PVE = pca.explained_variance_ratio_\n",
        "print('Proporcion de Varianza Explicada por cada componente: ')\n",
        "print(PVE)\n",
        "\n",
        "#Criterio de varianza explicada\n",
        "np.cumsum(pca.explained_variance_ratio_)"
      ],
      "metadata": {
        "colab": {
          "base_uri": "https://localhost:8080/"
        },
        "id": "BXt9cQMQr7Fl",
        "outputId": "776f3292-72bb-4f46-fa89-388b3437961b"
      },
      "execution_count": 11,
      "outputs": [
        {
          "output_type": "stream",
          "name": "stdout",
          "text": [
            "Varianza por cada componente: \n",
            "[1.02074694 1.01878734 1.0133823  1.01189649 1.00886917 1.0055589\n",
            " 1.0011809  1.00063039 0.99791385 0.9945246  0.99092836 0.99047702\n",
            " 0.986627   0.98149992 0.97712681]\n",
            "Proporcion de Varianza Explicada por cada componente: \n",
            "[0.06804912 0.06791848 0.06755814 0.06745909 0.06725727 0.06703659\n",
            " 0.06674473 0.06670803 0.06652692 0.06630098 0.06606123 0.06603114\n",
            " 0.06577448 0.06543267 0.06514114]\n"
          ]
        },
        {
          "output_type": "execute_result",
          "data": {
            "text/plain": [
              "array([0.06804912, 0.13596759, 0.20352574, 0.27098483, 0.3382421 ,\n",
              "       0.40527869, 0.47202342, 0.53873144, 0.60525837, 0.67155934,\n",
              "       0.73762057, 0.80365171, 0.86942619, 0.93485886, 1.        ])"
            ]
          },
          "metadata": {},
          "execution_count": 11
        }
      ]
    },
    {
      "cell_type": "code",
      "source": [
        "import matplotlib.pyplot as plt\n",
        "plt.figure(figsize=(7,5))\n",
        "plt.plot([1,2,3,4,5,6,7,8,9,10,11,12,13,14,15], pca.explained_variance_ratio_, '-o')\n",
        "plt.ylabel('Proporcion de Var. Explicada')\n",
        "plt.xlabel('Componente principal')\n",
        "plt.xlim(0.75,4.25)\n",
        "plt.ylim(0,0.08)\n",
        "plt.xticks([1,2,3,4,5,6,7,8,9,10,11,12,13,14,15])\n",
        "plt.show()"
      ],
      "metadata": {
        "colab": {
          "base_uri": "https://localhost:8080/",
          "height": 470
        },
        "id": "wO4-UPK1sRnU",
        "outputId": "b08de24d-9f19-4f11-cf81-1f46eedd9a6e"
      },
      "execution_count": 16,
      "outputs": [
        {
          "output_type": "display_data",
          "data": {
            "text/plain": [
              "<Figure size 700x500 with 1 Axes>"
            ],
            "image/png": "[encoded data removed]"
          },
          "metadata": {}
        }
      ]
    },
    {
      "cell_type": "code",
      "source": [
        "import matplotlib.pyplot as plt\n",
        "plt.figure(figsize=(7,5))\n",
        "plt.plot([1,2,3,4,5,6,7,8,9,10,11,12,13,14,15], np.cumsum(pca.explained_variance_ratio_), '-o')\n",
        "plt.ylabel('Proporcion de Var. Explicada')\n",
        "plt.xlabel('Componente principal')\n",
        "plt.xlim(0.75,4.25)\n",
        "plt.ylim(0,1.05)\n",
        "plt.xticks([1,2,3,4,5,6,7,8,9,10,11,12,13,14,15])\n",
        "plt.show()"
      ],
      "metadata": {
        "colab": {
          "base_uri": "https://localhost:8080/",
          "height": 465
        },
        "id": "nkvMYaBntLF9",
        "outputId": "65b97bf8-01ec-4198-a6ae-cefa90d2af82"
      },
      "execution_count": 13,
      "outputs": [
        {
          "output_type": "display_data",
          "data": {
            "text/plain": [
              "<Figure size 700x500 with 1 Axes>"
            ],
            "image/png": "[encoded data removed]"
          },
          "metadata": {}
        }
      ]
    },
    {
      "cell_type": "code",
      "source": [
        "# Cargar el conjunto de datos desde un archivo CSV\n",
        "dataTest = pd.read_csv('/content/drive/MyDrive/Dataset_no_supervisado/2do_Parcial/panic_disorder_dataset_training.csv')\n",
        "dataTest = dataTest.drop(['Participant ID'], axis=1)\n",
        "\n",
        "# Crear un codificador para cada columna\n",
        "le_symptoms = LabelEncoder()\n",
        "le_impact_life = LabelEncoder()\n",
        "le_psychiatric_history = LabelEncoder()\n",
        "le_Family_History = LabelEncoder()\n",
        "le_Personal_History = LabelEncoder()\n",
        "le_Current_Stressors = LabelEncoder()\n",
        "le_Gender = LabelEncoder()\n",
        "le_Severity = LabelEncoder()\n",
        "le_Demographics = LabelEncoder()\n",
        "le_Medical_History = LabelEncoder()\n",
        "le_Substance_Use = LabelEncoder()\n",
        "le_Coping_Mechanisms = LabelEncoder()\n",
        "le_Social_Support = LabelEncoder()\n",
        "le_Lifestyle_Factors = LabelEncoder()\n",
        "\n",
        "# Aplicar el codificador a las columnas\n",
        "dataTest['Symptoms'] = le_symptoms.fit_transform(data['Symptoms'])\n",
        "dataTest['Impact on Life'] = le_impact_life.fit_transform(data['Impact on Life'])\n",
        "dataTest['Psychiatric History'] = le_psychiatric_history.fit_transform(data['Psychiatric History'].fillna('Unknown'))\n",
        "dataTest['Family History'] = le_Family_History.fit_transform(data['Family History'])\n",
        "dataTest['Personal History'] = le_Personal_History.fit_transform(data['Personal History'])\n",
        "dataTest['Current Stressors'] = le_Current_Stressors.fit_transform(data['Current Stressors'])\n",
        "dataTest['Gender'] = le_Gender.fit_transform(data['Gender'])\n",
        "dataTest['Severity'] = le_Severity.fit_transform(data['Severity'])\n",
        "dataTest['Demographics'] = le_Demographics.fit_transform(data['Demographics'])\n",
        "dataTest['Medical History'] = le_Medical_History.fit_transform(data['Medical History'])\n",
        "dataTest['Substance Use'] = le_Substance_Use.fit_transform(data['Substance Use'])\n",
        "dataTest['Coping Mechanisms'] = le_Coping_Mechanisms.fit_transform(data['Coping Mechanisms'])\n",
        "dataTest['Social Support'] = le_Social_Support.fit_transform(data['Social Support'])\n",
        "dataTest['Lifestyle Factors'] = le_Lifestyle_Factors.fit_transform(data['Lifestyle Factors'])"
      ],
      "metadata": {
        "id": "x3UIZCkUwbrL"
      },
      "execution_count": 23,
      "outputs": []
    },
    {
      "cell_type": "code",
      "source": [
        "# Escalar los datos para que tengan media 0 y varianza 1\n",
        "scaler = StandardScaler()\n",
        "data_scaled2 = scaler.fit_transform(dataTest)\n",
        "\n",
        "# Mostrar el DataFrame resultante\n",
        "print(data_scaled2)"
      ],
      "metadata": {
        "colab": {
          "base_uri": "https://localhost:8080/"
        },
        "id": "wyp01bfdw6-L",
        "outputId": "2670af99-a45c-46c3-a048-d13c95f1af3c"
      },
      "execution_count": 26,
      "outputs": [
        {
          "output_type": "stream",
          "name": "stdout",
          "text": [
            "[[-1.73203349e+00 -2.49603754e-01  9.98960540e-01 ... -1.22224446e+00\n",
            "   1.23035861e+00 -2.11585261e-01]\n",
            " [-1.73199885e+00  6.89761329e-01  9.98960540e-01 ... -1.22224446e+00\n",
            "   1.23035861e+00 -2.11585261e-01]\n",
            " [-1.73196421e+00 -6.83156870e-01 -1.00104054e+00 ...  1.22469140e+00\n",
            "   3.17839675e-03 -2.11585261e-01]\n",
            " ...\n",
            " [ 1.73196421e+00 -1.55026310e+00  9.98960540e-01 ...  1.22346793e-03\n",
            "   3.17839675e-03 -2.11585261e-01]\n",
            " [ 1.73199885e+00  1.05105559e+00 -1.00104054e+00 ... -1.22224446e+00\n",
            "   1.23035861e+00  4.72622713e+00]\n",
            " [ 1.73203349e+00 -1.69478081e+00  9.98960540e-01 ...  1.22469140e+00\n",
            "   3.17839675e-03 -2.11585261e-01]]\n"
          ]
        }
      ]
    },
    {
      "cell_type": "code",
      "source": [
        "from sklearn.cluster import KMeans\n",
        "\n",
        "# Definir el número de clusters deseado\n",
        "k = 2\n",
        "\n",
        "# Inicializar el modelo KMeans\n",
        "kmeans = KMeans(n_clusters=k, random_state=42)\n",
        "\n",
        "# Entrenar el modelo (sin utilizar etiquetas de cluster conocidas)\n",
        "kmeans.fit(data_scaled2)\n",
        "\n",
        "# Obtener las etiquetas predichas y los centroides de los clusters\n",
        "labels = kmeans.labels_\n",
        "centroids = kmeans.cluster_centers_\n",
        "\n",
        "print(labels)\n",
        "print(centroids)\n",
        "\n",
        "print(dataTest[('Panic Disorder Diagnosis')])"
      ],
      "metadata": {
        "colab": {
          "base_uri": "https://localhost:8080/"
        },
        "id": "bGzV5YZUvHqF",
        "outputId": "16463149-fed9-4797-e081-1f5dc6c24fa4"
      },
      "execution_count": 27,
      "outputs": [
        {
          "output_type": "stream",
          "name": "stderr",
          "text": [
            "/usr/local/lib/python3.10/dist-packages/sklearn/cluster/_kmeans.py:870: FutureWarning: The default value of `n_init` will change from 10 to 'auto' in 1.4. Set the value of `n_init` explicitly to suppress the warning\n",
            "  warnings.warn(\n"
          ]
        },
        {
          "output_type": "stream",
          "name": "stdout",
          "text": [
            "[0 1 1 ... 1 0 1]\n",
            "[[-4.05196630e-03  1.83734183e-03  9.72623384e-04  2.96229137e-02\n",
            "   9.50004342e-01 -1.69476757e-02  9.18865476e-03  9.05099463e-03\n",
            "   2.07316847e-02 -8.36220700e-03 -7.02643233e-03 -5.99374184e-03\n",
            "   4.88449355e-03  5.20444785e-03  4.40304538e-03  3.58379791e-02\n",
            "   2.01852926e-01]\n",
            " [ 4.24733178e-03 -1.92592923e-03 -1.01951840e-03 -3.10511819e-02\n",
            "  -9.95808783e-01  1.77648076e-02 -9.63168557e-03 -9.48738816e-03\n",
            "  -2.17312625e-02  8.76539065e-03  7.36521162e-03  6.28272998e-03\n",
            "  -5.11999931e-03 -5.45538020e-03 -4.61533812e-03 -3.75659066e-02\n",
            "  -2.11585261e-01]]\n",
            "0        0\n",
            "1        0\n",
            "2        0\n",
            "3        0\n",
            "4        0\n",
            "        ..\n",
            "99995    0\n",
            "99996    0\n",
            "99997    0\n",
            "99998    1\n",
            "99999    0\n",
            "Name: Panic Disorder Diagnosis, Length: 100000, dtype: int64\n"
          ]
        }
      ]
    },
    {
      "cell_type": "code",
      "source": [],
      "metadata": {
        "id": "sondmPweu_gc"
      },
      "execution_count": null,
      "outputs": []
    }
  ]
}